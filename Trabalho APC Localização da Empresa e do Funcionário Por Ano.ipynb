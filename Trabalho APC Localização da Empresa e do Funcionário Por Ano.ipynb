{
 "cells": [
  {
   "cell_type": "code",
   "execution_count": 22,
   "metadata": {},
   "outputs": [],
   "source": [
    "import numpy as np\n",
    "import pandas as pd\n",
    "import plotly.express as px\n",
    "\n",
    "\n",
    "\n",
    "df = pd.read_csv('https://raw.githubusercontent.com/IsaiasTy/salaries/main/salaries.csv')\n",
    "\n"
   ]
  },
  {
   "cell_type": "code",
   "execution_count": 23,
   "metadata": {},
   "outputs": [
    {
     "data": {
      "text/html": [
       "<div>\n",
       "<style scoped>\n",
       "    .dataframe tbody tr th:only-of-type {\n",
       "        vertical-align: middle;\n",
       "    }\n",
       "\n",
       "    .dataframe tbody tr th {\n",
       "        vertical-align: top;\n",
       "    }\n",
       "\n",
       "    .dataframe thead th {\n",
       "        text-align: right;\n",
       "    }\n",
       "</style>\n",
       "<table border=\"1\" class=\"dataframe\">\n",
       "  <thead>\n",
       "    <tr style=\"text-align: right;\">\n",
       "      <th></th>\n",
       "      <th>work_year</th>\n",
       "      <th>experience_level</th>\n",
       "      <th>employment_type</th>\n",
       "      <th>job_title</th>\n",
       "      <th>salary</th>\n",
       "      <th>salary_currency</th>\n",
       "      <th>salary_in_usd</th>\n",
       "      <th>employee_residence</th>\n",
       "      <th>remote_ratio</th>\n",
       "      <th>company_location</th>\n",
       "      <th>company_size</th>\n",
       "    </tr>\n",
       "  </thead>\n",
       "  <tbody>\n",
       "    <tr>\n",
       "      <th>0</th>\n",
       "      <td>2022</td>\n",
       "      <td>MI</td>\n",
       "      <td>FT</td>\n",
       "      <td>Machine Learning Engineer</td>\n",
       "      <td>130000</td>\n",
       "      <td>USD</td>\n",
       "      <td>130000</td>\n",
       "      <td>US</td>\n",
       "      <td>0</td>\n",
       "      <td>US</td>\n",
       "      <td>M</td>\n",
       "    </tr>\n",
       "    <tr>\n",
       "      <th>1</th>\n",
       "      <td>2022</td>\n",
       "      <td>MI</td>\n",
       "      <td>FT</td>\n",
       "      <td>Machine Learning Engineer</td>\n",
       "      <td>90000</td>\n",
       "      <td>USD</td>\n",
       "      <td>90000</td>\n",
       "      <td>US</td>\n",
       "      <td>0</td>\n",
       "      <td>US</td>\n",
       "      <td>M</td>\n",
       "    </tr>\n",
       "    <tr>\n",
       "      <th>2</th>\n",
       "      <td>2022</td>\n",
       "      <td>MI</td>\n",
       "      <td>FT</td>\n",
       "      <td>Data Scientist</td>\n",
       "      <td>120000</td>\n",
       "      <td>USD</td>\n",
       "      <td>120000</td>\n",
       "      <td>US</td>\n",
       "      <td>100</td>\n",
       "      <td>US</td>\n",
       "      <td>M</td>\n",
       "    </tr>\n",
       "    <tr>\n",
       "      <th>3</th>\n",
       "      <td>2022</td>\n",
       "      <td>MI</td>\n",
       "      <td>FT</td>\n",
       "      <td>Data Scientist</td>\n",
       "      <td>100000</td>\n",
       "      <td>USD</td>\n",
       "      <td>100000</td>\n",
       "      <td>US</td>\n",
       "      <td>100</td>\n",
       "      <td>US</td>\n",
       "      <td>M</td>\n",
       "    </tr>\n",
       "    <tr>\n",
       "      <th>4</th>\n",
       "      <td>2022</td>\n",
       "      <td>MI</td>\n",
       "      <td>FT</td>\n",
       "      <td>Data Scientist</td>\n",
       "      <td>85000</td>\n",
       "      <td>USD</td>\n",
       "      <td>85000</td>\n",
       "      <td>US</td>\n",
       "      <td>100</td>\n",
       "      <td>US</td>\n",
       "      <td>M</td>\n",
       "    </tr>\n",
       "  </tbody>\n",
       "</table>\n",
       "</div>"
      ],
      "text/plain": [
       "   work_year experience_level employment_type                  job_title  \\\n",
       "0       2022               MI              FT  Machine Learning Engineer   \n",
       "1       2022               MI              FT  Machine Learning Engineer   \n",
       "2       2022               MI              FT             Data Scientist   \n",
       "3       2022               MI              FT             Data Scientist   \n",
       "4       2022               MI              FT             Data Scientist   \n",
       "\n",
       "   salary salary_currency  salary_in_usd employee_residence  remote_ratio  \\\n",
       "0  130000             USD         130000                 US             0   \n",
       "1   90000             USD          90000                 US             0   \n",
       "2  120000             USD         120000                 US           100   \n",
       "3  100000             USD         100000                 US           100   \n",
       "4   85000             USD          85000                 US           100   \n",
       "\n",
       "  company_location company_size  \n",
       "0               US            M  \n",
       "1               US            M  \n",
       "2               US            M  \n",
       "3               US            M  \n",
       "4               US            M  "
      ]
     },
     "execution_count": 23,
     "metadata": {},
     "output_type": "execute_result"
    }
   ],
   "source": [
    "df.head()"
   ]
  },
  {
   "cell_type": "code",
   "execution_count": 24,
   "metadata": {},
   "outputs": [
    {
     "data": {
      "text/html": [
       "<div>\n",
       "<style scoped>\n",
       "    .dataframe tbody tr th:only-of-type {\n",
       "        vertical-align: middle;\n",
       "    }\n",
       "\n",
       "    .dataframe tbody tr th {\n",
       "        vertical-align: top;\n",
       "    }\n",
       "\n",
       "    .dataframe thead th {\n",
       "        text-align: right;\n",
       "    }\n",
       "</style>\n",
       "<table border=\"1\" class=\"dataframe\">\n",
       "  <thead>\n",
       "    <tr style=\"text-align: right;\">\n",
       "      <th></th>\n",
       "      <th>work_year</th>\n",
       "      <th>experience_level</th>\n",
       "      <th>employment_type</th>\n",
       "      <th>job_title</th>\n",
       "      <th>salary</th>\n",
       "      <th>salary_currency</th>\n",
       "      <th>salary_in_usd</th>\n",
       "      <th>employee_residence</th>\n",
       "      <th>remote_ratio</th>\n",
       "      <th>company_location</th>\n",
       "      <th>company_size</th>\n",
       "    </tr>\n",
       "  </thead>\n",
       "  <tbody>\n",
       "    <tr>\n",
       "      <th>1327</th>\n",
       "      <td>2020</td>\n",
       "      <td>SE</td>\n",
       "      <td>FT</td>\n",
       "      <td>Data Scientist</td>\n",
       "      <td>412000</td>\n",
       "      <td>USD</td>\n",
       "      <td>412000</td>\n",
       "      <td>US</td>\n",
       "      <td>100</td>\n",
       "      <td>US</td>\n",
       "      <td>L</td>\n",
       "    </tr>\n",
       "    <tr>\n",
       "      <th>1328</th>\n",
       "      <td>2021</td>\n",
       "      <td>MI</td>\n",
       "      <td>FT</td>\n",
       "      <td>Principal Data Scientist</td>\n",
       "      <td>151000</td>\n",
       "      <td>USD</td>\n",
       "      <td>151000</td>\n",
       "      <td>US</td>\n",
       "      <td>100</td>\n",
       "      <td>US</td>\n",
       "      <td>L</td>\n",
       "    </tr>\n",
       "    <tr>\n",
       "      <th>1329</th>\n",
       "      <td>2020</td>\n",
       "      <td>EN</td>\n",
       "      <td>FT</td>\n",
       "      <td>Data Scientist</td>\n",
       "      <td>105000</td>\n",
       "      <td>USD</td>\n",
       "      <td>105000</td>\n",
       "      <td>US</td>\n",
       "      <td>100</td>\n",
       "      <td>US</td>\n",
       "      <td>S</td>\n",
       "    </tr>\n",
       "    <tr>\n",
       "      <th>1330</th>\n",
       "      <td>2020</td>\n",
       "      <td>EN</td>\n",
       "      <td>CT</td>\n",
       "      <td>Business Data Analyst</td>\n",
       "      <td>100000</td>\n",
       "      <td>USD</td>\n",
       "      <td>100000</td>\n",
       "      <td>US</td>\n",
       "      <td>100</td>\n",
       "      <td>US</td>\n",
       "      <td>L</td>\n",
       "    </tr>\n",
       "    <tr>\n",
       "      <th>1331</th>\n",
       "      <td>2021</td>\n",
       "      <td>SE</td>\n",
       "      <td>FT</td>\n",
       "      <td>Data Science Manager</td>\n",
       "      <td>7000000</td>\n",
       "      <td>INR</td>\n",
       "      <td>94665</td>\n",
       "      <td>IN</td>\n",
       "      <td>50</td>\n",
       "      <td>IN</td>\n",
       "      <td>L</td>\n",
       "    </tr>\n",
       "  </tbody>\n",
       "</table>\n",
       "</div>"
      ],
      "text/plain": [
       "      work_year experience_level employment_type                 job_title  \\\n",
       "1327       2020               SE              FT            Data Scientist   \n",
       "1328       2021               MI              FT  Principal Data Scientist   \n",
       "1329       2020               EN              FT            Data Scientist   \n",
       "1330       2020               EN              CT     Business Data Analyst   \n",
       "1331       2021               SE              FT      Data Science Manager   \n",
       "\n",
       "       salary salary_currency  salary_in_usd employee_residence  remote_ratio  \\\n",
       "1327   412000             USD         412000                 US           100   \n",
       "1328   151000             USD         151000                 US           100   \n",
       "1329   105000             USD         105000                 US           100   \n",
       "1330   100000             USD         100000                 US           100   \n",
       "1331  7000000             INR          94665                 IN            50   \n",
       "\n",
       "     company_location company_size  \n",
       "1327               US            L  \n",
       "1328               US            L  \n",
       "1329               US            S  \n",
       "1330               US            L  \n",
       "1331               IN            L  "
      ]
     },
     "execution_count": 24,
     "metadata": {},
     "output_type": "execute_result"
    }
   ],
   "source": [
    "df.tail()"
   ]
  },
  {
   "cell_type": "code",
   "execution_count": 25,
   "metadata": {},
   "outputs": [],
   "source": [
    "lista_Anos = df.work_year.values.tolist()\n",
    "\n",
    "lista_salario_anual_dolar = df.salary_in_usd.values.tolist()\n",
    "\n",
    "lista_localização_da_empresa = df.company_location.values.tolist()\n",
    "\n",
    "lista_tipo_emprego = df.job_title.values.tolist()\n",
    "\n",
    "lista_localização_do_funcionario = df.employee_residence"
   ]
  },
  {
   "cell_type": "code",
   "execution_count": 28,
   "metadata": {},
   "outputs": [
    {
     "data": {
      "application/vnd.plotly.v1+json": {
       "config": {
        "plotlyServerURL": "https://plot.ly"
       },
       "data": [
        {
         "hovertemplate": "Tipo de Emprego=Machine Learning Engineer<br>Anos de trabalho=%{x}<br>Localização Da Empresa=%{y}<extra></extra>",
         "legendgroup": "Machine Learning Engineer",
         "marker": {
          "color": "#636efa",
          "symbol": "circle"
         },
         "mode": "markers",
         "name": "Machine Learning Engineer",
         "showlegend": true,
         "type": "scattergl",
         "x": [
          2022,
          2022,
          2022,
          2022,
          2022,
          2022,
          2022,
          2022,
          2022,
          2022,
          2022,
          2022,
          2022,
          2022,
          2022,
          2022,
          2022,
          2022,
          2022,
          2022,
          2022,
          2022,
          2022,
          2022,
          2022,
          2022,
          2022,
          2022,
          2022,
          2022,
          2022,
          2022,
          2022,
          2022,
          2022,
          2022,
          2022,
          2022,
          2022,
          2022,
          2022,
          2022,
          2022,
          2022,
          2022,
          2022,
          2022,
          2022,
          2022,
          2022,
          2022,
          2022,
          2022,
          2021,
          2022,
          2022,
          2022,
          2022,
          2022,
          2022,
          2022,
          2022,
          2022,
          2022,
          2021,
          2021,
          2021,
          2021,
          2020,
          2020,
          2021,
          2021,
          2020,
          2021,
          2021,
          2021,
          2021,
          2021,
          2021,
          2021,
          2021,
          2020,
          2021,
          2021,
          2021,
          2020
         ],
         "xaxis": "x",
         "y": [
          "US",
          "US",
          "CA",
          "CA",
          "US",
          "US",
          "US",
          "US",
          "US",
          "US",
          "US",
          "CA",
          "CA",
          "US",
          "US",
          "PR",
          "PR",
          "US",
          "US",
          "FI",
          "GB",
          "US",
          "US",
          "US",
          "US",
          "US",
          "US",
          "US",
          "US",
          "US",
          "US",
          "GB",
          "US",
          "US",
          "US",
          "US",
          "US",
          "US",
          "US",
          "GB",
          "US",
          "US",
          "US",
          "US",
          "US",
          "GB",
          "GB",
          "DE",
          "US",
          "US",
          "GB",
          "US",
          "US",
          "IT",
          "US",
          "US",
          "US",
          "US",
          "AE",
          "AE",
          "US",
          "IE",
          "AU",
          "NL",
          "IN",
          "BE",
          "US",
          "ES",
          "US",
          "US",
          "DE",
          "US",
          "US",
          "DE",
          "IN",
          "DE",
          "IN",
          "CO",
          "US",
          "PL",
          "BE",
          "CN",
          "SI",
          "US",
          "JP",
          "HR"
         ],
         "yaxis": "y"
        },
        {
         "hovertemplate": "Tipo de Emprego=Data Scientist<br>Anos de trabalho=%{x}<br>Localização Da Empresa=%{y}<extra></extra>",
         "legendgroup": "Data Scientist",
         "marker": {
          "color": "#EF553B",
          "symbol": "circle"
         },
         "mode": "markers",
         "name": "Data Scientist",
         "showlegend": true,
         "type": "scattergl",
         "x": [
          2022,
          2022,
          2022,
          2022,
          2022,
          2022,
          2022,
          2022,
          2022,
          2022,
          2022,
          2022,
          2022,
          2022,
          2022,
          2022,
          2022,
          2022,
          2022,
          2022,
          2022,
          2022,
          2022,
          2022,
          2022,
          2022,
          2022,
          2022,
          2022,
          2022,
          2022,
          2022,
          2022,
          2022,
          2022,
          2022,
          2022,
          2022,
          2022,
          2022,
          2022,
          2022,
          2022,
          2022,
          2022,
          2022,
          2022,
          2022,
          2022,
          2022,
          2022,
          2022,
          2022,
          2022,
          2022,
          2022,
          2022,
          2022,
          2022,
          2022,
          2022,
          2022,
          2022,
          2022,
          2022,
          2022,
          2022,
          2022,
          2022,
          2022,
          2022,
          2022,
          2022,
          2022,
          2022,
          2022,
          2022,
          2022,
          2022,
          2022,
          2022,
          2022,
          2022,
          2022,
          2022,
          2022,
          2022,
          2022,
          2022,
          2022,
          2022,
          2022,
          2022,
          2022,
          2022,
          2022,
          2022,
          2022,
          2022,
          2022,
          2022,
          2022,
          2022,
          2022,
          2022,
          2022,
          2022,
          2022,
          2022,
          2022,
          2022,
          2022,
          2022,
          2022,
          2022,
          2022,
          2022,
          2022,
          2022,
          2022,
          2022,
          2022,
          2022,
          2022,
          2022,
          2022,
          2022,
          2022,
          2022,
          2022,
          2022,
          2022,
          2022,
          2022,
          2022,
          2022,
          2022,
          2022,
          2022,
          2022,
          2022,
          2022,
          2022,
          2022,
          2022,
          2022,
          2022,
          2022,
          2022,
          2022,
          2022,
          2022,
          2022,
          2022,
          2022,
          2022,
          2022,
          2022,
          2022,
          2022,
          2022,
          2022,
          2022,
          2022,
          2022,
          2022,
          2022,
          2022,
          2022,
          2022,
          2022,
          2022,
          2022,
          2022,
          2022,
          2022,
          2022,
          2022,
          2022,
          2022,
          2022,
          2022,
          2022,
          2022,
          2022,
          2022,
          2022,
          2022,
          2022,
          2022,
          2022,
          2022,
          2022,
          2022,
          2022,
          2022,
          2022,
          2022,
          2022,
          2022,
          2022,
          2020,
          2022,
          2022,
          2022,
          2022,
          2022,
          2022,
          2022,
          2022,
          2022,
          2022,
          2022,
          2022,
          2022,
          2022,
          2022,
          2022,
          2022,
          2022,
          2022,
          2022,
          2022,
          2022,
          2022,
          2022,
          2022,
          2022,
          2022,
          2022,
          2022,
          2022,
          2022,
          2022,
          2022,
          2022,
          2022,
          2022,
          2022,
          2022,
          2022,
          2022,
          2022,
          2022,
          2022,
          2022,
          2022,
          2022,
          2022,
          2022,
          2022,
          2022,
          2022,
          2022,
          2022,
          2022,
          2022,
          2022,
          2022,
          2022,
          2022,
          2022,
          2022,
          2022,
          2022,
          2022,
          2021,
          2022,
          2022,
          2022,
          2022,
          2022,
          2022,
          2022,
          2022,
          2022,
          2021,
          2022,
          2022,
          2022,
          2021,
          2022,
          2021,
          2021,
          2021,
          2020,
          2021,
          2021,
          2021,
          2021,
          2020,
          2021,
          2020,
          2021,
          2020,
          2021,
          2021,
          2021,
          2021,
          2021,
          2020,
          2021,
          2021,
          2021,
          2021,
          2021,
          2021,
          2020,
          2021,
          2021,
          2020,
          2020,
          2020,
          2021,
          2021,
          2021,
          2021,
          2021,
          2021,
          2021,
          2021,
          2021,
          2021,
          2021,
          2021,
          2020,
          2020,
          2021,
          2020,
          2020,
          2021,
          2021,
          2020,
          2021,
          2021,
          2020,
          2020,
          2021,
          2021,
          2020,
          2020,
          2021,
          2020,
          2020
         ],
         "xaxis": "x",
         "y": [
          "US",
          "US",
          "US",
          "US",
          "US",
          "US",
          "ES",
          "ES",
          "US",
          "US",
          "US",
          "US",
          "US",
          "US",
          "GB",
          "FR",
          "US",
          "US",
          "US",
          "US",
          "US",
          "US",
          "US",
          "US",
          "US",
          "US",
          "US",
          "US",
          "US",
          "US",
          "MX",
          "BR",
          "BR",
          "US",
          "CA",
          "GB",
          "US",
          "US",
          "US",
          "US",
          "US",
          "US",
          "US",
          "US",
          "US",
          "US",
          "US",
          "US",
          "US",
          "US",
          "US",
          "US",
          "US",
          "US",
          "US",
          "US",
          "US",
          "US",
          "US",
          "US",
          "US",
          "US",
          "US",
          "US",
          "US",
          "US",
          "US",
          "US",
          "ES",
          "ES",
          "US",
          "US",
          "AU",
          "US",
          "US",
          "US",
          "DE",
          "US",
          "US",
          "TR",
          "US",
          "US",
          "US",
          "US",
          "US",
          "US",
          "US",
          "US",
          "US",
          "US",
          "US",
          "US",
          "US",
          "US",
          "US",
          "US",
          "US",
          "US",
          "US",
          "US",
          "US",
          "US",
          "US",
          "US",
          "US",
          "US",
          "US",
          "US",
          "US",
          "US",
          "GB",
          "IN",
          "US",
          "US",
          "US",
          "US",
          "US",
          "US",
          "US",
          "US",
          "US",
          "US",
          "US",
          "US",
          "US",
          "US",
          "NL",
          "DE",
          "US",
          "US",
          "US",
          "US",
          "US",
          "US",
          "US",
          "US",
          "US",
          "US",
          "US",
          "US",
          "US",
          "US",
          "US",
          "US",
          "US",
          "US",
          "US",
          "US",
          "ES",
          "US",
          "US",
          "GB",
          "GB",
          "US",
          "US",
          "US",
          "US",
          "US",
          "US",
          "US",
          "US",
          "US",
          "US",
          "US",
          "US",
          "US",
          "US",
          "NL",
          "US",
          "FR",
          "US",
          "US",
          "US",
          "US",
          "NL",
          "NL",
          "US",
          "US",
          "US",
          "US",
          "BE",
          "BR",
          "US",
          "US",
          "ID",
          "GB",
          "BE",
          "US",
          "US",
          "DE",
          "GB",
          "US",
          "US",
          "US",
          "US",
          "TR",
          "US",
          "US",
          "US",
          "US",
          "US",
          "DE",
          "US",
          "US",
          "US",
          "US",
          "US",
          "US",
          "US",
          "US",
          "GB",
          "GB",
          "US",
          "US",
          "GB",
          "GB",
          "US",
          "US",
          "US",
          "US",
          "US",
          "US",
          "US",
          "US",
          "GB",
          "GB",
          "US",
          "US",
          "US",
          "US",
          "US",
          "US",
          "US",
          "US",
          "US",
          "US",
          "US",
          "US",
          "US",
          "US",
          "US",
          "US",
          "US",
          "US",
          "US",
          "US",
          "US",
          "US",
          "US",
          "US",
          "US",
          "US",
          "US",
          "US",
          "US",
          "US",
          "US",
          "US",
          "GB",
          "GB",
          "US",
          "US",
          "US",
          "US",
          "IN",
          "IN",
          "US",
          "CA",
          "CA",
          "US",
          "MY",
          "AU",
          "US",
          "US",
          "PL",
          "US",
          "US",
          "CH",
          "US",
          "US",
          "US",
          "DZ",
          "US",
          "FR",
          "IN",
          "US",
          "UA",
          "CA",
          "US",
          "NG",
          "US",
          "FR",
          "GB",
          "IN",
          "US",
          "IN",
          "US",
          "FR",
          "US",
          "CA",
          "DE",
          "TR",
          "US",
          "US",
          "FR",
          "DE",
          "IN",
          "HU",
          "US",
          "US",
          "FR",
          "IN",
          "FR",
          "DE",
          "US",
          "CL",
          "MX",
          "AT",
          "ES",
          "GB",
          "IN",
          "GB",
          "DE",
          "US",
          "BR",
          "FR",
          "DE",
          "DE",
          "IT",
          "US",
          "CA",
          "US",
          "ES",
          "ES",
          "VN",
          "AT",
          "LU",
          "US",
          "US",
          "US",
          "US",
          "IL",
          "US",
          "US"
         ],
         "yaxis": "y"
        },
        {
         "hovertemplate": "Tipo de Emprego=Data Engineer<br>Anos de trabalho=%{x}<br>Localização Da Empresa=%{y}<extra></extra>",
         "legendgroup": "Data Engineer",
         "marker": {
          "color": "#00cc96",
          "symbol": "circle"
         },
         "mode": "markers",
         "name": "Data Engineer",
         "showlegend": true,
         "type": "scattergl",
         "x": [
          2022,
          2022,
          2022,
          2022,
          2022,
          2022,
          2022,
          2022,
          2022,
          2022,
          2022,
          2022,
          2022,
          2022,
          2022,
          2022,
          2022,
          2022,
          2022,
          2022,
          2022,
          2022,
          2022,
          2022,
          2022,
          2022,
          2022,
          2022,
          2022,
          2022,
          2022,
          2022,
          2022,
          2022,
          2022,
          2022,
          2022,
          2022,
          2022,
          2022,
          2022,
          2022,
          2022,
          2022,
          2022,
          2022,
          2021,
          2022,
          2022,
          2022,
          2022,
          2022,
          2022,
          2022,
          2022,
          2022,
          2022,
          2022,
          2022,
          2022,
          2022,
          2022,
          2022,
          2022,
          2022,
          2022,
          2022,
          2022,
          2022,
          2022,
          2022,
          2022,
          2022,
          2022,
          2022,
          2022,
          2022,
          2022,
          2022,
          2022,
          2022,
          2022,
          2022,
          2022,
          2022,
          2022,
          2022,
          2022,
          2022,
          2022,
          2022,
          2022,
          2022,
          2022,
          2022,
          2022,
          2022,
          2022,
          2022,
          2022,
          2022,
          2022,
          2022,
          2022,
          2022,
          2022,
          2022,
          2022,
          2022,
          2022,
          2022,
          2022,
          2022,
          2022,
          2022,
          2022,
          2022,
          2021,
          2022,
          2022,
          2022,
          2022,
          2022,
          2022,
          2022,
          2022,
          2022,
          2022,
          2022,
          2022,
          2022,
          2022,
          2022,
          2022,
          2022,
          2022,
          2022,
          2022,
          2022,
          2022,
          2022,
          2022,
          2022,
          2022,
          2022,
          2022,
          2022,
          2022,
          2022,
          2022,
          2022,
          2022,
          2022,
          2022,
          2022,
          2022,
          2022,
          2022,
          2022,
          2022,
          2022,
          2022,
          2022,
          2022,
          2022,
          2022,
          2022,
          2022,
          2022,
          2022,
          2022,
          2022,
          2022,
          2022,
          2022,
          2022,
          2022,
          2022,
          2022,
          2020,
          2020,
          2022,
          2022,
          2022,
          2022,
          2022,
          2022,
          2022,
          2022,
          2022,
          2022,
          2022,
          2022,
          2022,
          2022,
          2022,
          2022,
          2022,
          2022,
          2022,
          2022,
          2022,
          2022,
          2022,
          2022,
          2022,
          2022,
          2022,
          2022,
          2022,
          2022,
          2022,
          2022,
          2022,
          2022,
          2022,
          2022,
          2022,
          2022,
          2022,
          2022,
          2022,
          2022,
          2022,
          2022,
          2022,
          2022,
          2022,
          2022,
          2022,
          2022,
          2022,
          2022,
          2022,
          2022,
          2022,
          2022,
          2022,
          2022,
          2022,
          2022,
          2022,
          2022,
          2022,
          2022,
          2022,
          2022,
          2022,
          2022,
          2022,
          2022,
          2022,
          2022,
          2022,
          2022,
          2022,
          2022,
          2022,
          2022,
          2022,
          2022,
          2022,
          2022,
          2022,
          2022,
          2022,
          2022,
          2022,
          2022,
          2022,
          2022,
          2022,
          2022,
          2022,
          2020,
          2022,
          2022,
          2022,
          2021,
          2021,
          2021,
          2021,
          2020,
          2021,
          2021,
          2021,
          2021,
          2021,
          2021,
          2020,
          2020,
          2021,
          2020,
          2021,
          2020,
          2020,
          2021,
          2021,
          2021,
          2021,
          2021,
          2021,
          2021,
          2021,
          2021,
          2021,
          2021,
          2021,
          2021,
          2021,
          2020,
          2020,
          2021,
          2021,
          2021,
          2020,
          2021,
          2021,
          2020,
          2021
         ],
         "xaxis": "x",
         "y": [
          "US",
          "US",
          "GB",
          "GB",
          "US",
          "US",
          "US",
          "US",
          "US",
          "US",
          "US",
          "US",
          "US",
          "US",
          "US",
          "US",
          "US",
          "US",
          "US",
          "US",
          "US",
          "US",
          "US",
          "US",
          "US",
          "US",
          "US",
          "US",
          "US",
          "US",
          "US",
          "US",
          "US",
          "US",
          "US",
          "US",
          "US",
          "US",
          "BR",
          "BR",
          "US",
          "US",
          "US",
          "US",
          "US",
          "US",
          "AU",
          "US",
          "US",
          "GB",
          "GB",
          "US",
          "US",
          "US",
          "US",
          "US",
          "US",
          "US",
          "US",
          "US",
          "US",
          "PT",
          "PT",
          "US",
          "US",
          "US",
          "US",
          "US",
          "US",
          "US",
          "US",
          "US",
          "US",
          "US",
          "US",
          "US",
          "US",
          "US",
          "US",
          "US",
          "US",
          "US",
          "US",
          "US",
          "US",
          "US",
          "US",
          "US",
          "US",
          "US",
          "US",
          "GB",
          "GB",
          "US",
          "US",
          "US",
          "US",
          "US",
          "US",
          "US",
          "US",
          "US",
          "US",
          "GB",
          "GB",
          "US",
          "US",
          "US",
          "US",
          "US",
          "US",
          "US",
          "US",
          "US",
          "US",
          "US",
          "US",
          "GB",
          "US",
          "US",
          "US",
          "US",
          "GR",
          "GR",
          "GB",
          "GB",
          "ES",
          "ES",
          "GB",
          "GB",
          "US",
          "US",
          "US",
          "CA",
          "CA",
          "US",
          "US",
          "US",
          "US",
          "US",
          "US",
          "US",
          "US",
          "GB",
          "GB",
          "PR",
          "PR",
          "US",
          "US",
          "US",
          "US",
          "US",
          "US",
          "US",
          "US",
          "US",
          "US",
          "US",
          "US",
          "US",
          "US",
          "US",
          "US",
          "US",
          "US",
          "US",
          "US",
          "US",
          "US",
          "GB",
          "GB",
          "US",
          "US",
          "US",
          "US",
          "GB",
          "GB",
          "US",
          "US",
          "IN",
          "IN",
          "US",
          "US",
          "US",
          "US",
          "GB",
          "GB",
          "DE",
          "GB",
          "GB",
          "US",
          "US",
          "US",
          "US",
          "US",
          "US",
          "US",
          "US",
          "US",
          "US",
          "ES",
          "ES",
          "GB",
          "GB",
          "GR",
          "GR",
          "GB",
          "GB",
          "ES",
          "ES",
          "GR",
          "GR",
          "GB",
          "GB",
          "US",
          "US",
          "US",
          "US",
          "US",
          "US",
          "GB",
          "GB",
          "US",
          "US",
          "US",
          "US",
          "US",
          "US",
          "GB",
          "GB",
          "GB",
          "GB",
          "US",
          "US",
          "US",
          "US",
          "US",
          "US",
          "US",
          "US",
          "US",
          "US",
          "US",
          "US",
          "US",
          "US",
          "US",
          "US",
          "US",
          "US",
          "US",
          "US",
          "US",
          "US",
          "US",
          "US",
          "US",
          "US",
          "US",
          "US",
          "US",
          "US",
          "US",
          "US",
          "US",
          "US",
          "US",
          "US",
          "US",
          "US",
          "DE",
          "US",
          "US",
          "US",
          "DE",
          "DE",
          "FR",
          "US",
          "US",
          "US",
          "GB",
          "US",
          "AT",
          "US",
          "PL",
          "US",
          "IN",
          "US",
          "US",
          "US",
          "GB",
          "US",
          "US",
          "US",
          "FR",
          "MX",
          "GB",
          "TR",
          "GB",
          "IN",
          "US",
          "US",
          "NL",
          "US",
          "DE",
          "TR",
          "US",
          "US",
          "IR",
          "US",
          "JP",
          "GR",
          "GB",
          "US",
          "US",
          "US",
          "GB",
          "NL",
          "US",
          "MT"
         ],
         "yaxis": "y"
        },
        {
         "hovertemplate": "Tipo de Emprego=Head of Data<br>Anos de trabalho=%{x}<br>Localização Da Empresa=%{y}<extra></extra>",
         "legendgroup": "Head of Data",
         "marker": {
          "color": "#ab63fa",
          "symbol": "circle"
         },
         "mode": "markers",
         "name": "Head of Data",
         "showlegend": true,
         "type": "scattergl",
         "x": [
          2022,
          2022,
          2021,
          2022,
          2022,
          2021,
          2021
         ],
         "xaxis": "x",
         "y": [
          "US",
          "US",
          "SI",
          "US",
          "EE",
          "RU",
          "US"
         ],
         "yaxis": "y"
        },
        {
         "hovertemplate": "Tipo de Emprego=Data Analyst<br>Anos de trabalho=%{x}<br>Localização Da Empresa=%{y}<extra></extra>",
         "legendgroup": "Data Analyst",
         "marker": {
          "color": "#FFA15A",
          "symbol": "circle"
         },
         "mode": "markers",
         "name": "Data Analyst",
         "showlegend": true,
         "type": "scattergl",
         "x": [
          2022,
          2022,
          2022,
          2022,
          2022,
          2022,
          2022,
          2022,
          2022,
          2022,
          2022,
          2022,
          2022,
          2022,
          2022,
          2022,
          2022,
          2022,
          2022,
          2022,
          2022,
          2022,
          2022,
          2022,
          2022,
          2022,
          2022,
          2022,
          2022,
          2022,
          2022,
          2022,
          2022,
          2022,
          2022,
          2022,
          2022,
          2022,
          2022,
          2022,
          2022,
          2022,
          2022,
          2022,
          2022,
          2021,
          2022,
          2022,
          2022,
          2022,
          2022,
          2022,
          2022,
          2022,
          2022,
          2022,
          2022,
          2022,
          2022,
          2022,
          2022,
          2022,
          2022,
          2021,
          2022,
          2022,
          2022,
          2022,
          2022,
          2022,
          2022,
          2022,
          2022,
          2022,
          2022,
          2022,
          2022,
          2022,
          2022,
          2022,
          2022,
          2022,
          2022,
          2022,
          2022,
          2022,
          2022,
          2022,
          2022,
          2020,
          2022,
          2022,
          2022,
          2022,
          2022,
          2022,
          2022,
          2022,
          2022,
          2022,
          2022,
          2022,
          2022,
          2022,
          2022,
          2022,
          2022,
          2022,
          2022,
          2022,
          2022,
          2022,
          2022,
          2022,
          2022,
          2022,
          2022,
          2022,
          2022,
          2022,
          2022,
          2022,
          2022,
          2022,
          2022,
          2022,
          2022,
          2022,
          2022,
          2022,
          2022,
          2022,
          2022,
          2022,
          2022,
          2022,
          2022,
          2022,
          2022,
          2022,
          2022,
          2022,
          2022,
          2022,
          2022,
          2022,
          2022,
          2022,
          2022,
          2022,
          2022,
          2022,
          2022,
          2022,
          2022,
          2022,
          2022,
          2022,
          2022,
          2022,
          2022,
          2022,
          2022,
          2022,
          2022,
          2022,
          2021,
          2021,
          2021,
          2021,
          2020,
          2021,
          2021,
          2021,
          2021,
          2020,
          2021,
          2021,
          2021,
          2020,
          2020,
          2021,
          2021,
          2020,
          2021,
          2021,
          2020,
          2020,
          2021,
          2021
         ],
         "xaxis": "x",
         "y": [
          "US",
          "US",
          "US",
          "US",
          "US",
          "US",
          "US",
          "US",
          "US",
          "US",
          "US",
          "US",
          "US",
          "US",
          "US",
          "US",
          "US",
          "US",
          "US",
          "US",
          "ES",
          "ES",
          "US",
          "US",
          "US",
          "US",
          "US",
          "US",
          "US",
          "US",
          "US",
          "US",
          "US",
          "US",
          "US",
          "US",
          "US",
          "US",
          "US",
          "US",
          "US",
          "US",
          "ES",
          "ES",
          "US",
          "AU",
          "US",
          "US",
          "US",
          "US",
          "US",
          "ES",
          "ES",
          "US",
          "US",
          "BR",
          "US",
          "US",
          "US",
          "IN",
          "US",
          "US",
          "US",
          "PH",
          "US",
          "US",
          "US",
          "US",
          "GB",
          "GB",
          "US",
          "US",
          "IN",
          "AR",
          "US",
          "US",
          "US",
          "US",
          "US",
          "FR",
          "US",
          "US",
          "US",
          "US",
          "US",
          "US",
          "SG",
          "US",
          "US",
          "PT",
          "ID",
          "US",
          "US",
          "US",
          "US",
          "US",
          "US",
          "US",
          "US",
          "US",
          "US",
          "GB",
          "GB",
          "ES",
          "ES",
          "GR",
          "GR",
          "US",
          "US",
          "US",
          "US",
          "US",
          "US",
          "US",
          "US",
          "US",
          "US",
          "US",
          "US",
          "US",
          "US",
          "US",
          "US",
          "CA",
          "CA",
          "CA",
          "CA",
          "US",
          "US",
          "US",
          "US",
          "US",
          "US",
          "US",
          "US",
          "US",
          "US",
          "US",
          "US",
          "CA",
          "CA",
          "US",
          "US",
          "GB",
          "GB",
          "US",
          "US",
          "US",
          "US",
          "CA",
          "CA",
          "US",
          "US",
          "US",
          "US",
          "US",
          "US",
          "US",
          "US",
          "US",
          "US",
          "US",
          "US",
          "US",
          "US",
          "GR",
          "US",
          "US",
          "ES",
          "US",
          "FR",
          "US",
          "US",
          "FR",
          "US",
          "NG",
          "US",
          "GB",
          "US",
          "IN",
          "US",
          "US",
          "US",
          "US",
          "DE",
          "CA",
          "US",
          "PK",
          "US",
          "US"
         ],
         "yaxis": "y"
        },
        {
         "hovertemplate": "Tipo de Emprego=BI Analyst<br>Anos de trabalho=%{x}<br>Localização Da Empresa=%{y}<extra></extra>",
         "legendgroup": "BI Analyst",
         "marker": {
          "color": "#19d3f3",
          "symbol": "circle"
         },
         "mode": "markers",
         "name": "BI Analyst",
         "showlegend": true,
         "type": "scattergl",
         "x": [
          2022,
          2022,
          2022,
          2022
         ],
         "xaxis": "x",
         "y": [
          "US",
          "BR",
          "BR",
          "NG"
         ],
         "yaxis": "y"
        },
        {
         "hovertemplate": "Tipo de Emprego=Analytics Engineer<br>Anos de trabalho=%{x}<br>Localização Da Empresa=%{y}<extra></extra>",
         "legendgroup": "Analytics Engineer",
         "marker": {
          "color": "#FF6692",
          "symbol": "circle"
         },
         "mode": "markers",
         "name": "Analytics Engineer",
         "showlegend": true,
         "type": "scattergl",
         "x": [
          2022,
          2022,
          2022,
          2022,
          2022,
          2022,
          2022,
          2022,
          2022,
          2022,
          2022,
          2022,
          2022,
          2022,
          2022,
          2022,
          2022,
          2022,
          2022,
          2022,
          2022,
          2022,
          2022,
          2022,
          2022,
          2022,
          2022,
          2022,
          2022,
          2022,
          2022,
          2022,
          2022,
          2022,
          2022,
          2022,
          2022,
          2022,
          2022,
          2022,
          2022,
          2022,
          2022
         ],
         "xaxis": "x",
         "y": [
          "GB",
          "GB",
          "US",
          "US",
          "BR",
          "BR",
          "US",
          "US",
          "US",
          "US",
          "US",
          "US",
          "US",
          "US",
          "US",
          "US",
          "US",
          "US",
          "US",
          "US",
          "GB",
          "GB",
          "US",
          "US",
          "BO",
          "US",
          "US",
          "US",
          "US",
          "US",
          "US",
          "US",
          "US",
          "US",
          "US",
          "US",
          "US",
          "US",
          "US",
          "US",
          "US",
          "US",
          "US"
         ],
         "yaxis": "y"
        },
        {
         "hovertemplate": "Tipo de Emprego=Research Engineer<br>Anos de trabalho=%{x}<br>Localização Da Empresa=%{y}<extra></extra>",
         "legendgroup": "Research Engineer",
         "marker": {
          "color": "#B6E880",
          "symbol": "circle"
         },
         "mode": "markers",
         "name": "Research Engineer",
         "showlegend": true,
         "type": "scattergl",
         "x": [
          2022
         ],
         "xaxis": "x",
         "y": [
          "US"
         ],
         "yaxis": "y"
        },
        {
         "hovertemplate": "Tipo de Emprego=Data Operations Analyst<br>Anos de trabalho=%{x}<br>Localização Da Empresa=%{y}<extra></extra>",
         "legendgroup": "Data Operations Analyst",
         "marker": {
          "color": "#FF97FF",
          "symbol": "circle"
         },
         "mode": "markers",
         "name": "Data Operations Analyst",
         "showlegend": true,
         "type": "scattergl",
         "x": [
          2022,
          2022,
          2022,
          2022
         ],
         "xaxis": "x",
         "y": [
          "US",
          "US",
          "US",
          "US"
         ],
         "yaxis": "y"
        },
        {
         "hovertemplate": "Tipo de Emprego=ML Engineer<br>Anos de trabalho=%{x}<br>Localização Da Empresa=%{y}<extra></extra>",
         "legendgroup": "ML Engineer",
         "marker": {
          "color": "#FECB52",
          "symbol": "circle"
         },
         "mode": "markers",
         "name": "ML Engineer",
         "showlegend": true,
         "type": "scattergl",
         "x": [
          2022,
          2022,
          2022,
          2022,
          2022,
          2022,
          2022,
          2022,
          2022,
          2022,
          2021,
          2021,
          2022,
          2021,
          2020,
          2021
         ],
         "xaxis": "x",
         "y": [
          "US",
          "US",
          "US",
          "US",
          "US",
          "US",
          "US",
          "US",
          "US",
          "US",
          "JP",
          "JP",
          "PT",
          "US",
          "DE",
          "US"
         ],
         "yaxis": "y"
        },
        {
         "hovertemplate": "Tipo de Emprego=Data Architect<br>Anos de trabalho=%{x}<br>Localização Da Empresa=%{y}<extra></extra>",
         "legendgroup": "Data Architect",
         "marker": {
          "color": "#636efa",
          "symbol": "circle"
         },
         "mode": "markers",
         "name": "Data Architect",
         "showlegend": true,
         "type": "scattergl",
         "x": [
          2022,
          2022,
          2022,
          2022,
          2022,
          2022,
          2022,
          2022,
          2022,
          2022,
          2022,
          2022,
          2022,
          2022,
          2022,
          2022,
          2022,
          2022,
          2022,
          2022,
          2022,
          2022,
          2022,
          2022,
          2022,
          2022,
          2022,
          2022,
          2022,
          2022,
          2022,
          2022,
          2022,
          2022,
          2021,
          2021,
          2021
         ],
         "xaxis": "x",
         "y": [
          "US",
          "US",
          "US",
          "US",
          "US",
          "US",
          "US",
          "US",
          "US",
          "US",
          "US",
          "US",
          "US",
          "US",
          "US",
          "US",
          "US",
          "US",
          "US",
          "US",
          "US",
          "US",
          "US",
          "US",
          "US",
          "US",
          "US",
          "US",
          "CA",
          "CA",
          "US",
          "US",
          "US",
          "US",
          "US",
          "US",
          "US"
         ],
         "yaxis": "y"
        },
        {
         "hovertemplate": "Tipo de Emprego=Data Operations Engineer<br>Anos de trabalho=%{x}<br>Localização Da Empresa=%{y}<extra></extra>",
         "legendgroup": "Data Operations Engineer",
         "marker": {
          "color": "#EF553B",
          "symbol": "circle"
         },
         "mode": "markers",
         "name": "Data Operations Engineer",
         "showlegend": true,
         "type": "scattergl",
         "x": [
          2022,
          2022,
          2022,
          2022,
          2022,
          2022,
          2022,
          2022
         ],
         "xaxis": "x",
         "y": [
          "US",
          "US",
          "US",
          "US",
          "US",
          "US",
          "US",
          "US"
         ],
         "yaxis": "y"
        },
        {
         "hovertemplate": "Tipo de Emprego=3D Computer Vision Researcher<br>Anos de trabalho=%{x}<br>Localização Da Empresa=%{y}<extra></extra>",
         "legendgroup": "3D Computer Vision Researcher",
         "marker": {
          "color": "#00cc96",
          "symbol": "circle"
         },
         "mode": "markers",
         "name": "3D Computer Vision Researcher",
         "showlegend": true,
         "type": "scattergl",
         "x": [
          2021,
          2022,
          2021
         ],
         "xaxis": "x",
         "y": [
          "US",
          "AL",
          "IN"
         ],
         "yaxis": "y"
        },
        {
         "hovertemplate": "Tipo de Emprego=Marketing Data Analyst<br>Anos de trabalho=%{x}<br>Localização Da Empresa=%{y}<extra></extra>",
         "legendgroup": "Marketing Data Analyst",
         "marker": {
          "color": "#ab63fa",
          "symbol": "circle"
         },
         "mode": "markers",
         "name": "Marketing Data Analyst",
         "showlegend": true,
         "type": "scattergl",
         "x": [
          2022,
          2021
         ],
         "xaxis": "x",
         "y": [
          "GB",
          "DK"
         ],
         "yaxis": "y"
        },
        {
         "hovertemplate": "Tipo de Emprego=Data Science Lead<br>Anos de trabalho=%{x}<br>Localização Da Empresa=%{y}<extra></extra>",
         "legendgroup": "Data Science Lead",
         "marker": {
          "color": "#FFA15A",
          "symbol": "circle"
         },
         "mode": "markers",
         "name": "Data Science Lead",
         "showlegend": true,
         "type": "scattergl",
         "x": [
          2022
         ],
         "xaxis": "x",
         "y": [
          "US"
         ],
         "yaxis": "y"
        },
        {
         "hovertemplate": "Tipo de Emprego=Power BI Developer<br>Anos de trabalho=%{x}<br>Localização Da Empresa=%{y}<extra></extra>",
         "legendgroup": "Power BI Developer",
         "marker": {
          "color": "#19d3f3",
          "symbol": "circle"
         },
         "mode": "markers",
         "name": "Power BI Developer",
         "showlegend": true,
         "type": "scattergl",
         "x": [
          2021
         ],
         "xaxis": "x",
         "y": [
          "IN"
         ],
         "yaxis": "y"
        },
        {
         "hovertemplate": "Tipo de Emprego=Product Data Scientist<br>Anos de trabalho=%{x}<br>Localização Da Empresa=%{y}<extra></extra>",
         "legendgroup": "Product Data Scientist",
         "marker": {
          "color": "#FF6692",
          "symbol": "circle"
         },
         "mode": "markers",
         "name": "Product Data Scientist",
         "showlegend": true,
         "type": "scattergl",
         "x": [
          2022
         ],
         "xaxis": "x",
         "y": [
          "SG"
         ],
         "yaxis": "y"
        },
        {
         "hovertemplate": "Tipo de Emprego=Data Science Consultant<br>Anos de trabalho=%{x}<br>Localização Da Empresa=%{y}<extra></extra>",
         "legendgroup": "Data Science Consultant",
         "marker": {
          "color": "#B6E880",
          "symbol": "circle"
         },
         "mode": "markers",
         "name": "Data Science Consultant",
         "showlegend": true,
         "type": "scattergl",
         "x": [
          2022,
          2022,
          2021,
          2020,
          2021,
          2021,
          2021,
          2021,
          2020
         ],
         "xaxis": "x",
         "y": [
          "US",
          "US",
          "DE",
          "US",
          "DE",
          "DE",
          "ES",
          "US",
          "IN"
         ],
         "yaxis": "y"
        },
        {
         "hovertemplate": "Tipo de Emprego=Data Manager<br>Anos de trabalho=%{x}<br>Localização Da Empresa=%{y}<extra></extra>",
         "legendgroup": "Data Manager",
         "marker": {
          "color": "#FF97FF",
          "symbol": "circle"
         },
         "mode": "markers",
         "name": "Data Manager",
         "showlegend": true,
         "type": "scattergl",
         "x": [
          2022,
          2022,
          2022,
          2022,
          2022
         ],
         "xaxis": "x",
         "y": [
          "US",
          "US",
          "CA",
          "US",
          "US"
         ],
         "yaxis": "y"
        },
        {
         "hovertemplate": "Tipo de Emprego=BI Data Analyst<br>Anos de trabalho=%{x}<br>Localização Da Empresa=%{y}<extra></extra>",
         "legendgroup": "BI Data Analyst",
         "marker": {
          "color": "#FECB52",
          "symbol": "circle"
         },
         "mode": "markers",
         "name": "BI Data Analyst",
         "showlegend": true,
         "type": "scattergl",
         "x": [
          2022,
          2022,
          2022,
          2022,
          2022,
          2022,
          2021,
          2021,
          2021,
          2021,
          2021,
          2020
         ],
         "xaxis": "x",
         "y": [
          "US",
          "AU",
          "IN",
          "AU",
          "BR",
          "DE",
          "US",
          "US",
          "US",
          "US",
          "KE",
          "US"
         ],
         "yaxis": "y"
        },
        {
         "hovertemplate": "Tipo de Emprego=Big Data Engineer<br>Anos de trabalho=%{x}<br>Localização Da Empresa=%{y}<extra></extra>",
         "legendgroup": "Big Data Engineer",
         "marker": {
          "color": "#636efa",
          "symbol": "circle"
         },
         "mode": "markers",
         "name": "Big Data Engineer",
         "showlegend": true,
         "type": "scattergl",
         "x": [
          2022,
          2021,
          2020,
          2020,
          2021,
          2021,
          2020,
          2021,
          2021
         ],
         "xaxis": "x",
         "y": [
          "CA",
          "RO",
          "US",
          "GB",
          "IN",
          "IN",
          "GB",
          "CH",
          "MD"
         ],
         "yaxis": "y"
        },
        {
         "hovertemplate": "Tipo de Emprego=Principal Data Architect<br>Anos de trabalho=%{x}<br>Localização Da Empresa=%{y}<extra></extra>",
         "legendgroup": "Principal Data Architect",
         "marker": {
          "color": "#EF553B",
          "symbol": "circle"
         },
         "mode": "markers",
         "name": "Principal Data Architect",
         "showlegend": true,
         "type": "scattergl",
         "x": [
          2022
         ],
         "xaxis": "x",
         "y": [
          "IN"
         ],
         "yaxis": "y"
        },
        {
         "hovertemplate": "Tipo de Emprego=Machine Learning Manager<br>Anos de trabalho=%{x}<br>Localização Da Empresa=%{y}<extra></extra>",
         "legendgroup": "Machine Learning Manager",
         "marker": {
          "color": "#00cc96",
          "symbol": "circle"
         },
         "mode": "markers",
         "name": "Machine Learning Manager",
         "showlegend": true,
         "type": "scattergl",
         "x": [
          2022,
          2022,
          2020
         ],
         "xaxis": "x",
         "y": [
          "US",
          "US",
          "CA"
         ],
         "yaxis": "y"
        },
        {
         "hovertemplate": "Tipo de Emprego=Applied Scientist<br>Anos de trabalho=%{x}<br>Localização Da Empresa=%{y}<extra></extra>",
         "legendgroup": "Applied Scientist",
         "marker": {
          "color": "#ab63fa",
          "symbol": "circle"
         },
         "mode": "markers",
         "name": "Applied Scientist",
         "showlegend": true,
         "type": "scattergl",
         "x": [
          2022,
          2022,
          2022,
          2022
         ],
         "xaxis": "x",
         "y": [
          "US",
          "US",
          "US",
          "US"
         ],
         "yaxis": "y"
        },
        {
         "hovertemplate": "Tipo de Emprego=Lead Data Scientist<br>Anos de trabalho=%{x}<br>Localização Da Empresa=%{y}<extra></extra>",
         "legendgroup": "Lead Data Scientist",
         "marker": {
          "color": "#FFA15A",
          "symbol": "circle"
         },
         "mode": "markers",
         "name": "Lead Data Scientist",
         "showlegend": true,
         "type": "scattergl",
         "x": [
          2022,
          2022,
          2022,
          2021,
          2020,
          2020
         ],
         "xaxis": "x",
         "y": [
          "US",
          "PT",
          "GB",
          "IN",
          "AE",
          "US"
         ],
         "yaxis": "y"
        },
        {
         "hovertemplate": "Tipo de Emprego=Lead Machine Learning Engineer<br>Anos de trabalho=%{x}<br>Localização Da Empresa=%{y}<extra></extra>",
         "legendgroup": "Lead Machine Learning Engineer",
         "marker": {
          "color": "#19d3f3",
          "symbol": "circle"
         },
         "mode": "markers",
         "name": "Lead Machine Learning Engineer",
         "showlegend": true,
         "type": "scattergl",
         "x": [
          2022,
          2022,
          2022
         ],
         "xaxis": "x",
         "y": [
          "PT",
          "IN",
          "DE"
         ],
         "yaxis": "y"
        },
        {
         "hovertemplate": "Tipo de Emprego=NLP Engineer<br>Anos de trabalho=%{x}<br>Localização Da Empresa=%{y}<extra></extra>",
         "legendgroup": "NLP Engineer",
         "marker": {
          "color": "#FF6692",
          "symbol": "circle"
         },
         "mode": "markers",
         "name": "NLP Engineer",
         "showlegend": true,
         "type": "scattergl",
         "x": [
          2022,
          2022,
          2022
         ],
         "xaxis": "x",
         "y": [
          "CZ",
          "US",
          "US"
         ],
         "yaxis": "y"
        },
        {
         "hovertemplate": "Tipo de Emprego=Research Scientist<br>Anos de trabalho=%{x}<br>Localização Da Empresa=%{y}<extra></extra>",
         "legendgroup": "Research Scientist",
         "marker": {
          "color": "#B6E880",
          "symbol": "circle"
         },
         "mode": "markers",
         "name": "Research Scientist",
         "showlegend": true,
         "type": "scattergl",
         "x": [
          2022,
          2022,
          2022,
          2022,
          2022,
          2021,
          2022,
          2022,
          2022,
          2021,
          2020,
          2021,
          2021,
          2021,
          2020,
          2021,
          2021,
          2021,
          2021,
          2021
         ],
         "xaxis": "x",
         "y": [
          "DE",
          "DE",
          "US",
          "NL",
          "FR",
          "CZ",
          "AT",
          "US",
          "US",
          "FR",
          "US",
          "GB",
          "CA",
          "PT",
          "NL",
          "CA",
          "CN",
          "CA",
          "FR",
          "US"
         ],
         "yaxis": "y"
        },
        {
         "hovertemplate": "Tipo de Emprego=Data Analytics Engineer<br>Anos de trabalho=%{x}<br>Localização Da Empresa=%{y}<extra></extra>",
         "legendgroup": "Data Analytics Engineer",
         "marker": {
          "color": "#FF97FF",
          "symbol": "circle"
         },
         "mode": "markers",
         "name": "Data Analytics Engineer",
         "showlegend": true,
         "type": "scattergl",
         "x": [
          2022,
          2022,
          2021,
          2021,
          2021
         ],
         "xaxis": "x",
         "y": [
          "US",
          "PK",
          "US",
          "DE",
          "GB"
         ],
         "yaxis": "y"
        },
        {
         "hovertemplate": "Tipo de Emprego=ETL Developer<br>Anos de trabalho=%{x}<br>Localização Da Empresa=%{y}<extra></extra>",
         "legendgroup": "ETL Developer",
         "marker": {
          "color": "#FECB52",
          "symbol": "circle"
         },
         "mode": "markers",
         "name": "ETL Developer",
         "showlegend": true,
         "type": "scattergl",
         "x": [
          2022,
          2022,
          2022,
          2022,
          2022,
          2022,
          2022,
          2022,
          2022,
          2022
         ],
         "xaxis": "x",
         "y": [
          "US",
          "US",
          "US",
          "US",
          "US",
          "US",
          "US",
          "US",
          "GR",
          "GR"
         ],
         "yaxis": "y"
        },
        {
         "hovertemplate": "Tipo de Emprego=AI Scientist<br>Anos de trabalho=%{x}<br>Localização Da Empresa=%{y}<extra></extra>",
         "legendgroup": "AI Scientist",
         "marker": {
          "color": "#636efa",
          "symbol": "circle"
         },
         "mode": "markers",
         "name": "AI Scientist",
         "showlegend": true,
         "type": "scattergl",
         "x": [
          2022,
          2022,
          2022,
          2022,
          2022,
          2022,
          2022,
          2021,
          2021,
          2020,
          2021,
          2021
         ],
         "xaxis": "x",
         "y": [
          "US",
          "ES",
          "US",
          "IN",
          "US",
          "US",
          "US",
          "US",
          "ES",
          "DK",
          "AS",
          "US"
         ],
         "yaxis": "y"
        },
        {
         "hovertemplate": "Tipo de Emprego=Data Scientist Lead<br>Anos de trabalho=%{x}<br>Localização Da Empresa=%{y}<extra></extra>",
         "legendgroup": "Data Scientist Lead",
         "marker": {
          "color": "#EF553B",
          "symbol": "circle"
         },
         "mode": "markers",
         "name": "Data Scientist Lead",
         "showlegend": true,
         "type": "scattergl",
         "x": [
          2022
         ],
         "xaxis": "x",
         "y": [
          "US"
         ],
         "yaxis": "y"
        },
        {
         "hovertemplate": "Tipo de Emprego=Data Science Manager<br>Anos de trabalho=%{x}<br>Localização Da Empresa=%{y}<extra></extra>",
         "legendgroup": "Data Science Manager",
         "marker": {
          "color": "#00cc96",
          "symbol": "circle"
         },
         "mode": "markers",
         "name": "Data Science Manager",
         "showlegend": true,
         "type": "scattergl",
         "x": [
          2022,
          2022,
          2022,
          2022,
          2022,
          2022,
          2022,
          2022,
          2022,
          2022,
          2022,
          2022,
          2022,
          2022,
          2022,
          2022,
          2022,
          2022,
          2022,
          2022,
          2022,
          2022,
          2021,
          2021,
          2021,
          2021,
          2021,
          2020,
          2021
         ],
         "xaxis": "x",
         "y": [
          "US",
          "US",
          "US",
          "US",
          "US",
          "US",
          "US",
          "US",
          "US",
          "US",
          "US",
          "US",
          "US",
          "US",
          "AU",
          "US",
          "US",
          "US",
          "US",
          "US",
          "US",
          "US",
          "US",
          "US",
          "US",
          "US",
          "FR",
          "US",
          "IN"
         ],
         "yaxis": "y"
        },
        {
         "hovertemplate": "Tipo de Emprego=Data Specialist<br>Anos de trabalho=%{x}<br>Localização Da Empresa=%{y}<extra></extra>",
         "legendgroup": "Data Specialist",
         "marker": {
          "color": "#ab63fa",
          "symbol": "circle"
         },
         "mode": "markers",
         "name": "Data Specialist",
         "showlegend": true,
         "type": "scattergl",
         "x": [
          2022,
          2022,
          2022,
          2022,
          2022,
          2021
         ],
         "xaxis": "x",
         "y": [
          "US",
          "US",
          "US",
          "US",
          "US",
          "US"
         ],
         "yaxis": "y"
        },
        {
         "hovertemplate": "Tipo de Emprego=Business Data Analyst<br>Anos de trabalho=%{x}<br>Localização Da Empresa=%{y}<extra></extra>",
         "legendgroup": "Business Data Analyst",
         "marker": {
          "color": "#FFA15A",
          "symbol": "circle"
         },
         "mode": "markers",
         "name": "Business Data Analyst",
         "showlegend": true,
         "type": "scattergl",
         "x": [
          2022,
          2022,
          2022,
          2022,
          2022,
          2020,
          2021,
          2020
         ],
         "xaxis": "x",
         "y": [
          "US",
          "AS",
          "US",
          "IN",
          "CA",
          "US",
          "LU",
          "US"
         ],
         "yaxis": "y"
        },
        {
         "hovertemplate": "Tipo de Emprego=Applied Machine Learning Scientist<br>Anos de trabalho=%{x}<br>Localização Da Empresa=%{y}<extra></extra>",
         "legendgroup": "Applied Machine Learning Scientist",
         "marker": {
          "color": "#19d3f3",
          "symbol": "circle"
         },
         "mode": "markers",
         "name": "Applied Machine Learning Scientist",
         "showlegend": true,
         "type": "scattergl",
         "x": [
          2022,
          2022,
          2022,
          2022,
          2022,
          2022,
          2022,
          2021,
          2021
         ],
         "xaxis": "x",
         "y": [
          "US",
          "US",
          "US",
          "GB",
          "IN",
          "US",
          "CZ",
          "US",
          "US"
         ],
         "yaxis": "y"
        },
        {
         "hovertemplate": "Tipo de Emprego=Machine Learning Research Engineer<br>Anos de trabalho=%{x}<br>Localização Da Empresa=%{y}<extra></extra>",
         "legendgroup": "Machine Learning Research Engineer",
         "marker": {
          "color": "#FF6692",
          "symbol": "circle"
         },
         "mode": "markers",
         "name": "Machine Learning Research Engineer",
         "showlegend": true,
         "type": "scattergl",
         "x": [
          2021,
          2021
         ],
         "xaxis": "x",
         "y": [
          "FR",
          "IN"
         ],
         "yaxis": "y"
        },
        {
         "hovertemplate": "Tipo de Emprego=Machine Learning Scientist<br>Anos de trabalho=%{x}<br>Localização Da Empresa=%{y}<extra></extra>",
         "legendgroup": "Machine Learning Scientist",
         "marker": {
          "color": "#B6E880",
          "symbol": "circle"
         },
         "mode": "markers",
         "name": "Machine Learning Scientist",
         "showlegend": true,
         "type": "scattergl",
         "x": [
          2022,
          2022,
          2022,
          2022,
          2022,
          2022,
          2022,
          2022,
          2022,
          2022,
          2021,
          2021,
          2020,
          2021,
          2021
         ],
         "xaxis": "x",
         "y": [
          "US",
          "US",
          "US",
          "US",
          "US",
          "US",
          "EG",
          "US",
          "US",
          "US",
          "US",
          "US",
          "JP",
          "CA",
          "PK"
         ],
         "yaxis": "y"
        },
        {
         "hovertemplate": "Tipo de Emprego=Machine Learning Developer<br>Anos de trabalho=%{x}<br>Localização Da Empresa=%{y}<extra></extra>",
         "legendgroup": "Machine Learning Developer",
         "marker": {
          "color": "#FF97FF",
          "symbol": "circle"
         },
         "mode": "markers",
         "name": "Machine Learning Developer",
         "showlegend": true,
         "type": "scattergl",
         "x": [
          2021,
          2022,
          2022,
          2022,
          2021
         ],
         "xaxis": "x",
         "y": [
          "TH",
          "US",
          "CA",
          "CA",
          "IQ"
         ],
         "yaxis": "y"
        },
        {
         "hovertemplate": "Tipo de Emprego=Data Engineering Manager<br>Anos de trabalho=%{x}<br>Localização Da Empresa=%{y}<extra></extra>",
         "legendgroup": "Data Engineering Manager",
         "marker": {
          "color": "#FECB52",
          "symbol": "circle"
         },
         "mode": "markers",
         "name": "Data Engineering Manager",
         "showlegend": true,
         "type": "scattergl",
         "x": [
          2022,
          2021,
          2020,
          2021,
          2020,
          2021
         ],
         "xaxis": "x",
         "y": [
          "US",
          "US",
          "DE",
          "US",
          "ES",
          "US"
         ],
         "yaxis": "y"
        },
        {
         "hovertemplate": "Tipo de Emprego=Director of Data Science<br>Anos de trabalho=%{x}<br>Localização Da Empresa=%{y}<extra></extra>",
         "legendgroup": "Director of Data Science",
         "marker": {
          "color": "#636efa",
          "symbol": "circle"
         },
         "mode": "markers",
         "name": "Director of Data Science",
         "showlegend": true,
         "type": "scattergl",
         "x": [
          2022,
          2022,
          2021,
          2021,
          2021,
          2021,
          2020,
          2021
         ],
         "xaxis": "x",
         "y": [
          "FR",
          "CA",
          "US",
          "DE",
          "PL",
          "DE",
          "US",
          "JP"
         ],
         "yaxis": "y"
        },
        {
         "hovertemplate": "Tipo de Emprego=Financial Data Analyst<br>Anos de trabalho=%{x}<br>Localização Da Empresa=%{y}<extra></extra>",
         "legendgroup": "Financial Data Analyst",
         "marker": {
          "color": "#EF553B",
          "symbol": "circle"
         },
         "mode": "markers",
         "name": "Financial Data Analyst",
         "showlegend": true,
         "type": "scattergl",
         "x": [
          2022,
          2022,
          2021
         ],
         "xaxis": "x",
         "y": [
          "US",
          "US",
          "US"
         ],
         "yaxis": "y"
        },
        {
         "hovertemplate": "Tipo de Emprego=Computer Vision Software Engineer<br>Anos de trabalho=%{x}<br>Localização Da Empresa=%{y}<extra></extra>",
         "legendgroup": "Computer Vision Software Engineer",
         "marker": {
          "color": "#00cc96",
          "symbol": "circle"
         },
         "mode": "markers",
         "name": "Computer Vision Software Engineer",
         "showlegend": true,
         "type": "scattergl",
         "x": [
          2021,
          2022,
          2021,
          2021
         ],
         "xaxis": "x",
         "y": [
          "DK",
          "AU",
          "US",
          "US"
         ],
         "yaxis": "y"
        },
        {
         "hovertemplate": "Tipo de Emprego=Data Analytics Consultant<br>Anos de trabalho=%{x}<br>Localização Da Empresa=%{y}<extra></extra>",
         "legendgroup": "Data Analytics Consultant",
         "marker": {
          "color": "#ab63fa",
          "symbol": "circle"
         },
         "mode": "markers",
         "name": "Data Analytics Consultant",
         "showlegend": true,
         "type": "scattergl",
         "x": [
          2022
         ],
         "xaxis": "x",
         "y": [
          "US"
         ],
         "yaxis": "y"
        },
        {
         "hovertemplate": "Tipo de Emprego=Product Data Analyst<br>Anos de trabalho=%{x}<br>Localização Da Empresa=%{y}<extra></extra>",
         "legendgroup": "Product Data Analyst",
         "marker": {
          "color": "#FFA15A",
          "symbol": "circle"
         },
         "mode": "markers",
         "name": "Product Data Analyst",
         "showlegend": true,
         "type": "scattergl",
         "x": [
          2022,
          2020,
          2020
         ],
         "xaxis": "x",
         "y": [
          "US",
          "HN",
          "IN"
         ],
         "yaxis": "y"
        },
        {
         "hovertemplate": "Tipo de Emprego=Machine Learning Infrastructure Engineer<br>Anos de trabalho=%{x}<br>Localização Da Empresa=%{y}<extra></extra>",
         "legendgroup": "Machine Learning Infrastructure Engineer",
         "marker": {
          "color": "#19d3f3",
          "symbol": "circle"
         },
         "mode": "markers",
         "name": "Machine Learning Infrastructure Engineer",
         "showlegend": true,
         "type": "scattergl",
         "x": [
          2022,
          2022,
          2022,
          2020,
          2021
         ],
         "xaxis": "x",
         "y": [
          "US",
          "US",
          "PT",
          "PT",
          "US"
         ],
         "yaxis": "y"
        },
        {
         "hovertemplate": "Tipo de Emprego=Applied Data Scientist<br>Anos de trabalho=%{x}<br>Localização Da Empresa=%{y}<extra></extra>",
         "legendgroup": "Applied Data Scientist",
         "marker": {
          "color": "#FF6692",
          "symbol": "circle"
         },
         "mode": "markers",
         "name": "Applied Data Scientist",
         "showlegend": true,
         "type": "scattergl",
         "x": [
          2022,
          2022,
          2022,
          2022,
          2021,
          2021
         ],
         "xaxis": "x",
         "y": [
          "AT",
          "US",
          "US",
          "US",
          "GB",
          "CA"
         ],
         "yaxis": "y"
        },
        {
         "hovertemplate": "Tipo de Emprego=Cloud Data Architect<br>Anos de trabalho=%{x}<br>Localização Da Empresa=%{y}<extra></extra>",
         "legendgroup": "Cloud Data Architect",
         "marker": {
          "color": "#B6E880",
          "symbol": "circle"
         },
         "mode": "markers",
         "name": "Cloud Data Architect",
         "showlegend": true,
         "type": "scattergl",
         "x": [
          2021
         ],
         "xaxis": "x",
         "y": [
          "US"
         ],
         "yaxis": "y"
        },
        {
         "hovertemplate": "Tipo de Emprego=Data Analytics Manager<br>Anos de trabalho=%{x}<br>Localização Da Empresa=%{y}<extra></extra>",
         "legendgroup": "Data Analytics Manager",
         "marker": {
          "color": "#FF97FF",
          "symbol": "circle"
         },
         "mode": "markers",
         "name": "Data Analytics Manager",
         "showlegend": true,
         "type": "scattergl",
         "x": [
          2022,
          2022,
          2022,
          2022,
          2021,
          2021,
          2021
         ],
         "xaxis": "x",
         "y": [
          "US",
          "US",
          "US",
          "US",
          "US",
          "US",
          "US"
         ],
         "yaxis": "y"
        },
        {
         "hovertemplate": "Tipo de Emprego=Lead Data Engineer<br>Anos de trabalho=%{x}<br>Localização Da Empresa=%{y}<extra></extra>",
         "legendgroup": "Lead Data Engineer",
         "marker": {
          "color": "#FECB52",
          "symbol": "circle"
         },
         "mode": "markers",
         "name": "Lead Data Engineer",
         "showlegend": true,
         "type": "scattergl",
         "x": [
          2022,
          2021,
          2021,
          2021,
          2020,
          2020
         ],
         "xaxis": "x",
         "y": [
          "CA",
          "GB",
          "US",
          "US",
          "NZ",
          "US"
         ],
         "yaxis": "y"
        },
        {
         "hovertemplate": "Tipo de Emprego=Head of Machine Learning<br>Anos de trabalho=%{x}<br>Localização Da Empresa=%{y}<extra></extra>",
         "legendgroup": "Head of Machine Learning",
         "marker": {
          "color": "#636efa",
          "symbol": "circle"
         },
         "mode": "markers",
         "name": "Head of Machine Learning",
         "showlegend": true,
         "type": "scattergl",
         "x": [
          2022
         ],
         "xaxis": "x",
         "y": [
          "IN"
         ],
         "yaxis": "y"
        },
        {
         "hovertemplate": "Tipo de Emprego=Data Science Engineer<br>Anos de trabalho=%{x}<br>Localização Da Empresa=%{y}<extra></extra>",
         "legendgroup": "Data Science Engineer",
         "marker": {
          "color": "#EF553B",
          "symbol": "circle"
         },
         "mode": "markers",
         "name": "Data Science Engineer",
         "showlegend": true,
         "type": "scattergl",
         "x": [
          2022,
          2021,
          2021
         ],
         "xaxis": "x",
         "y": [
          "MX",
          "CA",
          "GR"
         ],
         "yaxis": "y"
        },
        {
         "hovertemplate": "Tipo de Emprego=Head of Data Science<br>Anos de trabalho=%{x}<br>Localização Da Empresa=%{y}<extra></extra>",
         "legendgroup": "Head of Data Science",
         "marker": {
          "color": "#00cc96",
          "symbol": "circle"
         },
         "mode": "markers",
         "name": "Head of Data Science",
         "showlegend": true,
         "type": "scattergl",
         "x": [
          2022,
          2022,
          2021,
          2021
         ],
         "xaxis": "x",
         "y": [
          "US",
          "US",
          "RU",
          "US"
         ],
         "yaxis": "y"
        },
        {
         "hovertemplate": "Tipo de Emprego=Computer Vision Engineer<br>Anos de trabalho=%{x}<br>Localização Da Empresa=%{y}<extra></extra>",
         "legendgroup": "Computer Vision Engineer",
         "marker": {
          "color": "#ab63fa",
          "symbol": "circle"
         },
         "mode": "markers",
         "name": "Computer Vision Engineer",
         "showlegend": true,
         "type": "scattergl",
         "x": [
          2022,
          2021,
          2022,
          2021,
          2020,
          2021
         ],
         "xaxis": "x",
         "y": [
          "LU",
          "BR",
          "US",
          "DK",
          "US",
          "BR"
         ],
         "yaxis": "y"
        },
        {
         "hovertemplate": "Tipo de Emprego=Principal Data Analyst<br>Anos de trabalho=%{x}<br>Localização Da Empresa=%{y}<extra></extra>",
         "legendgroup": "Principal Data Analyst",
         "marker": {
          "color": "#FFA15A",
          "symbol": "circle"
         },
         "mode": "markers",
         "name": "Principal Data Analyst",
         "showlegend": true,
         "type": "scattergl",
         "x": [
          2022,
          2021
         ],
         "xaxis": "x",
         "y": [
          "CA",
          "US"
         ],
         "yaxis": "y"
        },
        {
         "hovertemplate": "Tipo de Emprego=Data Analytics Lead<br>Anos de trabalho=%{x}<br>Localização Da Empresa=%{y}<extra></extra>",
         "legendgroup": "Data Analytics Lead",
         "marker": {
          "color": "#19d3f3",
          "symbol": "circle"
         },
         "mode": "markers",
         "name": "Data Analytics Lead",
         "showlegend": true,
         "type": "scattergl",
         "x": [
          2022
         ],
         "xaxis": "x",
         "y": [
          "US"
         ],
         "yaxis": "y"
        },
        {
         "hovertemplate": "Tipo de Emprego=Principal Data Scientist<br>Anos de trabalho=%{x}<br>Localização Da Empresa=%{y}<extra></extra>",
         "legendgroup": "Principal Data Scientist",
         "marker": {
          "color": "#FF6692",
          "symbol": "circle"
         },
         "mode": "markers",
         "name": "Principal Data Scientist",
         "showlegend": true,
         "type": "scattergl",
         "x": [
          2021,
          2022,
          2021,
          2021,
          2020,
          2021,
          2021
         ],
         "xaxis": "x",
         "y": [
          "US",
          "DE",
          "US",
          "DE",
          "DE",
          "US",
          "US"
         ],
         "yaxis": "y"
        },
        {
         "hovertemplate": "Tipo de Emprego=Principal Data Engineer<br>Anos de trabalho=%{x}<br>Localização Da Empresa=%{y}<extra></extra>",
         "legendgroup": "Principal Data Engineer",
         "marker": {
          "color": "#B6E880",
          "symbol": "circle"
         },
         "mode": "markers",
         "name": "Principal Data Engineer",
         "showlegend": true,
         "type": "scattergl",
         "x": [
          2021,
          2021,
          2021
         ],
         "xaxis": "x",
         "y": [
          "US",
          "US",
          "US"
         ],
         "yaxis": "y"
        },
        {
         "hovertemplate": "Tipo de Emprego=Lead Data Analyst<br>Anos de trabalho=%{x}<br>Localização Da Empresa=%{y}<extra></extra>",
         "legendgroup": "Lead Data Analyst",
         "marker": {
          "color": "#FF97FF",
          "symbol": "circle"
         },
         "mode": "markers",
         "name": "Lead Data Analyst",
         "showlegend": true,
         "type": "scattergl",
         "x": [
          2021,
          2020,
          2021
         ],
         "xaxis": "x",
         "y": [
          "US",
          "US",
          "IN"
         ],
         "yaxis": "y"
        },
        {
         "hovertemplate": "Tipo de Emprego=Director of Data Engineering<br>Anos de trabalho=%{x}<br>Localização Da Empresa=%{y}<extra></extra>",
         "legendgroup": "Director of Data Engineering",
         "marker": {
          "color": "#FECB52",
          "symbol": "circle"
         },
         "mode": "markers",
         "name": "Director of Data Engineering",
         "showlegend": true,
         "type": "scattergl",
         "x": [
          2021,
          2021
         ],
         "xaxis": "x",
         "y": [
          "GB",
          "US"
         ],
         "yaxis": "y"
        },
        {
         "hovertemplate": "Tipo de Emprego=Cloud Data Engineer<br>Anos de trabalho=%{x}<br>Localização Da Empresa=%{y}<extra></extra>",
         "legendgroup": "Cloud Data Engineer",
         "marker": {
          "color": "#636efa",
          "symbol": "circle"
         },
         "mode": "markers",
         "name": "Cloud Data Engineer",
         "showlegend": true,
         "type": "scattergl",
         "x": [
          2021,
          2021
         ],
         "xaxis": "x",
         "y": [
          "SG",
          "US"
         ],
         "yaxis": "y"
        },
        {
         "hovertemplate": "Tipo de Emprego=Big Data Architect<br>Anos de trabalho=%{x}<br>Localização Da Empresa=%{y}<extra></extra>",
         "legendgroup": "Big Data Architect",
         "marker": {
          "color": "#EF553B",
          "symbol": "circle"
         },
         "mode": "markers",
         "name": "Big Data Architect",
         "showlegend": true,
         "type": "scattergl",
         "x": [
          2021
         ],
         "xaxis": "x",
         "y": [
          "CA"
         ],
         "yaxis": "y"
        },
        {
         "hovertemplate": "Tipo de Emprego=Staff Data Scientist<br>Anos de trabalho=%{x}<br>Localização Da Empresa=%{y}<extra></extra>",
         "legendgroup": "Staff Data Scientist",
         "marker": {
          "color": "#00cc96",
          "symbol": "circle"
         },
         "mode": "markers",
         "name": "Staff Data Scientist",
         "showlegend": true,
         "type": "scattergl",
         "x": [
          2021
         ],
         "xaxis": "x",
         "y": [
          "US"
         ],
         "yaxis": "y"
        },
        {
         "hovertemplate": "Tipo de Emprego=Finance Data Analyst<br>Anos de trabalho=%{x}<br>Localização Da Empresa=%{y}<extra></extra>",
         "legendgroup": "Finance Data Analyst",
         "marker": {
          "color": "#ab63fa",
          "symbol": "circle"
         },
         "mode": "markers",
         "name": "Finance Data Analyst",
         "showlegend": true,
         "type": "scattergl",
         "x": [
          2021
         ],
         "xaxis": "x",
         "y": [
          "GB"
         ],
         "yaxis": "y"
        }
       ],
       "layout": {
        "height": 800,
        "legend": {
         "title": {
          "text": "Tipo de Emprego"
         },
         "tracegroupgap": 0
        },
        "template": {
         "data": {
          "bar": [
           {
            "error_x": {
             "color": "#f2f5fa"
            },
            "error_y": {
             "color": "#f2f5fa"
            },
            "marker": {
             "line": {
              "color": "rgb(17,17,17)",
              "width": 0.5
             },
             "pattern": {
              "fillmode": "overlay",
              "size": 10,
              "solidity": 0.2
             }
            },
            "type": "bar"
           }
          ],
          "barpolar": [
           {
            "marker": {
             "line": {
              "color": "rgb(17,17,17)",
              "width": 0.5
             },
             "pattern": {
              "fillmode": "overlay",
              "size": 10,
              "solidity": 0.2
             }
            },
            "type": "barpolar"
           }
          ],
          "carpet": [
           {
            "aaxis": {
             "endlinecolor": "#A2B1C6",
             "gridcolor": "#506784",
             "linecolor": "#506784",
             "minorgridcolor": "#506784",
             "startlinecolor": "#A2B1C6"
            },
            "baxis": {
             "endlinecolor": "#A2B1C6",
             "gridcolor": "#506784",
             "linecolor": "#506784",
             "minorgridcolor": "#506784",
             "startlinecolor": "#A2B1C6"
            },
            "type": "carpet"
           }
          ],
          "choropleth": [
           {
            "colorbar": {
             "outlinewidth": 0,
             "ticks": ""
            },
            "type": "choropleth"
           }
          ],
          "contour": [
           {
            "colorbar": {
             "outlinewidth": 0,
             "ticks": ""
            },
            "colorscale": [
             [
              0,
              "#0d0887"
             ],
             [
              0.1111111111111111,
              "#46039f"
             ],
             [
              0.2222222222222222,
              "#7201a8"
             ],
             [
              0.3333333333333333,
              "#9c179e"
             ],
             [
              0.4444444444444444,
              "#bd3786"
             ],
             [
              0.5555555555555556,
              "#d8576b"
             ],
             [
              0.6666666666666666,
              "#ed7953"
             ],
             [
              0.7777777777777778,
              "#fb9f3a"
             ],
             [
              0.8888888888888888,
              "#fdca26"
             ],
             [
              1,
              "#f0f921"
             ]
            ],
            "type": "contour"
           }
          ],
          "contourcarpet": [
           {
            "colorbar": {
             "outlinewidth": 0,
             "ticks": ""
            },
            "type": "contourcarpet"
           }
          ],
          "heatmap": [
           {
            "colorbar": {
             "outlinewidth": 0,
             "ticks": ""
            },
            "colorscale": [
             [
              0,
              "#0d0887"
             ],
             [
              0.1111111111111111,
              "#46039f"
             ],
             [
              0.2222222222222222,
              "#7201a8"
             ],
             [
              0.3333333333333333,
              "#9c179e"
             ],
             [
              0.4444444444444444,
              "#bd3786"
             ],
             [
              0.5555555555555556,
              "#d8576b"
             ],
             [
              0.6666666666666666,
              "#ed7953"
             ],
             [
              0.7777777777777778,
              "#fb9f3a"
             ],
             [
              0.8888888888888888,
              "#fdca26"
             ],
             [
              1,
              "#f0f921"
             ]
            ],
            "type": "heatmap"
           }
          ],
          "heatmapgl": [
           {
            "colorbar": {
             "outlinewidth": 0,
             "ticks": ""
            },
            "colorscale": [
             [
              0,
              "#0d0887"
             ],
             [
              0.1111111111111111,
              "#46039f"
             ],
             [
              0.2222222222222222,
              "#7201a8"
             ],
             [
              0.3333333333333333,
              "#9c179e"
             ],
             [
              0.4444444444444444,
              "#bd3786"
             ],
             [
              0.5555555555555556,
              "#d8576b"
             ],
             [
              0.6666666666666666,
              "#ed7953"
             ],
             [
              0.7777777777777778,
              "#fb9f3a"
             ],
             [
              0.8888888888888888,
              "#fdca26"
             ],
             [
              1,
              "#f0f921"
             ]
            ],
            "type": "heatmapgl"
           }
          ],
          "histogram": [
           {
            "marker": {
             "pattern": {
              "fillmode": "overlay",
              "size": 10,
              "solidity": 0.2
             }
            },
            "type": "histogram"
           }
          ],
          "histogram2d": [
           {
            "colorbar": {
             "outlinewidth": 0,
             "ticks": ""
            },
            "colorscale": [
             [
              0,
              "#0d0887"
             ],
             [
              0.1111111111111111,
              "#46039f"
             ],
             [
              0.2222222222222222,
              "#7201a8"
             ],
             [
              0.3333333333333333,
              "#9c179e"
             ],
             [
              0.4444444444444444,
              "#bd3786"
             ],
             [
              0.5555555555555556,
              "#d8576b"
             ],
             [
              0.6666666666666666,
              "#ed7953"
             ],
             [
              0.7777777777777778,
              "#fb9f3a"
             ],
             [
              0.8888888888888888,
              "#fdca26"
             ],
             [
              1,
              "#f0f921"
             ]
            ],
            "type": "histogram2d"
           }
          ],
          "histogram2dcontour": [
           {
            "colorbar": {
             "outlinewidth": 0,
             "ticks": ""
            },
            "colorscale": [
             [
              0,
              "#0d0887"
             ],
             [
              0.1111111111111111,
              "#46039f"
             ],
             [
              0.2222222222222222,
              "#7201a8"
             ],
             [
              0.3333333333333333,
              "#9c179e"
             ],
             [
              0.4444444444444444,
              "#bd3786"
             ],
             [
              0.5555555555555556,
              "#d8576b"
             ],
             [
              0.6666666666666666,
              "#ed7953"
             ],
             [
              0.7777777777777778,
              "#fb9f3a"
             ],
             [
              0.8888888888888888,
              "#fdca26"
             ],
             [
              1,
              "#f0f921"
             ]
            ],
            "type": "histogram2dcontour"
           }
          ],
          "mesh3d": [
           {
            "colorbar": {
             "outlinewidth": 0,
             "ticks": ""
            },
            "type": "mesh3d"
           }
          ],
          "parcoords": [
           {
            "line": {
             "colorbar": {
              "outlinewidth": 0,
              "ticks": ""
             }
            },
            "type": "parcoords"
           }
          ],
          "pie": [
           {
            "automargin": true,
            "type": "pie"
           }
          ],
          "scatter": [
           {
            "marker": {
             "line": {
              "color": "#283442"
             }
            },
            "type": "scatter"
           }
          ],
          "scatter3d": [
           {
            "line": {
             "colorbar": {
              "outlinewidth": 0,
              "ticks": ""
             }
            },
            "marker": {
             "colorbar": {
              "outlinewidth": 0,
              "ticks": ""
             }
            },
            "type": "scatter3d"
           }
          ],
          "scattercarpet": [
           {
            "marker": {
             "colorbar": {
              "outlinewidth": 0,
              "ticks": ""
             }
            },
            "type": "scattercarpet"
           }
          ],
          "scattergeo": [
           {
            "marker": {
             "colorbar": {
              "outlinewidth": 0,
              "ticks": ""
             }
            },
            "type": "scattergeo"
           }
          ],
          "scattergl": [
           {
            "marker": {
             "line": {
              "color": "#283442"
             }
            },
            "type": "scattergl"
           }
          ],
          "scattermapbox": [
           {
            "marker": {
             "colorbar": {
              "outlinewidth": 0,
              "ticks": ""
             }
            },
            "type": "scattermapbox"
           }
          ],
          "scatterpolar": [
           {
            "marker": {
             "colorbar": {
              "outlinewidth": 0,
              "ticks": ""
             }
            },
            "type": "scatterpolar"
           }
          ],
          "scatterpolargl": [
           {
            "marker": {
             "colorbar": {
              "outlinewidth": 0,
              "ticks": ""
             }
            },
            "type": "scatterpolargl"
           }
          ],
          "scatterternary": [
           {
            "marker": {
             "colorbar": {
              "outlinewidth": 0,
              "ticks": ""
             }
            },
            "type": "scatterternary"
           }
          ],
          "surface": [
           {
            "colorbar": {
             "outlinewidth": 0,
             "ticks": ""
            },
            "colorscale": [
             [
              0,
              "#0d0887"
             ],
             [
              0.1111111111111111,
              "#46039f"
             ],
             [
              0.2222222222222222,
              "#7201a8"
             ],
             [
              0.3333333333333333,
              "#9c179e"
             ],
             [
              0.4444444444444444,
              "#bd3786"
             ],
             [
              0.5555555555555556,
              "#d8576b"
             ],
             [
              0.6666666666666666,
              "#ed7953"
             ],
             [
              0.7777777777777778,
              "#fb9f3a"
             ],
             [
              0.8888888888888888,
              "#fdca26"
             ],
             [
              1,
              "#f0f921"
             ]
            ],
            "type": "surface"
           }
          ],
          "table": [
           {
            "cells": {
             "fill": {
              "color": "#506784"
             },
             "line": {
              "color": "rgb(17,17,17)"
             }
            },
            "header": {
             "fill": {
              "color": "#2a3f5f"
             },
             "line": {
              "color": "rgb(17,17,17)"
             }
            },
            "type": "table"
           }
          ]
         },
         "layout": {
          "annotationdefaults": {
           "arrowcolor": "#f2f5fa",
           "arrowhead": 0,
           "arrowwidth": 1
          },
          "autotypenumbers": "strict",
          "coloraxis": {
           "colorbar": {
            "outlinewidth": 0,
            "ticks": ""
           }
          },
          "colorscale": {
           "diverging": [
            [
             0,
             "#8e0152"
            ],
            [
             0.1,
             "#c51b7d"
            ],
            [
             0.2,
             "#de77ae"
            ],
            [
             0.3,
             "#f1b6da"
            ],
            [
             0.4,
             "#fde0ef"
            ],
            [
             0.5,
             "#f7f7f7"
            ],
            [
             0.6,
             "#e6f5d0"
            ],
            [
             0.7,
             "#b8e186"
            ],
            [
             0.8,
             "#7fbc41"
            ],
            [
             0.9,
             "#4d9221"
            ],
            [
             1,
             "#276419"
            ]
           ],
           "sequential": [
            [
             0,
             "#0d0887"
            ],
            [
             0.1111111111111111,
             "#46039f"
            ],
            [
             0.2222222222222222,
             "#7201a8"
            ],
            [
             0.3333333333333333,
             "#9c179e"
            ],
            [
             0.4444444444444444,
             "#bd3786"
            ],
            [
             0.5555555555555556,
             "#d8576b"
            ],
            [
             0.6666666666666666,
             "#ed7953"
            ],
            [
             0.7777777777777778,
             "#fb9f3a"
            ],
            [
             0.8888888888888888,
             "#fdca26"
            ],
            [
             1,
             "#f0f921"
            ]
           ],
           "sequentialminus": [
            [
             0,
             "#0d0887"
            ],
            [
             0.1111111111111111,
             "#46039f"
            ],
            [
             0.2222222222222222,
             "#7201a8"
            ],
            [
             0.3333333333333333,
             "#9c179e"
            ],
            [
             0.4444444444444444,
             "#bd3786"
            ],
            [
             0.5555555555555556,
             "#d8576b"
            ],
            [
             0.6666666666666666,
             "#ed7953"
            ],
            [
             0.7777777777777778,
             "#fb9f3a"
            ],
            [
             0.8888888888888888,
             "#fdca26"
            ],
            [
             1,
             "#f0f921"
            ]
           ]
          },
          "colorway": [
           "#636efa",
           "#EF553B",
           "#00cc96",
           "#ab63fa",
           "#FFA15A",
           "#19d3f3",
           "#FF6692",
           "#B6E880",
           "#FF97FF",
           "#FECB52"
          ],
          "font": {
           "color": "#f2f5fa"
          },
          "geo": {
           "bgcolor": "rgb(17,17,17)",
           "lakecolor": "rgb(17,17,17)",
           "landcolor": "rgb(17,17,17)",
           "showlakes": true,
           "showland": true,
           "subunitcolor": "#506784"
          },
          "hoverlabel": {
           "align": "left"
          },
          "hovermode": "closest",
          "mapbox": {
           "style": "dark"
          },
          "paper_bgcolor": "rgb(17,17,17)",
          "plot_bgcolor": "rgb(17,17,17)",
          "polar": {
           "angularaxis": {
            "gridcolor": "#506784",
            "linecolor": "#506784",
            "ticks": ""
           },
           "bgcolor": "rgb(17,17,17)",
           "radialaxis": {
            "gridcolor": "#506784",
            "linecolor": "#506784",
            "ticks": ""
           }
          },
          "scene": {
           "xaxis": {
            "backgroundcolor": "rgb(17,17,17)",
            "gridcolor": "#506784",
            "gridwidth": 2,
            "linecolor": "#506784",
            "showbackground": true,
            "ticks": "",
            "zerolinecolor": "#C8D4E3"
           },
           "yaxis": {
            "backgroundcolor": "rgb(17,17,17)",
            "gridcolor": "#506784",
            "gridwidth": 2,
            "linecolor": "#506784",
            "showbackground": true,
            "ticks": "",
            "zerolinecolor": "#C8D4E3"
           },
           "zaxis": {
            "backgroundcolor": "rgb(17,17,17)",
            "gridcolor": "#506784",
            "gridwidth": 2,
            "linecolor": "#506784",
            "showbackground": true,
            "ticks": "",
            "zerolinecolor": "#C8D4E3"
           }
          },
          "shapedefaults": {
           "line": {
            "color": "#f2f5fa"
           }
          },
          "sliderdefaults": {
           "bgcolor": "#C8D4E3",
           "bordercolor": "rgb(17,17,17)",
           "borderwidth": 1,
           "tickwidth": 0
          },
          "ternary": {
           "aaxis": {
            "gridcolor": "#506784",
            "linecolor": "#506784",
            "ticks": ""
           },
           "baxis": {
            "gridcolor": "#506784",
            "linecolor": "#506784",
            "ticks": ""
           },
           "bgcolor": "rgb(17,17,17)",
           "caxis": {
            "gridcolor": "#506784",
            "linecolor": "#506784",
            "ticks": ""
           }
          },
          "title": {
           "x": 0.05
          },
          "updatemenudefaults": {
           "bgcolor": "#506784",
           "borderwidth": 0
          },
          "xaxis": {
           "automargin": true,
           "gridcolor": "#283442",
           "linecolor": "#506784",
           "ticks": "",
           "title": {
            "standoff": 15
           },
           "zerolinecolor": "#283442",
           "zerolinewidth": 2
          },
          "yaxis": {
           "automargin": true,
           "gridcolor": "#283442",
           "linecolor": "#506784",
           "ticks": "",
           "title": {
            "standoff": 15
           },
           "zerolinecolor": "#283442",
           "zerolinewidth": 2
          }
         }
        },
        "title": {
         "text": "Localização da Empresa e do Funcionário Por Ano"
        },
        "width": 1000,
        "xaxis": {
         "anchor": "y",
         "domain": [
          0,
          1
         ],
         "title": {
          "text": "Anos de trabalho"
         }
        },
        "yaxis": {
         "anchor": "x",
         "domain": [
          0,
          1
         ],
         "title": {
          "text": "Localização Da Empresa"
         }
        }
       }
      }
     },
     "metadata": {},
     "output_type": "display_data"
    }
   ],
   "source": [
    "fig = px.scatter(x=lista_Anos, y=lista_localização_da_empresa, color=lista_tipo_emprego, \n",
    "title='Localização da Empresa e do Funcionário Por Ano', \n",
    "labels={'x':'Anos de trabalho', 'y':'Localização Da Empresa','color': 'Tipo de Emprego'}, \n",
    "template='plotly_dark', height=800, width=1000)\n",
    "fig.show()\n"
   ]
  }
 ],
 "metadata": {
  "kernelspec": {
   "display_name": "Python 3",
   "language": "python",
   "name": "python3"
  },
  "language_info": {
   "codemirror_mode": {
    "name": "ipython",
    "version": 3
   },
   "file_extension": ".py",
   "mimetype": "text/x-python",
   "name": "python",
   "nbconvert_exporter": "python",
   "pygments_lexer": "ipython3",
   "version": "3.10.9 (tags/v3.10.9:1dd9be6, Dec  6 2022, 20:01:21) [MSC v.1934 64 bit (AMD64)]"
  },
  "orig_nbformat": 4,
  "vscode": {
   "interpreter": {
    "hash": "7b1f2b33e866b0bf2409397e5f58ba9cdf170d3b7f64c8f359c79998e2f88ad4"
   }
  }
 },
 "nbformat": 4,
 "nbformat_minor": 2
}
