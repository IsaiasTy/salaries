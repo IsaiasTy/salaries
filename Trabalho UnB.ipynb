{
 "cells": [
  {
   "cell_type": "code",
   "execution_count": 1,
   "metadata": {},
   "outputs": [],
   "source": [
    "import numpy as np\n",
    "import pandas as pd\n",
    "import plotly.express as px\n",
    "\n",
    "\n",
    "\n",
    "df = pd.read_csv('https://raw.githubusercontent.com/IsaiasTy/salaries/main/salaries.csv')\n",
    "\n"
   ]
  },
  {
   "cell_type": "code",
   "execution_count": 32,
   "metadata": {},
   "outputs": [
    {
     "data": {
      "text/html": [
       "<div>\n",
       "<style scoped>\n",
       "    .dataframe tbody tr th:only-of-type {\n",
       "        vertical-align: middle;\n",
       "    }\n",
       "\n",
       "    .dataframe tbody tr th {\n",
       "        vertical-align: top;\n",
       "    }\n",
       "\n",
       "    .dataframe thead th {\n",
       "        text-align: right;\n",
       "    }\n",
       "</style>\n",
       "<table border=\"1\" class=\"dataframe\">\n",
       "  <thead>\n",
       "    <tr style=\"text-align: right;\">\n",
       "      <th></th>\n",
       "      <th>experience_level</th>\n",
       "      <th>employment_type</th>\n",
       "      <th>job_title</th>\n",
       "      <th>salary</th>\n",
       "      <th>salary_currency</th>\n",
       "      <th>salary_in_usd</th>\n",
       "      <th>employee_residence</th>\n",
       "      <th>remote_ratio</th>\n",
       "      <th>company_location</th>\n",
       "      <th>company_size</th>\n",
       "    </tr>\n",
       "  </thead>\n",
       "  <tbody>\n",
       "    <tr>\n",
       "      <th>0</th>\n",
       "      <td>MI</td>\n",
       "      <td>FT</td>\n",
       "      <td>Machine Learning Engineer</td>\n",
       "      <td>130000</td>\n",
       "      <td>USD</td>\n",
       "      <td>130000</td>\n",
       "      <td>US</td>\n",
       "      <td>0</td>\n",
       "      <td>US</td>\n",
       "      <td>M</td>\n",
       "    </tr>\n",
       "    <tr>\n",
       "      <th>1</th>\n",
       "      <td>MI</td>\n",
       "      <td>FT</td>\n",
       "      <td>Machine Learning Engineer</td>\n",
       "      <td>90000</td>\n",
       "      <td>USD</td>\n",
       "      <td>90000</td>\n",
       "      <td>US</td>\n",
       "      <td>0</td>\n",
       "      <td>US</td>\n",
       "      <td>M</td>\n",
       "    </tr>\n",
       "    <tr>\n",
       "      <th>2</th>\n",
       "      <td>MI</td>\n",
       "      <td>FT</td>\n",
       "      <td>Data Scientist</td>\n",
       "      <td>120000</td>\n",
       "      <td>USD</td>\n",
       "      <td>120000</td>\n",
       "      <td>US</td>\n",
       "      <td>100</td>\n",
       "      <td>US</td>\n",
       "      <td>M</td>\n",
       "    </tr>\n",
       "    <tr>\n",
       "      <th>3</th>\n",
       "      <td>MI</td>\n",
       "      <td>FT</td>\n",
       "      <td>Data Scientist</td>\n",
       "      <td>100000</td>\n",
       "      <td>USD</td>\n",
       "      <td>100000</td>\n",
       "      <td>US</td>\n",
       "      <td>100</td>\n",
       "      <td>US</td>\n",
       "      <td>M</td>\n",
       "    </tr>\n",
       "    <tr>\n",
       "      <th>4</th>\n",
       "      <td>MI</td>\n",
       "      <td>FT</td>\n",
       "      <td>Data Scientist</td>\n",
       "      <td>85000</td>\n",
       "      <td>USD</td>\n",
       "      <td>85000</td>\n",
       "      <td>US</td>\n",
       "      <td>100</td>\n",
       "      <td>US</td>\n",
       "      <td>M</td>\n",
       "    </tr>\n",
       "  </tbody>\n",
       "</table>\n",
       "</div>"
      ],
      "text/plain": [
       "  experience_level employment_type                  job_title  salary  \\\n",
       "0               MI              FT  Machine Learning Engineer  130000   \n",
       "1               MI              FT  Machine Learning Engineer   90000   \n",
       "2               MI              FT             Data Scientist  120000   \n",
       "3               MI              FT             Data Scientist  100000   \n",
       "4               MI              FT             Data Scientist   85000   \n",
       "\n",
       "  salary_currency  salary_in_usd employee_residence  remote_ratio  \\\n",
       "0             USD         130000                 US             0   \n",
       "1             USD          90000                 US             0   \n",
       "2             USD         120000                 US           100   \n",
       "3             USD         100000                 US           100   \n",
       "4             USD          85000                 US           100   \n",
       "\n",
       "  company_location company_size  \n",
       "0               US            M  \n",
       "1               US            M  \n",
       "2               US            M  \n",
       "3               US            M  \n",
       "4               US            M  "
      ]
     },
     "execution_count": 32,
     "metadata": {},
     "output_type": "execute_result"
    }
   ],
   "source": [
    "df.head()"
   ]
  },
  {
   "cell_type": "code",
   "execution_count": 3,
   "metadata": {},
   "outputs": [
    {
     "data": {
      "text/html": [
       "<div>\n",
       "<style scoped>\n",
       "    .dataframe tbody tr th:only-of-type {\n",
       "        vertical-align: middle;\n",
       "    }\n",
       "\n",
       "    .dataframe tbody tr th {\n",
       "        vertical-align: top;\n",
       "    }\n",
       "\n",
       "    .dataframe thead th {\n",
       "        text-align: right;\n",
       "    }\n",
       "</style>\n",
       "<table border=\"1\" class=\"dataframe\">\n",
       "  <thead>\n",
       "    <tr style=\"text-align: right;\">\n",
       "      <th></th>\n",
       "      <th>work_year</th>\n",
       "      <th>experience_level</th>\n",
       "      <th>employment_type</th>\n",
       "      <th>job_title</th>\n",
       "      <th>salary</th>\n",
       "      <th>salary_currency</th>\n",
       "      <th>salary_in_usd</th>\n",
       "      <th>employee_residence</th>\n",
       "      <th>remote_ratio</th>\n",
       "      <th>company_location</th>\n",
       "      <th>company_size</th>\n",
       "    </tr>\n",
       "  </thead>\n",
       "  <tbody>\n",
       "    <tr>\n",
       "      <th>1327</th>\n",
       "      <td>2020</td>\n",
       "      <td>SE</td>\n",
       "      <td>FT</td>\n",
       "      <td>Data Scientist</td>\n",
       "      <td>412000</td>\n",
       "      <td>USD</td>\n",
       "      <td>412000</td>\n",
       "      <td>US</td>\n",
       "      <td>100</td>\n",
       "      <td>US</td>\n",
       "      <td>L</td>\n",
       "    </tr>\n",
       "    <tr>\n",
       "      <th>1328</th>\n",
       "      <td>2021</td>\n",
       "      <td>MI</td>\n",
       "      <td>FT</td>\n",
       "      <td>Principal Data Scientist</td>\n",
       "      <td>151000</td>\n",
       "      <td>USD</td>\n",
       "      <td>151000</td>\n",
       "      <td>US</td>\n",
       "      <td>100</td>\n",
       "      <td>US</td>\n",
       "      <td>L</td>\n",
       "    </tr>\n",
       "    <tr>\n",
       "      <th>1329</th>\n",
       "      <td>2020</td>\n",
       "      <td>EN</td>\n",
       "      <td>FT</td>\n",
       "      <td>Data Scientist</td>\n",
       "      <td>105000</td>\n",
       "      <td>USD</td>\n",
       "      <td>105000</td>\n",
       "      <td>US</td>\n",
       "      <td>100</td>\n",
       "      <td>US</td>\n",
       "      <td>S</td>\n",
       "    </tr>\n",
       "    <tr>\n",
       "      <th>1330</th>\n",
       "      <td>2020</td>\n",
       "      <td>EN</td>\n",
       "      <td>CT</td>\n",
       "      <td>Business Data Analyst</td>\n",
       "      <td>100000</td>\n",
       "      <td>USD</td>\n",
       "      <td>100000</td>\n",
       "      <td>US</td>\n",
       "      <td>100</td>\n",
       "      <td>US</td>\n",
       "      <td>L</td>\n",
       "    </tr>\n",
       "    <tr>\n",
       "      <th>1331</th>\n",
       "      <td>2021</td>\n",
       "      <td>SE</td>\n",
       "      <td>FT</td>\n",
       "      <td>Data Science Manager</td>\n",
       "      <td>7000000</td>\n",
       "      <td>INR</td>\n",
       "      <td>94665</td>\n",
       "      <td>IN</td>\n",
       "      <td>50</td>\n",
       "      <td>IN</td>\n",
       "      <td>L</td>\n",
       "    </tr>\n",
       "  </tbody>\n",
       "</table>\n",
       "</div>"
      ],
      "text/plain": [
       "      work_year experience_level employment_type                 job_title  \\\n",
       "1327       2020               SE              FT            Data Scientist   \n",
       "1328       2021               MI              FT  Principal Data Scientist   \n",
       "1329       2020               EN              FT            Data Scientist   \n",
       "1330       2020               EN              CT     Business Data Analyst   \n",
       "1331       2021               SE              FT      Data Science Manager   \n",
       "\n",
       "       salary salary_currency  salary_in_usd employee_residence  remote_ratio  \\\n",
       "1327   412000             USD         412000                 US           100   \n",
       "1328   151000             USD         151000                 US           100   \n",
       "1329   105000             USD         105000                 US           100   \n",
       "1330   100000             USD         100000                 US           100   \n",
       "1331  7000000             INR          94665                 IN            50   \n",
       "\n",
       "     company_location company_size  \n",
       "1327               US            L  \n",
       "1328               US            L  \n",
       "1329               US            S  \n",
       "1330               US            L  \n",
       "1331               IN            L  "
      ]
     },
     "execution_count": 3,
     "metadata": {},
     "output_type": "execute_result"
    }
   ],
   "source": [
    "df.tail()"
   ]
  },
  {
   "cell_type": "code",
   "execution_count": 62,
   "metadata": {},
   "outputs": [
    {
     "name": "stderr",
     "output_type": "stream",
     "text": [
      "C:\\Users\\user\\AppData\\Local\\Temp\\ipykernel_752\\2129359200.py:1: FutureWarning:\n",
      "\n",
      "The default value of numeric_only in DataFrameGroupBy.mean is deprecated. In a future version, numeric_only will default to False. Either specify numeric_only or select only columns which should be valid for the function.\n",
      "\n"
     ]
    }
   ],
   "source": [
    "grouped_df = df.groupby(['work_year', 'employee_residence' , 'company_location' , 'salary'], sort=False).mean().reset_index()"
   ]
  },
  {
   "cell_type": "code",
   "execution_count": 63,
   "metadata": {},
   "outputs": [
    {
     "data": {
      "application/vnd.plotly.v1+json": {
       "config": {
        "plotlyServerURL": "https://plot.ly"
       },
       "data": [
        {
         "customdata": [
          [
           "US",
           130000
          ],
          [
           "US",
           90000
          ],
          [
           "CA",
           187200
          ],
          [
           "CA",
           116100
          ],
          [
           "US",
           204500
          ],
          [
           "US",
           142200
          ],
          [
           "US",
           210000
          ],
          [
           "US",
           180000
          ],
          [
           "US",
           108000
          ],
          [
           "US",
           210000
          ],
          [
           "US",
           180000
          ],
          [
           "CA",
           140000
          ],
          [
           "CA",
           110000
          ],
          [
           "US",
           210000
          ],
          [
           "US",
           180000
          ],
          [
           "PR",
           200000
          ],
          [
           "PR",
           135000
          ],
          [
           "US",
           195400
          ],
          [
           "US",
           131300
          ],
          [
           "FI",
           60000
          ],
          [
           "GB",
           104000
          ],
          [
           "US",
           186000
          ],
          [
           "US",
           148800
          ],
          [
           "US",
           135000
          ],
          [
           "US",
           85000
          ],
          [
           "US",
           189650
          ],
          [
           "US",
           164996
          ],
          [
           "US",
           200000
          ],
          [
           "US",
           150000
          ],
          [
           "US",
           193900
          ],
          [
           "US",
           129300
          ],
          [
           "GB",
           45000
          ],
          [
           "US",
           248700
          ],
          [
           "US",
           167100
          ],
          [
           "US",
           202900
          ],
          [
           "US",
           131300
          ],
          [
           "US",
           115000
          ],
          [
           "US",
           193900
          ],
          [
           "US",
           129300
          ],
          [
           "GB",
           30000
          ],
          [
           "US",
           180000
          ],
          [
           "US",
           100000
          ],
          [
           "US",
           202900
          ],
          [
           "US",
           131300
          ],
          [
           "US",
           83000
          ],
          [
           "GB",
           95000
          ],
          [
           "GB",
           75000
          ],
          [
           "FR",
           80000
          ],
          [
           "US",
           189650
          ],
          [
           "US",
           164996
          ],
          [
           "GB",
           28500
          ],
          [
           "US",
           189650
          ],
          [
           "US",
           164996
          ],
          [
           "IT",
           43200
          ],
          [
           "US",
           214000
          ],
          [
           "US",
           192600
          ],
          [
           "US",
           220000
          ],
          [
           "US",
           120000
          ],
          [
           "AE",
           120000
          ],
          [
           "AE",
           65000
          ],
          [
           "US",
           120000
          ],
          [
           "IE",
           65000
          ],
          [
           "AU",
           121000
          ],
          [
           "NL",
           57000
          ],
          [
           "IN",
           20000
          ],
          [
           "BE",
           70000
          ],
          [
           "US",
           125000
          ],
          [
           "ES",
           40000
          ],
          [
           "US",
           250000
          ],
          [
           "US",
           138000
          ],
          [
           "DE",
           80000
          ],
          [
           "US",
           185000
          ],
          [
           "US",
           150000
          ],
          [
           "NL",
           85000
          ],
          [
           "IN",
           4900000
          ],
          [
           "DE",
           21000
          ],
          [
           "IN",
           1799997
          ],
          [
           "CO",
           21844
          ],
          [
           "US",
           81000
          ],
          [
           "PL",
           180000
          ],
          [
           "BE",
           75000
          ],
          [
           "CN",
           299000
          ],
          [
           "SI",
           21000
          ],
          [
           "US",
           200000
          ],
          [
           "JP",
           74000
          ],
          [
           "HR",
           40000
          ]
         ],
         "hovertemplate": "Carreira=Machine Learning Engineer<br>Ano=%{x}<br>Localização Da Empresa=%{y}<br>Localização Do Funcionário=%{customdata[0]}<br>Salário=%{customdata[1]}<extra></extra>",
         "legendgroup": "Machine Learning Engineer",
         "marker": {
          "color": "#636efa",
          "symbol": "circle"
         },
         "mode": "markers",
         "name": "Machine Learning Engineer",
         "showlegend": true,
         "type": "scattergl",
         "x": [
          2022,
          2022,
          2022,
          2022,
          2022,
          2022,
          2022,
          2022,
          2022,
          2022,
          2022,
          2022,
          2022,
          2022,
          2022,
          2022,
          2022,
          2022,
          2022,
          2022,
          2022,
          2022,
          2022,
          2022,
          2022,
          2022,
          2022,
          2022,
          2022,
          2022,
          2022,
          2022,
          2022,
          2022,
          2022,
          2022,
          2022,
          2022,
          2022,
          2022,
          2022,
          2022,
          2022,
          2022,
          2022,
          2022,
          2022,
          2022,
          2022,
          2022,
          2022,
          2022,
          2022,
          2021,
          2022,
          2022,
          2022,
          2022,
          2022,
          2022,
          2022,
          2022,
          2022,
          2022,
          2021,
          2021,
          2021,
          2021,
          2020,
          2020,
          2021,
          2021,
          2020,
          2021,
          2021,
          2021,
          2021,
          2021,
          2021,
          2021,
          2021,
          2020,
          2021,
          2021,
          2021,
          2020
         ],
         "xaxis": "x",
         "y": [
          "US",
          "US",
          "CA",
          "CA",
          "US",
          "US",
          "US",
          "US",
          "US",
          "US",
          "US",
          "CA",
          "CA",
          "US",
          "US",
          "PR",
          "PR",
          "US",
          "US",
          "FI",
          "GB",
          "US",
          "US",
          "US",
          "US",
          "US",
          "US",
          "US",
          "US",
          "US",
          "US",
          "GB",
          "US",
          "US",
          "US",
          "US",
          "US",
          "US",
          "US",
          "GB",
          "US",
          "US",
          "US",
          "US",
          "US",
          "GB",
          "GB",
          "DE",
          "US",
          "US",
          "GB",
          "US",
          "US",
          "IT",
          "US",
          "US",
          "US",
          "US",
          "AE",
          "AE",
          "US",
          "IE",
          "AU",
          "NL",
          "IN",
          "BE",
          "US",
          "ES",
          "US",
          "US",
          "DE",
          "US",
          "US",
          "DE",
          "IN",
          "DE",
          "IN",
          "CO",
          "US",
          "PL",
          "BE",
          "CN",
          "SI",
          "US",
          "JP",
          "HR"
         ],
         "yaxis": "y"
        },
        {
         "customdata": [
          [
           "US",
           120000
          ],
          [
           "US",
           100000
          ],
          [
           "US",
           85000
          ],
          [
           "US",
           78000
          ],
          [
           "US",
           136000
          ],
          [
           "US",
           104000
          ],
          [
           "ES",
           45000
          ],
          [
           "ES",
           36000
          ],
          [
           "US",
           245000
          ],
          [
           "US",
           180000
          ],
          [
           "US",
           198440
          ],
          [
           "US",
           144000
          ],
          [
           "US",
           198440
          ],
          [
           "US",
           144000
          ],
          [
           "GB",
           47000
          ],
          [
           "FR",
           38000
          ],
          [
           "US",
           159699
          ],
          [
           "US",
           138938
          ],
          [
           "US",
           180000
          ],
          [
           "US",
           140000
          ],
          [
           "US",
           225000
          ],
          [
           "US",
           156400
          ],
          [
           "US",
           180000
          ],
          [
           "US",
           100000
          ],
          [
           "US",
           175000
          ],
          [
           "US",
           122500
          ],
          [
           "US",
           202800
          ],
          [
           "US",
           104300
          ],
          [
           "US",
           185900
          ],
          [
           "US",
           129300
          ],
          [
           "MX",
           30000
          ],
          [
           "BR",
           84000
          ],
          [
           "BR",
           54000
          ],
          [
           "US",
           80000
          ],
          [
           "CA",
           96000
          ],
          [
           "GB",
           27000
          ],
          [
           "US",
           185900
          ],
          [
           "US",
           129300
          ],
          [
           "US",
           225000
          ],
          [
           "US",
           156400
          ],
          [
           "US",
           185900
          ],
          [
           "US",
           129300
          ],
          [
           "US",
           155000
          ],
          [
           "US",
           38000
          ],
          [
           "US",
           155000
          ],
          [
           "US",
           38000
          ],
          [
           "US",
           153600
          ],
          [
           "US",
           106800
          ],
          [
           "US",
           185000
          ],
          [
           "US",
           50000
          ],
          [
           "US",
           155000
          ],
          [
           "US",
           38000
          ],
          [
           "US",
           168000
          ],
          [
           "US",
           130000
          ],
          [
           "US",
           123400
          ],
          [
           "US",
           88100
          ],
          [
           "US",
           120000
          ],
          [
           "US",
           55000
          ],
          [
           "US",
           185900
          ],
          [
           "US",
           129300
          ],
          [
           "US",
           185900
          ],
          [
           "US",
           129300
          ],
          [
           "US",
           225000
          ],
          [
           "US",
           156400
          ],
          [
           "US",
           200000
          ],
          [
           "US",
           175000
          ],
          [
           "US",
           185000
          ],
          [
           "US",
           50000
          ],
          [
           "ES",
           45000
          ],
          [
           "ES",
           36000
          ],
          [
           "US",
           144200
          ],
          [
           "US",
           115360
          ],
          [
           "AU",
           120000
          ],
          [
           "US",
           108000
          ],
          [
           "US",
           198440
          ],
          [
           "US",
           144000
          ],
          [
           "DE",
           72000
          ],
          [
           "US",
           198440
          ],
          [
           "US",
           144000
          ],
          [
           "TR",
           10000
          ],
          [
           "US",
           215000
          ],
          [
           "US",
           159000
          ],
          [
           "US",
           236900
          ],
          [
           "US",
           159200
          ],
          [
           "US",
           148000
          ],
          [
           "US",
           128000
          ],
          [
           "US",
           191475
          ],
          [
           "US",
           141525
          ],
          [
           "US",
           218000
          ],
          [
           "US",
           145300
          ],
          [
           "US",
           191475
          ],
          [
           "US",
           141525
          ],
          [
           "US",
           207000
          ],
          [
           "US",
           153000
          ],
          [
           "US",
           191475
          ],
          [
           "US",
           141525
          ],
          [
           "US",
           191475
          ],
          [
           "US",
           141525
          ],
          [
           "US",
           191475
          ],
          [
           "US",
           141525
          ],
          [
           "US",
           191475
          ],
          [
           "US",
           141525
          ],
          [
           "US",
           207000
          ],
          [
           "US",
           153000
          ],
          [
           "US",
           191475
          ],
          [
           "US",
           141525
          ],
          [
           "US",
           191475
          ],
          [
           "US",
           141525
          ],
          [
           "US",
           191475
          ],
          [
           "US",
           141525
          ],
          [
           "GB",
           83000
          ],
          [
           "IN",
           1800000
          ],
          [
           "US",
           180000
          ],
          [
           "US",
           165000
          ],
          [
           "US",
           179400
          ],
          [
           "US",
           154000
          ],
          [
           "US",
           93000
          ],
          [
           "US",
           73000
          ],
          [
           "US",
           136994
          ],
          [
           "US",
           101570
          ],
          [
           "US",
           191475
          ],
          [
           "US",
           141525
          ],
          [
           "US",
           172000
          ],
          [
           "US",
           140000
          ],
          [
           "US",
           191475
          ],
          [
           "US",
           141525
          ],
          [
           "NL",
           70000
          ],
          [
           "US",
           50000
          ],
          [
           "US",
           151800
          ],
          [
           "US",
           130240
          ],
          [
           "US",
           179400
          ],
          [
           "US",
           154000
          ],
          [
           "US",
           191475
          ],
          [
           "US",
           141525
          ],
          [
           "US",
           191475
          ],
          [
           "US",
           141525
          ],
          [
           "US",
           191475
          ],
          [
           "US",
           141525
          ],
          [
           "US",
           191475
          ],
          [
           "US",
           141525
          ],
          [
           "US",
           191475
          ],
          [
           "US",
           141525
          ],
          [
           "US",
           191475
          ],
          [
           "US",
           141525
          ],
          [
           "US",
           191475
          ],
          [
           "US",
           141525
          ],
          [
           "US",
           191475
          ],
          [
           "US",
           141525
          ],
          [
           "ES",
           30000
          ],
          [
           "US",
           204100
          ],
          [
           "US",
           136100
          ],
          [
           "GB",
           96000
          ],
          [
           "GB",
           90000
          ],
          [
           "US",
           191475
          ],
          [
           "US",
           141525
          ],
          [
           "US",
           191475
          ],
          [
           "US",
           141525
          ],
          [
           "US",
           191475
          ],
          [
           "US",
           141525
          ],
          [
           "US",
           170000
          ],
          [
           "US",
           130000
          ],
          [
           "US",
           175000
          ],
          [
           "US",
           140000
          ],
          [
           "US",
           160000
          ],
          [
           "US",
           119300
          ],
          [
           "US",
           225000
          ],
          [
           "US",
           160000
          ],
          [
           "NL",
           52000
          ],
          [
           "US",
           82000
          ],
          [
           "DO",
           110000
          ],
          [
           "US",
           203500
          ],
          [
           "US",
           152000
          ],
          [
           "US",
           170000
          ],
          [
           "US",
           120000
          ],
          [
           "NL",
           110000
          ],
          [
           "NL",
           85000
          ],
          [
           "US",
           123400
          ],
          [
           "US",
           88100
          ],
          [
           "US",
           245000
          ],
          [
           "US",
           205000
          ],
          [
           "BE",
           80000
          ],
          [
           "BR",
           12500
          ],
          [
           "US",
           180000
          ],
          [
           "US",
           140000
          ],
          [
           "IN",
           4200000
          ],
          [
           "GB",
           107000
          ],
          [
           "BE",
           49500
          ],
          [
           "US",
           160000
          ],
          [
           "US",
           100000
          ],
          [
           "DE",
           58000
          ],
          [
           "GB",
           65000
          ],
          [
           "US",
           160000
          ],
          [
           "US",
           92000
          ],
          [
           "US",
           160000
          ],
          [
           "US",
           119300
          ],
          [
           "TR",
           25000
          ],
          [
           "US",
           153000
          ],
          [
           "US",
           160000
          ],
          [
           "US",
           92000
          ],
          [
           "US",
           186000
          ],
          [
           "US",
           148800
          ],
          [
           "DE",
           43200
          ],
          [
           "US",
           215300
          ],
          [
           "US",
           158200
          ],
          [
           "US",
           170000
          ],
          [
           "US",
           123000
          ],
          [
           "US",
           215300
          ],
          [
           "US",
           140400
          ],
          [
           "US",
           260000
          ],
          [
           "US",
           180000
          ],
          [
           "GB",
           55000
          ],
          [
           "GB",
           35000
          ],
          [
           "US",
           180000
          ],
          [
           "US",
           80000
          ],
          [
           "GB",
           50000
          ],
          [
           "GB",
           30000
          ],
          [
           "US",
           165220
          ],
          [
           "US",
           120160
          ],
          [
           "US",
           180000
          ],
          [
           "US",
           120000
          ],
          [
           "US",
           130000
          ],
          [
           "US",
           90000
          ],
          [
           "US",
           136620
          ],
          [
           "US",
           99360
          ],
          [
           "GB",
           90000
          ],
          [
           "GB",
           80000
          ],
          [
           "US",
           146000
          ],
          [
           "US",
           123000
          ],
          [
           "US",
           167000
          ],
          [
           "US",
           123000
          ],
          [
           "US",
           211500
          ],
          [
           "US",
           138600
          ],
          [
           "US",
           150000
          ],
          [
           "US",
           95550
          ],
          [
           "US",
           205300
          ],
          [
           "US",
           140400
          ],
          [
           "US",
           176000
          ],
          [
           "US",
           144000
          ],
          [
           "US",
           205300
          ],
          [
           "US",
           140400
          ],
          [
           "US",
           141300
          ],
          [
           "US",
           102100
          ],
          [
           "US",
           230000
          ],
          [
           "US",
           150000
          ],
          [
           "US",
           160000
          ],
          [
           "US",
           130000
          ],
          [
           "US",
           210000
          ],
          [
           "US",
           140000
          ],
          [
           "US",
           210000
          ],
          [
           "US",
           140000
          ],
          [
           "US",
           210000
          ],
          [
           "US",
           140000
          ],
          [
           "US",
           210000
          ],
          [
           "US",
           140000
          ],
          [
           "US",
           230000
          ],
          [
           "US",
           140000
          ],
          [
           "US",
           220000
          ],
          [
           "US",
           140000
          ],
          [
           "GB",
           140000
          ],
          [
           "GB",
           70000
          ],
          [
           "US",
           200000
          ],
          [
           "US",
           120000
          ],
          [
           "US",
           185100
          ],
          [
           "US",
           104890
          ],
          [
           "IN",
           2400000
          ],
          [
           "IN",
           1400000
          ],
          [
           "US",
           109000
          ],
          [
           "CA",
           88000
          ],
          [
           "CA",
           66500
          ],
          [
           "US",
           78000
          ],
          [
           "JP",
           40000
          ],
          [
           "AU",
           120000
          ],
          [
           "US",
           165000
          ],
          [
           "BR",
           100000
          ],
          [
           "PL",
           150000
          ],
          [
           "US",
           135000
          ],
          [
           "US",
           80000
          ],
          [
           "CH",
           115000
          ],
          [
           "RU",
           48000
          ],
          [
           "CA",
           100000
          ],
          [
           "US",
           100000
          ],
          [
           "DZ",
           100000
          ],
          [
           "US",
           82500
          ],
          [
           "FR",
           42000
          ],
          [
           "IN",
           700000
          ],
          [
           "GR",
           60000
          ],
          [
           "UA",
           13400
          ],
          [
           "CA",
           95000
          ],
          [
           "US",
           150000
          ],
          [
           "NG",
           50000
          ],
          [
           "PH",
           45760
          ],
          [
           "FR",
           45000
          ],
          [
           "GB",
           60000
          ],
          [
           "IN",
           2200000
          ],
          [
           "US",
           105000
          ],
          [
           "IN",
           2100000
          ],
          [
           "US",
           90000
          ],
          [
           "FR",
           31000
          ],
          [
           "US",
           165000
          ],
          [
           "CA",
           130000
          ],
          [
           "DE",
           70000
          ],
          [
           "TR",
           180000
          ],
          [
           "US",
           58000
          ],
          [
           "US",
           100000
          ],
          [
           "FR",
           65720
          ],
          [
           "RS",
           21600
          ],
          [
           "IN",
           1250000
          ],
          [
           "HU",
           11000000
          ],
          [
           "US",
           135000
          ],
          [
           "US",
           147000
          ],
          [
           "FR",
           45000
          ],
          [
           "IN",
           3000000
          ],
          [
           "FR",
           35000
          ],
          [
           "DE",
           76760
          ],
          [
           "IN",
           420000
          ],
          [
           "CL",
           30400000
          ],
          [
           "MX",
           58000
          ],
          [
           "DE",
           52000
          ],
          [
           "ES",
           32000
          ],
          [
           "GB",
           40900
          ],
          [
           "IN",
           2500000
          ],
          [
           "GB",
           85000
          ],
          [
           "DE",
           75000
          ],
          [
           "US",
           160000
          ],
          [
           "BR",
           69600
          ],
          [
           "FR",
           37000
          ],
          [
           "DE",
           55000
          ],
          [
           "DE",
           76760
          ],
          [
           "IT",
           19000
          ],
          [
           "US",
           120000
          ],
          [
           "CA",
           110000
          ],
          [
           "US",
           130000
          ],
          [
           "ES",
           34000
          ],
          [
           "ES",
           39600
          ],
          [
           "VN",
           4000
          ],
          [
           "AT",
           80000
          ],
          [
           "FR",
           55000
          ],
          [
           "US",
           115000
          ],
          [
           "US",
           73000
          ],
          [
           "US",
           118000
          ],
          [
           "US",
           138350
          ],
          [
           "SG",
           160000
          ],
          [
           "US",
           412000
          ],
          [
           "US",
           105000
          ]
         ],
         "hovertemplate": "Carreira=Data Scientist<br>Ano=%{x}<br>Localização Da Empresa=%{y}<br>Localização Do Funcionário=%{customdata[0]}<br>Salário=%{customdata[1]}<extra></extra>",
         "legendgroup": "Data Scientist",
         "marker": {
          "color": "#EF553B",
          "symbol": "circle"
         },
         "mode": "markers",
         "name": "Data Scientist",
         "showlegend": true,
         "type": "scattergl",
         "x": [
          2022,
          2022,
          2022,
          2022,
          2022,
          2022,
          2022,
          2022,
          2022,
          2022,
          2022,
          2022,
          2022,
          2022,
          2022,
          2022,
          2022,
          2022,
          2022,
          2022,
          2022,
          2022,
          2022,
          2022,
          2022,
          2022,
          2022,
          2022,
          2022,
          2022,
          2022,
          2022,
          2022,
          2022,
          2022,
          2022,
          2022,
          2022,
          2022,
          2022,
          2022,
          2022,
          2022,
          2022,
          2022,
          2022,
          2022,
          2022,
          2022,
          2022,
          2022,
          2022,
          2022,
          2022,
          2022,
          2022,
          2022,
          2022,
          2022,
          2022,
          2022,
          2022,
          2022,
          2022,
          2022,
          2022,
          2022,
          2022,
          2022,
          2022,
          2022,
          2022,
          2022,
          2022,
          2022,
          2022,
          2022,
          2022,
          2022,
          2022,
          2022,
          2022,
          2022,
          2022,
          2022,
          2022,
          2022,
          2022,
          2022,
          2022,
          2022,
          2022,
          2022,
          2022,
          2022,
          2022,
          2022,
          2022,
          2022,
          2022,
          2022,
          2022,
          2022,
          2022,
          2022,
          2022,
          2022,
          2022,
          2022,
          2022,
          2022,
          2022,
          2022,
          2022,
          2022,
          2022,
          2022,
          2022,
          2022,
          2022,
          2022,
          2022,
          2022,
          2022,
          2022,
          2022,
          2022,
          2022,
          2022,
          2022,
          2022,
          2022,
          2022,
          2022,
          2022,
          2022,
          2022,
          2022,
          2022,
          2022,
          2022,
          2022,
          2022,
          2022,
          2022,
          2022,
          2022,
          2022,
          2022,
          2022,
          2022,
          2022,
          2022,
          2022,
          2022,
          2022,
          2022,
          2022,
          2022,
          2022,
          2022,
          2022,
          2022,
          2022,
          2022,
          2022,
          2022,
          2022,
          2022,
          2022,
          2022,
          2022,
          2022,
          2022,
          2022,
          2022,
          2022,
          2022,
          2022,
          2022,
          2022,
          2022,
          2022,
          2022,
          2022,
          2022,
          2022,
          2022,
          2022,
          2022,
          2022,
          2022,
          2022,
          2022,
          2022,
          2022,
          2022,
          2022,
          2022,
          2022,
          2022,
          2020,
          2022,
          2022,
          2022,
          2022,
          2022,
          2022,
          2022,
          2022,
          2022,
          2022,
          2022,
          2022,
          2022,
          2022,
          2022,
          2022,
          2022,
          2022,
          2022,
          2022,
          2022,
          2022,
          2022,
          2022,
          2022,
          2022,
          2022,
          2022,
          2022,
          2022,
          2022,
          2022,
          2022,
          2022,
          2022,
          2022,
          2022,
          2022,
          2022,
          2022,
          2022,
          2022,
          2022,
          2022,
          2022,
          2022,
          2022,
          2022,
          2022,
          2022,
          2022,
          2022,
          2022,
          2022,
          2022,
          2022,
          2022,
          2022,
          2022,
          2022,
          2022,
          2022,
          2022,
          2022,
          2021,
          2022,
          2022,
          2022,
          2022,
          2022,
          2022,
          2022,
          2022,
          2022,
          2021,
          2022,
          2022,
          2022,
          2021,
          2022,
          2021,
          2021,
          2021,
          2020,
          2021,
          2021,
          2021,
          2021,
          2020,
          2021,
          2020,
          2021,
          2020,
          2021,
          2021,
          2021,
          2021,
          2021,
          2020,
          2021,
          2021,
          2021,
          2021,
          2021,
          2021,
          2020,
          2021,
          2021,
          2020,
          2020,
          2020,
          2021,
          2021,
          2021,
          2021,
          2021,
          2021,
          2021,
          2021,
          2021,
          2021,
          2021,
          2021,
          2020,
          2020,
          2021,
          2020,
          2020,
          2021,
          2021,
          2020,
          2021,
          2021,
          2020,
          2020,
          2021,
          2021,
          2020,
          2020,
          2021,
          2020,
          2020
         ],
         "xaxis": "x",
         "y": [
          "US",
          "US",
          "US",
          "US",
          "US",
          "US",
          "ES",
          "ES",
          "US",
          "US",
          "US",
          "US",
          "US",
          "US",
          "GB",
          "FR",
          "US",
          "US",
          "US",
          "US",
          "US",
          "US",
          "US",
          "US",
          "US",
          "US",
          "US",
          "US",
          "US",
          "US",
          "MX",
          "BR",
          "BR",
          "US",
          "CA",
          "GB",
          "US",
          "US",
          "US",
          "US",
          "US",
          "US",
          "US",
          "US",
          "US",
          "US",
          "US",
          "US",
          "US",
          "US",
          "US",
          "US",
          "US",
          "US",
          "US",
          "US",
          "US",
          "US",
          "US",
          "US",
          "US",
          "US",
          "US",
          "US",
          "US",
          "US",
          "US",
          "US",
          "ES",
          "ES",
          "US",
          "US",
          "AU",
          "US",
          "US",
          "US",
          "DE",
          "US",
          "US",
          "TR",
          "US",
          "US",
          "US",
          "US",
          "US",
          "US",
          "US",
          "US",
          "US",
          "US",
          "US",
          "US",
          "US",
          "US",
          "US",
          "US",
          "US",
          "US",
          "US",
          "US",
          "US",
          "US",
          "US",
          "US",
          "US",
          "US",
          "US",
          "US",
          "US",
          "US",
          "GB",
          "IN",
          "US",
          "US",
          "US",
          "US",
          "US",
          "US",
          "US",
          "US",
          "US",
          "US",
          "US",
          "US",
          "US",
          "US",
          "NL",
          "DE",
          "US",
          "US",
          "US",
          "US",
          "US",
          "US",
          "US",
          "US",
          "US",
          "US",
          "US",
          "US",
          "US",
          "US",
          "US",
          "US",
          "US",
          "US",
          "US",
          "US",
          "ES",
          "US",
          "US",
          "GB",
          "GB",
          "US",
          "US",
          "US",
          "US",
          "US",
          "US",
          "US",
          "US",
          "US",
          "US",
          "US",
          "US",
          "US",
          "US",
          "NL",
          "US",
          "FR",
          "US",
          "US",
          "US",
          "US",
          "NL",
          "NL",
          "US",
          "US",
          "US",
          "US",
          "BE",
          "BR",
          "US",
          "US",
          "ID",
          "GB",
          "BE",
          "US",
          "US",
          "DE",
          "GB",
          "US",
          "US",
          "US",
          "US",
          "TR",
          "US",
          "US",
          "US",
          "US",
          "US",
          "DE",
          "US",
          "US",
          "US",
          "US",
          "US",
          "US",
          "US",
          "US",
          "GB",
          "GB",
          "US",
          "US",
          "GB",
          "GB",
          "US",
          "US",
          "US",
          "US",
          "US",
          "US",
          "US",
          "US",
          "GB",
          "GB",
          "US",
          "US",
          "US",
          "US",
          "US",
          "US",
          "US",
          "US",
          "US",
          "US",
          "US",
          "US",
          "US",
          "US",
          "US",
          "US",
          "US",
          "US",
          "US",
          "US",
          "US",
          "US",
          "US",
          "US",
          "US",
          "US",
          "US",
          "US",
          "US",
          "US",
          "US",
          "US",
          "GB",
          "GB",
          "US",
          "US",
          "US",
          "US",
          "IN",
          "IN",
          "US",
          "CA",
          "CA",
          "US",
          "MY",
          "AU",
          "US",
          "US",
          "PL",
          "US",
          "US",
          "CH",
          "US",
          "US",
          "US",
          "DZ",
          "US",
          "FR",
          "IN",
          "US",
          "UA",
          "CA",
          "US",
          "NG",
          "US",
          "FR",
          "GB",
          "IN",
          "US",
          "IN",
          "US",
          "FR",
          "US",
          "CA",
          "DE",
          "TR",
          "US",
          "US",
          "FR",
          "DE",
          "IN",
          "HU",
          "US",
          "US",
          "FR",
          "IN",
          "FR",
          "DE",
          "US",
          "CL",
          "MX",
          "AT",
          "ES",
          "GB",
          "IN",
          "GB",
          "DE",
          "US",
          "BR",
          "FR",
          "DE",
          "DE",
          "IT",
          "US",
          "CA",
          "US",
          "ES",
          "ES",
          "VN",
          "AT",
          "LU",
          "US",
          "US",
          "US",
          "US",
          "IL",
          "US",
          "US"
         ],
         "yaxis": "y"
        },
        {
         "customdata": [
          [
           "US",
           161000
          ],
          [
           "US",
           110000
          ],
          [
           "GB",
           50000
          ],
          [
           "GB",
           40000
          ],
          [
           "US",
           160000
          ],
          [
           "US",
           130000
          ],
          [
           "US",
           135000
          ],
          [
           "US",
           100000
          ],
          [
           "US",
           220000
          ],
          [
           "US",
           150000
          ],
          [
           "US",
           240000
          ],
          [
           "US",
           170000
          ],
          [
           "US",
           275000
          ],
          [
           "US",
           166000
          ],
          [
           "US",
           236000
          ],
          [
           "US",
           182000
          ],
          [
           "US",
           300000
          ],
          [
           "US",
           130000
          ],
          [
           "US",
           195000
          ],
          [
           "US",
           175000
          ],
          [
           "US",
           155000
          ],
          [
           "US",
           110000
          ],
          [
           "US",
           170000
          ],
          [
           "US",
           150000
          ],
          [
           "US",
           97000
          ],
          [
           "US",
           90000
          ],
          [
           "US",
           200000
          ],
          [
           "US",
           160000
          ],
          [
           "US",
           260000
          ],
          [
           "US",
           180000
          ],
          [
           "US",
           171000
          ],
          [
           "US",
           117000
          ],
          [
           "US",
           197000
          ],
          [
           "US",
           99000
          ],
          [
           "US",
           160000
          ],
          [
           "US",
           110000
          ],
          [
           "US",
           170000
          ],
          [
           "US",
           130000
          ],
          [
           "BR",
           78000
          ],
          [
           "BR",
           42000
          ],
          [
           "US",
           145000
          ],
          [
           "US",
           115000
          ],
          [
           "US",
           205600
          ],
          [
           "US",
           105700
          ],
          [
           "US",
           185900
          ],
          [
           "US",
           129300
          ],
          [
           "AU",
           100000
          ],
          [
           "US",
           225000
          ],
          [
           "US",
           184100
          ],
          [
           "GB",
           90000
          ],
          [
           "GB",
           75000
          ],
          [
           "US",
           185900
          ],
          [
           "US",
           129300
          ],
          [
           "US",
           191200
          ],
          [
           "US",
           130000
          ],
          [
           "US",
           185000
          ],
          [
           "US",
           50000
          ],
          [
           "US",
           185900
          ],
          [
           "US",
           129300
          ],
          [
           "US",
           185900
          ],
          [
           "US",
           129300
          ],
          [
           "PT",
           70000
          ],
          [
           "PT",
           40000
          ],
          [
           "US",
           170000
          ],
          [
           "US",
           150000
          ],
          [
           "US",
           188700
          ],
          [
           "US",
           160395
          ],
          [
           "US",
           300000
          ],
          [
           "US",
           225000
          ],
          [
           "US",
           200000
          ],
          [
           "US",
           180000
          ],
          [
           "US",
           165000
          ],
          [
           "US",
           132000
          ],
          [
           "US",
           178800
          ],
          [
           "US",
           132100
          ],
          [
           "US",
           160000
          ],
          [
           "US",
           85000
          ],
          [
           "US",
           187200
          ],
          [
           "US",
           116100
          ],
          [
           "US",
           200000
          ],
          [
           "US",
           145000
          ],
          [
           "US",
           229998
          ],
          [
           "US",
           154545
          ],
          [
           "US",
           229998
          ],
          [
           "US",
           154545
          ],
          [
           "US",
           175000
          ],
          [
           "US",
           150000
          ],
          [
           "US",
           160000
          ],
          [
           "US",
           85000
          ],
          [
           "US",
           195700
          ],
          [
           "US",
           130500
          ],
          [
           "GB",
           65000
          ],
          [
           "GB",
           55000
          ],
          [
           "US",
           141300
          ],
          [
           "US",
           102100
          ],
          [
           "US",
           135000
          ],
          [
           "US",
           80000
          ],
          [
           "US",
           160000
          ],
          [
           "US",
           85000
          ],
          [
           "US",
           178800
          ],
          [
           "US",
           132100
          ],
          [
           "US",
           140000
          ],
          [
           "US",
           105000
          ],
          [
           "GB",
           65000
          ],
          [
           "GB",
           55000
          ],
          [
           "US",
           150000
          ],
          [
           "US",
           100000
          ],
          [
           "US",
           297500
          ],
          [
           "US",
           260000
          ],
          [
           "US",
           215000
          ],
          [
           "US",
           164000
          ],
          [
           "US",
           300000
          ],
          [
           "US",
           130000
          ],
          [
           "US",
           250000
          ],
          [
           "US",
           63000
          ],
          [
           "US",
           180000
          ],
          [
           "US",
           150000
          ],
          [
           "GB",
           33000
          ],
          [
           "US",
           250000
          ],
          [
           "US",
           63000
          ],
          [
           "US",
           135000
          ],
          [
           "US",
           115000
          ],
          [
           "GR",
           80000
          ],
          [
           "GR",
           70000
          ],
          [
           "GB",
           80000
          ],
          [
           "GB",
           70000
          ],
          [
           "ES",
           80000
          ],
          [
           "ES",
           70000
          ],
          [
           "GB",
           84958
          ],
          [
           "GB",
           66822
          ],
          [
           "US",
           80000
          ],
          [
           "US",
           105000
          ],
          [
           "US",
           90000
          ],
          [
           "CA",
           185800
          ],
          [
           "CA",
           137400
          ],
          [
           "US",
           250000
          ],
          [
           "US",
           63000
          ],
          [
           "US",
           135000
          ],
          [
           "US",
           85000
          ],
          [
           "US",
           154000
          ],
          [
           "US",
           126000
          ],
          [
           "US",
           195700
          ],
          [
           "US",
           130500
          ],
          [
           "GB",
           80000
          ],
          [
           "GB",
           60000
          ],
          [
           "PR",
           200000
          ],
          [
           "PR",
           135000
          ],
          [
           "US",
           188100
          ],
          [
           "US",
           139860
          ],
          [
           "US",
           141300
          ],
          [
           "US",
           102100
          ],
          [
           "US",
           177600
          ],
          [
           "US",
           131300
          ],
          [
           "US",
           24000
          ],
          [
           "US",
           24000
          ],
          [
           "US",
           250000
          ],
          [
           "US",
           63000
          ],
          [
           "US",
           145000
          ],
          [
           "US",
           115000
          ],
          [
           "US",
           210000
          ],
          [
           "US",
           100000
          ],
          [
           "US",
           206699
          ],
          [
           "US",
           99100
          ],
          [
           "US",
           250000
          ],
          [
           "US",
           63000
          ],
          [
           "US",
           250000
          ],
          [
           "US",
           63000
          ],
          [
           "US",
           100000
          ],
          [
           "US",
           80000
          ],
          [
           "GB",
           74000
          ],
          [
           "GB",
           50000
          ],
          [
           "US",
           170000
          ],
          [
           "US",
           130000
          ],
          [
           "US",
           200000
          ],
          [
           "US",
           160000
          ],
          [
           "GB",
           110000
          ],
          [
           "GB",
           85000
          ],
          [
           "US",
           129000
          ],
          [
           "US",
           86000
          ],
          [
           "IN",
           1000000
          ],
          [
           "IN",
           1000000
          ],
          [
           "US",
           210000
          ],
          [
           "US",
           100000
          ],
          [
           "US",
           175000
          ],
          [
           "US",
           135000
          ],
          [
           "GB",
           75000
          ],
          [
           "GB",
           55000
          ],
          [
           "DE",
           62500
          ],
          [
           "GB",
           90000
          ],
          [
           "GB",
           75000
          ],
          [
           "US",
           209100
          ],
          [
           "US",
           154600
          ],
          [
           "US",
           175000
          ],
          [
           "US",
           155000
          ],
          [
           "US",
           165400
          ],
          [
           "US",
           132320
          ],
          [
           "US",
           136994
          ],
          [
           "US",
           101570
          ],
          [
           "US",
           183600
          ],
          [
           "US",
           100800
          ],
          [
           "ES",
           80000
          ],
          [
           "ES",
           70000
          ],
          [
           "GB",
           80000
          ],
          [
           "GB",
           70000
          ],
          [
           "GR",
           80000
          ],
          [
           "GR",
           70000
          ],
          [
           "GB",
           75000
          ],
          [
           "GB",
           60000
          ],
          [
           "ES",
           60000
          ],
          [
           "ES",
           45000
          ],
          [
           "GR",
           60000
          ],
          [
           "GR",
           45000
          ],
          [
           "GB",
           60000
          ],
          [
           "GB",
           45000
          ],
          [
           "US",
           82900
          ],
          [
           "US",
           63900
          ],
          [
           "US",
           136000
          ],
          [
           "US",
           108800
          ],
          [
           "US",
           242000
          ],
          [
           "US",
           200000
          ],
          [
           "GB",
           60000
          ],
          [
           "GB",
           40000
          ],
          [
           "US",
           181940
          ],
          [
           "US",
           132320
          ],
          [
           "US",
           220110
          ],
          [
           "US",
           160080
          ],
          [
           "US",
           170000
          ],
          [
           "US",
           150000
          ],
          [
           "GB",
           40000
          ],
          [
           "GB",
           35000
          ],
          [
           "GB",
           60000
          ],
          [
           "GB",
           50000
          ],
          [
           "US",
           160000
          ],
          [
           "US",
           113000
          ],
          [
           "US",
           165400
          ],
          [
           "US",
           132320
          ],
          [
           "US",
           243900
          ],
          [
           "US",
           156600
          ],
          [
           "US",
           128875
          ],
          [
           "US",
           93700
          ],
          [
           "US",
           209100
          ],
          [
           "US",
           154600
          ],
          [
           "US",
           180000
          ],
          [
           "US",
           160000
          ],
          [
           "US",
           200100
          ],
          [
           "US",
           160000
          ],
          [
           "US",
           70500
          ],
          [
           "US",
           54000
          ],
          [
           "US",
           175100
          ],
          [
           "US",
           140250
          ],
          [
           "US",
           145000
          ],
          [
           "US",
           130000
          ],
          [
           "US",
           155000
          ],
          [
           "US",
           115000
          ],
          [
           "US",
           206699
          ],
          [
           "US",
           99100
          ],
          [
           "US",
           130000
          ],
          [
           "US",
           110500
          ],
          [
           "US",
           154000
          ],
          [
           "US",
           126000
          ],
          [
           "US",
           100000
          ],
          [
           "US",
           25000
          ],
          [
           "US",
           220110
          ],
          [
           "US",
           160080
          ],
          [
           "US",
           324000
          ],
          [
           "US",
           216000
          ],
          [
           "US",
           210000
          ],
          [
           "US",
           100000
          ],
          [
           "US",
           105000
          ],
          [
           "US",
           80000
          ],
          [
           "DE",
           50000
          ],
          [
           "US",
           65000
          ],
          [
           "US",
           135000
          ],
          [
           "US",
           115000
          ],
          [
           "PK",
           48000
          ],
          [
           "PK",
           52800
          ],
          [
           "FR",
           62000
          ],
          [
           "US",
           120000
          ],
          [
           "US",
           200000
          ],
          [
           "US",
           100000
          ],
          [
           "GB",
           60000
          ],
          [
           "US",
           80000
          ],
          [
           "AT",
           65000
          ],
          [
           "US",
           90000
          ],
          [
           "PL",
           110000
          ],
          [
           "US",
           140000
          ],
          [
           "IN",
           2250000
          ],
          [
           "US",
           150000
          ],
          [
           "US",
           115000
          ],
          [
           "US",
           106000
          ],
          [
           "GB",
           88000
          ],
          [
           "US",
           150000
          ],
          [
           "US",
           188000
          ],
          [
           "US",
           200000
          ],
          [
           "FR",
           61500
          ],
          [
           "MX",
           720000
          ],
          [
           "GB",
           70000
          ],
          [
           "TR",
           108000
          ],
          [
           "GB",
           52500
          ],
          [
           "IN",
           1600000
          ],
          [
           "US",
           110000
          ],
          [
           "US",
           72500
          ],
          [
           "NL",
           59000
          ],
          [
           "US",
           112000
          ],
          [
           "DE",
           55000
          ],
          [
           "TR",
           250000
          ],
          [
           "US",
           111775
          ],
          [
           "US",
           93150
          ],
          [
           "IR",
           4000
          ],
          [
           "RO",
           22000
          ],
          [
           "JP",
           4450000
          ],
          [
           "GR",
           42000
          ],
          [
           "HK",
           48000
          ],
          [
           "IT",
           20000
          ],
          [
           "US",
           165000
          ],
          [
           "US",
           110000
          ],
          [
           "RO",
           65000
          ],
          [
           "NL",
           38400
          ],
          [
           "ES",
           130800
          ],
          [
           "MT",
           24000
          ]
         ],
         "hovertemplate": "Carreira=Data Engineer<br>Ano=%{x}<br>Localização Da Empresa=%{y}<br>Localização Do Funcionário=%{customdata[0]}<br>Salário=%{customdata[1]}<extra></extra>",
         "legendgroup": "Data Engineer",
         "marker": {
          "color": "#00cc96",
          "symbol": "circle"
         },
         "mode": "markers",
         "name": "Data Engineer",
         "showlegend": true,
         "type": "scattergl",
         "x": [
          2022,
          2022,
          2022,
          2022,
          2022,
          2022,
          2022,
          2022,
          2022,
          2022,
          2022,
          2022,
          2022,
          2022,
          2022,
          2022,
          2022,
          2022,
          2022,
          2022,
          2022,
          2022,
          2022,
          2022,
          2022,
          2022,
          2022,
          2022,
          2022,
          2022,
          2022,
          2022,
          2022,
          2022,
          2022,
          2022,
          2022,
          2022,
          2022,
          2022,
          2022,
          2022,
          2022,
          2022,
          2022,
          2022,
          2021,
          2022,
          2022,
          2022,
          2022,
          2022,
          2022,
          2022,
          2022,
          2022,
          2022,
          2022,
          2022,
          2022,
          2022,
          2022,
          2022,
          2022,
          2022,
          2022,
          2022,
          2022,
          2022,
          2022,
          2022,
          2022,
          2022,
          2022,
          2022,
          2022,
          2022,
          2022,
          2022,
          2022,
          2022,
          2022,
          2022,
          2022,
          2022,
          2022,
          2022,
          2022,
          2022,
          2022,
          2022,
          2022,
          2022,
          2022,
          2022,
          2022,
          2022,
          2022,
          2022,
          2022,
          2022,
          2022,
          2022,
          2022,
          2022,
          2022,
          2022,
          2022,
          2022,
          2022,
          2022,
          2022,
          2022,
          2022,
          2022,
          2022,
          2022,
          2021,
          2022,
          2022,
          2022,
          2022,
          2022,
          2022,
          2022,
          2022,
          2022,
          2022,
          2022,
          2022,
          2022,
          2022,
          2022,
          2022,
          2022,
          2022,
          2022,
          2022,
          2022,
          2022,
          2022,
          2022,
          2022,
          2022,
          2022,
          2022,
          2022,
          2022,
          2022,
          2022,
          2022,
          2022,
          2022,
          2022,
          2022,
          2022,
          2022,
          2022,
          2022,
          2022,
          2022,
          2022,
          2022,
          2022,
          2022,
          2022,
          2022,
          2022,
          2022,
          2022,
          2022,
          2022,
          2022,
          2022,
          2022,
          2022,
          2022,
          2022,
          2022,
          2020,
          2020,
          2022,
          2022,
          2022,
          2022,
          2022,
          2022,
          2022,
          2022,
          2022,
          2022,
          2022,
          2022,
          2022,
          2022,
          2022,
          2022,
          2022,
          2022,
          2022,
          2022,
          2022,
          2022,
          2022,
          2022,
          2022,
          2022,
          2022,
          2022,
          2022,
          2022,
          2022,
          2022,
          2022,
          2022,
          2022,
          2022,
          2022,
          2022,
          2022,
          2022,
          2022,
          2022,
          2022,
          2022,
          2022,
          2022,
          2022,
          2022,
          2022,
          2022,
          2022,
          2022,
          2022,
          2022,
          2022,
          2022,
          2022,
          2022,
          2022,
          2022,
          2022,
          2022,
          2022,
          2022,
          2022,
          2022,
          2022,
          2022,
          2022,
          2022,
          2022,
          2022,
          2022,
          2022,
          2022,
          2022,
          2022,
          2022,
          2022,
          2022,
          2022,
          2022,
          2022,
          2022,
          2022,
          2022,
          2022,
          2022,
          2022,
          2022,
          2022,
          2022,
          2022,
          2020,
          2022,
          2022,
          2022,
          2021,
          2021,
          2021,
          2021,
          2020,
          2021,
          2021,
          2021,
          2021,
          2021,
          2021,
          2020,
          2020,
          2021,
          2020,
          2021,
          2020,
          2020,
          2021,
          2021,
          2021,
          2021,
          2021,
          2021,
          2021,
          2021,
          2021,
          2021,
          2021,
          2021,
          2021,
          2021,
          2020,
          2020,
          2021,
          2021,
          2021,
          2020,
          2021,
          2021,
          2020,
          2021
         ],
         "xaxis": "x",
         "y": [
          "US",
          "US",
          "GB",
          "GB",
          "US",
          "US",
          "US",
          "US",
          "US",
          "US",
          "US",
          "US",
          "US",
          "US",
          "US",
          "US",
          "US",
          "US",
          "US",
          "US",
          "US",
          "US",
          "US",
          "US",
          "US",
          "US",
          "US",
          "US",
          "US",
          "US",
          "US",
          "US",
          "US",
          "US",
          "US",
          "US",
          "US",
          "US",
          "BR",
          "BR",
          "US",
          "US",
          "US",
          "US",
          "US",
          "US",
          "AU",
          "US",
          "US",
          "GB",
          "GB",
          "US",
          "US",
          "US",
          "US",
          "US",
          "US",
          "US",
          "US",
          "US",
          "US",
          "PT",
          "PT",
          "US",
          "US",
          "US",
          "US",
          "US",
          "US",
          "US",
          "US",
          "US",
          "US",
          "US",
          "US",
          "US",
          "US",
          "US",
          "US",
          "US",
          "US",
          "US",
          "US",
          "US",
          "US",
          "US",
          "US",
          "US",
          "US",
          "US",
          "US",
          "GB",
          "GB",
          "US",
          "US",
          "US",
          "US",
          "US",
          "US",
          "US",
          "US",
          "US",
          "US",
          "GB",
          "GB",
          "US",
          "US",
          "US",
          "US",
          "US",
          "US",
          "US",
          "US",
          "US",
          "US",
          "US",
          "US",
          "GB",
          "US",
          "US",
          "US",
          "US",
          "GR",
          "GR",
          "GB",
          "GB",
          "ES",
          "ES",
          "GB",
          "GB",
          "US",
          "US",
          "US",
          "CA",
          "CA",
          "US",
          "US",
          "US",
          "US",
          "US",
          "US",
          "US",
          "US",
          "GB",
          "GB",
          "PR",
          "PR",
          "US",
          "US",
          "US",
          "US",
          "US",
          "US",
          "US",
          "US",
          "US",
          "US",
          "US",
          "US",
          "US",
          "US",
          "US",
          "US",
          "US",
          "US",
          "US",
          "US",
          "US",
          "US",
          "GB",
          "GB",
          "US",
          "US",
          "US",
          "US",
          "GB",
          "GB",
          "US",
          "US",
          "IN",
          "IN",
          "US",
          "US",
          "US",
          "US",
          "GB",
          "GB",
          "DE",
          "GB",
          "GB",
          "US",
          "US",
          "US",
          "US",
          "US",
          "US",
          "US",
          "US",
          "US",
          "US",
          "ES",
          "ES",
          "GB",
          "GB",
          "GR",
          "GR",
          "GB",
          "GB",
          "ES",
          "ES",
          "GR",
          "GR",
          "GB",
          "GB",
          "US",
          "US",
          "US",
          "US",
          "US",
          "US",
          "GB",
          "GB",
          "US",
          "US",
          "US",
          "US",
          "US",
          "US",
          "GB",
          "GB",
          "GB",
          "GB",
          "US",
          "US",
          "US",
          "US",
          "US",
          "US",
          "US",
          "US",
          "US",
          "US",
          "US",
          "US",
          "US",
          "US",
          "US",
          "US",
          "US",
          "US",
          "US",
          "US",
          "US",
          "US",
          "US",
          "US",
          "US",
          "US",
          "US",
          "US",
          "US",
          "US",
          "US",
          "US",
          "US",
          "US",
          "US",
          "US",
          "US",
          "US",
          "DE",
          "US",
          "US",
          "US",
          "DE",
          "DE",
          "FR",
          "US",
          "US",
          "US",
          "GB",
          "US",
          "AT",
          "US",
          "PL",
          "US",
          "IN",
          "US",
          "US",
          "US",
          "GB",
          "US",
          "US",
          "US",
          "FR",
          "MX",
          "GB",
          "TR",
          "GB",
          "IN",
          "US",
          "US",
          "NL",
          "US",
          "DE",
          "TR",
          "US",
          "US",
          "IR",
          "US",
          "JP",
          "GR",
          "GB",
          "US",
          "US",
          "US",
          "GB",
          "NL",
          "US",
          "MT"
         ],
         "yaxis": "y"
        },
        {
         "customdata": [
          [
           "US",
           205000
          ],
          [
           "US",
           160000
          ],
          [
           "SI",
           87000
          ],
          [
           "MY",
           200000
          ],
          [
           "EE",
           30000
          ],
          [
           "RU",
           230000
          ],
          [
           "US",
           235000
          ]
         ],
         "hovertemplate": "Carreira=Head of Data<br>Ano=%{x}<br>Localização Da Empresa=%{y}<br>Localização Do Funcionário=%{customdata[0]}<br>Salário=%{customdata[1]}<extra></extra>",
         "legendgroup": "Head of Data",
         "marker": {
          "color": "#ab63fa",
          "symbol": "circle"
         },
         "mode": "markers",
         "name": "Head of Data",
         "showlegend": true,
         "type": "scattergl",
         "x": [
          2022,
          2022,
          2021,
          2022,
          2022,
          2021,
          2021
         ],
         "xaxis": "x",
         "y": [
          "US",
          "US",
          "SI",
          "US",
          "EE",
          "RU",
          "US"
         ],
         "yaxis": "y"
        },
        {
         "customdata": [
          [
           "US",
           169000
          ],
          [
           "US",
           110600
          ],
          [
           "US",
           150000
          ],
          [
           "US",
           100000
          ],
          [
           "US",
           120000
          ],
          [
           "US",
           95000
          ],
          [
           "US",
           64000
          ],
          [
           "US",
           150000
          ],
          [
           "US",
           127000
          ],
          [
           "US",
           166700
          ],
          [
           "US",
           119000
          ],
          [
           "US",
           130000
          ],
          [
           "US",
           100000
          ],
          [
           "US",
           80000
          ],
          [
           "US",
           52500
          ],
          [
           "US",
           135000
          ],
          [
           "US",
           100000
          ],
          [
           "CN",
           125404
          ],
          [
           "US",
           80000
          ],
          [
           "US",
           52500
          ],
          [
           "ES",
           48000
          ],
          [
           "ES",
           35000
          ],
          [
           "US",
           150000
          ],
          [
           "US",
           95000
          ],
          [
           "US",
           175950
          ],
          [
           "US",
           130050
          ],
          [
           "US",
           236600
          ],
          [
           "US",
           89200
          ],
          [
           "US",
           169000
          ],
          [
           "US",
           110600
          ],
          [
           "US",
           85000
          ],
          [
           "US",
           65000
          ],
          [
           "US",
           169000
          ],
          [
           "US",
           110600
          ],
          [
           "US",
           139600
          ],
          [
           "US",
           85700
          ],
          [
           "US",
           115000
          ],
          [
           "US",
           95000
          ],
          [
           "US",
           105000
          ],
          [
           "US",
           62000
          ],
          [
           "US",
           115934
          ],
          [
           "US",
           81666
          ],
          [
           "ES",
           48000
          ],
          [
           "ES",
           35000
          ],
          [
           "US",
           90000
          ],
          [
           "AU",
           56000
          ],
          [
           "CR",
           20000
          ],
          [
           "US",
           99750
          ],
          [
           "US",
           68400
          ],
          [
           "US",
           110000
          ],
          [
           "US",
           99000
          ],
          [
           "ES",
           48000
          ],
          [
           "ES",
           35000
          ],
          [
           "US",
           144000
          ],
          [
           "US",
           113000
          ],
          [
           "BR",
           40300
          ],
          [
           "US",
           136000
          ],
          [
           "US",
           112000
          ],
          [
           "US",
           97500
          ],
          [
           "FR",
           500000
          ],
          [
           "US",
           115000
          ],
          [
           "US",
           46000
          ],
          [
           "US",
           113000
          ],
          [
           "PH",
           50000
          ],
          [
           "US",
           216200
          ],
          [
           "US",
           144100
          ],
          [
           "US",
           117000
          ],
          [
           "US",
           99450
          ],
          [
           "GB",
           70000
          ],
          [
           "GB",
           50000
          ],
          [
           "US",
           175000
          ],
          [
           "US",
           130000
          ],
          [
           "IN",
           450000
          ],
          [
           "AR",
           50000
          ],
          [
           "US",
           216200
          ],
          [
           "US",
           144100
          ],
          [
           "US",
           150000
          ],
          [
           "US",
           55000
          ],
          [
           "US",
           130000
          ],
          [
           "FR",
           27000
          ],
          [
           "US",
           128875
          ],
          [
           "US",
           93700
          ],
          [
           "US",
           136260
          ],
          [
           "US",
           109280
          ],
          [
           "US",
           117000
          ],
          [
           "US",
           99450
          ],
          [
           "SG",
           90000
          ],
          [
           "US",
           150075
          ],
          [
           "US",
           110925
          ],
          [
           "PT",
           20000
          ],
          [
           "ID",
           15000
          ],
          [
           "US",
           112900
          ],
          [
           "US",
           90320
          ],
          [
           "US",
           112900
          ],
          [
           "US",
           90320
          ],
          [
           "US",
           115934
          ],
          [
           "US",
           81666
          ],
          [
           "US",
           164000
          ],
          [
           "US",
           132000
          ],
          [
           "US",
           128875
          ],
          [
           "US",
           93700
          ],
          [
           "GB",
           40000
          ],
          [
           "GB",
           30000
          ],
          [
           "ES",
           40000
          ],
          [
           "ES",
           30000
          ],
          [
           "GR",
           40000
          ],
          [
           "GR",
           30000
          ],
          [
           "US",
           58000
          ],
          [
           "US",
           58000
          ],
          [
           "US",
           124190
          ],
          [
           "US",
           90320
          ],
          [
           "US",
           126500
          ],
          [
           "US",
           106260
          ],
          [
           "US",
           116000
          ],
          [
           "US",
           99000
          ],
          [
           "US",
           155000
          ],
          [
           "US",
           120600
          ],
          [
           "US",
           102100
          ],
          [
           "US",
           84900
          ],
          [
           "US",
           130000
          ],
          [
           "US",
           110000
          ],
          [
           "US",
           170000
          ],
          [
           "US",
           135000
          ],
          [
           "CA",
           130000
          ],
          [
           "CA",
           61300
          ],
          [
           "CA",
           130000
          ],
          [
           "CA",
           61300
          ],
          [
           "US",
           167000
          ],
          [
           "US",
           115500
          ],
          [
           "US",
           112900
          ],
          [
           "US",
           90320
          ],
          [
           "US",
           112900
          ],
          [
           "US",
           90320
          ],
          [
           "US",
           136600
          ],
          [
           "US",
           109280
          ],
          [
           "US",
           116150
          ],
          [
           "US",
           99050
          ],
          [
           "US",
           112900
          ],
          [
           "US",
           90320
          ],
          [
           "CA",
           85000
          ],
          [
           "CA",
           75000
          ],
          [
           "US",
           115934
          ],
          [
           "US",
           81666
          ],
          [
           "GB",
           50000
          ],
          [
           "GB",
           35000
          ],
          [
           "US",
           80000
          ],
          [
           "US",
           60000
          ],
          [
           "US",
           170000
          ],
          [
           "US",
           150000
          ],
          [
           "CA",
           67000
          ],
          [
           "CA",
           52000
          ],
          [
           "US",
           129000
          ],
          [
           "US",
           99000
          ],
          [
           "US",
           100000
          ],
          [
           "US",
           69000
          ],
          [
           "US",
           150075
          ],
          [
           "US",
           110925
          ],
          [
           "US",
           126500
          ],
          [
           "US",
           106260
          ],
          [
           "US",
           105000
          ],
          [
           "US",
           100000
          ],
          [
           "US",
           170000
          ],
          [
           "US",
           135000
          ],
          [
           "US",
           135000
          ],
          [
           "US",
           50000
          ],
          [
           "GR",
           20000
          ],
          [
           "US",
           135000
          ],
          [
           "US",
           90000
          ],
          [
           "ES",
           8760
          ],
          [
           "US",
           50000
          ],
          [
           "FR",
           41000
          ],
          [
           "US",
           90000
          ],
          [
           "US",
           60000
          ],
          [
           "FR",
           50000
          ],
          [
           "BG",
           80000
          ],
          [
           "NG",
           10000
          ],
          [
           "US",
           80000
          ],
          [
           "GB",
           37456
          ],
          [
           "US",
           93000
          ],
          [
           "IN",
           450000
          ],
          [
           "US",
           91000
          ],
          [
           "US",
           80000
          ],
          [
           "US",
           200000
          ],
          [
           "US",
           72000
          ],
          [
           "DE",
           54000
          ],
          [
           "CA",
           90000
          ],
          [
           "US",
           85000
          ],
          [
           "PK",
           8000
          ],
          [
           "US",
           75000
          ],
          [
           "US",
           62000
          ]
         ],
         "hovertemplate": "Carreira=Data Analyst<br>Ano=%{x}<br>Localização Da Empresa=%{y}<br>Localização Do Funcionário=%{customdata[0]}<br>Salário=%{customdata[1]}<extra></extra>",
         "legendgroup": "Data Analyst",
         "marker": {
          "color": "#FFA15A",
          "symbol": "circle"
         },
         "mode": "markers",
         "name": "Data Analyst",
         "showlegend": true,
         "type": "scattergl",
         "x": [
          2022,
          2022,
          2022,
          2022,
          2022,
          2022,
          2022,
          2022,
          2022,
          2022,
          2022,
          2022,
          2022,
          2022,
          2022,
          2022,
          2022,
          2022,
          2022,
          2022,
          2022,
          2022,
          2022,
          2022,
          2022,
          2022,
          2022,
          2022,
          2022,
          2022,
          2022,
          2022,
          2022,
          2022,
          2022,
          2022,
          2022,
          2022,
          2022,
          2022,
          2022,
          2022,
          2022,
          2022,
          2022,
          2021,
          2022,
          2022,
          2022,
          2022,
          2022,
          2022,
          2022,
          2022,
          2022,
          2022,
          2022,
          2022,
          2022,
          2022,
          2022,
          2022,
          2022,
          2021,
          2022,
          2022,
          2022,
          2022,
          2022,
          2022,
          2022,
          2022,
          2022,
          2022,
          2022,
          2022,
          2022,
          2022,
          2022,
          2022,
          2022,
          2022,
          2022,
          2022,
          2022,
          2022,
          2022,
          2022,
          2022,
          2020,
          2022,
          2022,
          2022,
          2022,
          2022,
          2022,
          2022,
          2022,
          2022,
          2022,
          2022,
          2022,
          2022,
          2022,
          2022,
          2022,
          2022,
          2022,
          2022,
          2022,
          2022,
          2022,
          2022,
          2022,
          2022,
          2022,
          2022,
          2022,
          2022,
          2022,
          2022,
          2022,
          2022,
          2022,
          2022,
          2022,
          2022,
          2022,
          2022,
          2022,
          2022,
          2022,
          2022,
          2022,
          2022,
          2022,
          2022,
          2022,
          2022,
          2022,
          2022,
          2022,
          2022,
          2022,
          2022,
          2022,
          2022,
          2022,
          2022,
          2022,
          2022,
          2022,
          2022,
          2022,
          2022,
          2022,
          2022,
          2022,
          2022,
          2022,
          2022,
          2022,
          2022,
          2022,
          2022,
          2022,
          2021,
          2021,
          2021,
          2021,
          2020,
          2021,
          2021,
          2021,
          2021,
          2020,
          2021,
          2021,
          2021,
          2020,
          2020,
          2021,
          2021,
          2020,
          2021,
          2021,
          2020,
          2020,
          2021,
          2021
         ],
         "xaxis": "x",
         "y": [
          "US",
          "US",
          "US",
          "US",
          "US",
          "US",
          "US",
          "US",
          "US",
          "US",
          "US",
          "US",
          "US",
          "US",
          "US",
          "US",
          "US",
          "US",
          "US",
          "US",
          "ES",
          "ES",
          "US",
          "US",
          "US",
          "US",
          "US",
          "US",
          "US",
          "US",
          "US",
          "US",
          "US",
          "US",
          "US",
          "US",
          "US",
          "US",
          "US",
          "US",
          "US",
          "US",
          "ES",
          "ES",
          "US",
          "AU",
          "US",
          "US",
          "US",
          "US",
          "US",
          "ES",
          "ES",
          "US",
          "US",
          "BR",
          "US",
          "US",
          "US",
          "IN",
          "US",
          "US",
          "US",
          "PH",
          "US",
          "US",
          "US",
          "US",
          "GB",
          "GB",
          "US",
          "US",
          "IN",
          "AR",
          "US",
          "US",
          "US",
          "US",
          "US",
          "FR",
          "US",
          "US",
          "US",
          "US",
          "US",
          "US",
          "SG",
          "US",
          "US",
          "PT",
          "ID",
          "US",
          "US",
          "US",
          "US",
          "US",
          "US",
          "US",
          "US",
          "US",
          "US",
          "GB",
          "GB",
          "ES",
          "ES",
          "GR",
          "GR",
          "US",
          "US",
          "US",
          "US",
          "US",
          "US",
          "US",
          "US",
          "US",
          "US",
          "US",
          "US",
          "US",
          "US",
          "US",
          "US",
          "CA",
          "CA",
          "CA",
          "CA",
          "US",
          "US",
          "US",
          "US",
          "US",
          "US",
          "US",
          "US",
          "US",
          "US",
          "US",
          "US",
          "CA",
          "CA",
          "US",
          "US",
          "GB",
          "GB",
          "US",
          "US",
          "US",
          "US",
          "CA",
          "CA",
          "US",
          "US",
          "US",
          "US",
          "US",
          "US",
          "US",
          "US",
          "US",
          "US",
          "US",
          "US",
          "US",
          "US",
          "GR",
          "US",
          "US",
          "ES",
          "US",
          "FR",
          "US",
          "US",
          "FR",
          "US",
          "NG",
          "US",
          "GB",
          "US",
          "IN",
          "US",
          "US",
          "US",
          "US",
          "DE",
          "CA",
          "US",
          "PK",
          "US",
          "US"
         ],
         "yaxis": "y"
        },
        {
         "customdata": [
          [
           "US",
           76000
          ],
          [
           "BR",
           78000
          ],
          [
           "BR",
           48000
          ],
          [
           "NG",
           200000
          ]
         ],
         "hovertemplate": "Carreira=BI Analyst<br>Ano=%{x}<br>Localização Da Empresa=%{y}<br>Localização Do Funcionário=%{customdata[0]}<br>Salário=%{customdata[1]}<extra></extra>",
         "legendgroup": "BI Analyst",
         "marker": {
          "color": "#19d3f3",
          "symbol": "circle"
         },
         "mode": "markers",
         "name": "BI Analyst",
         "showlegend": true,
         "type": "scattergl",
         "x": [
          2022,
          2022,
          2022,
          2022
         ],
         "xaxis": "x",
         "y": [
          "US",
          "BR",
          "BR",
          "NG"
         ],
         "yaxis": "y"
        },
        {
         "customdata": [
          [
           "GB",
           84000
          ],
          [
           "GB",
           75000
          ],
          [
           "US",
           210000
          ],
          [
           "US",
           157000
          ],
          [
           "BR",
           78000
          ],
          [
           "BR",
           48000
          ],
          [
           "US",
           150000
          ],
          [
           "US",
           120000
          ],
          [
           "US",
           108000
          ],
          [
           "US",
           85000
          ],
          [
           "US",
           130000
          ],
          [
           "US",
           110000
          ],
          [
           "US",
           130000
          ],
          [
           "US",
           110000
          ],
          [
           "US",
           190000
          ],
          [
           "US",
           140000
          ],
          [
           "US",
           122500
          ],
          [
           "US",
           100000
          ],
          [
           "US",
           165000
          ],
          [
           "US",
           140250
          ],
          [
           "GB",
           83376
          ],
          [
           "GB",
           65004
          ],
          [
           "US",
           250000
          ],
          [
           "US",
           63000
          ],
          [
           "BO",
           7500
          ],
          [
           "US",
           250000
          ],
          [
           "US",
           63000
          ],
          [
           "US",
           245000
          ],
          [
           "US",
           180000
          ],
          [
           "US",
           203500
          ],
          [
           "US",
           152000
          ],
          [
           "US",
           200000
          ],
          [
           "US",
           150000
          ],
          [
           "US",
           170000
          ],
          [
           "US",
           135000
          ],
          [
           "AR",
           48000
          ],
          [
           "US",
           200000
          ],
          [
           "US",
           54000
          ],
          [
           "US",
           130000
          ],
          [
           "US",
           175000
          ],
          [
           "US",
           135000
          ],
          [
           "US",
           205300
          ],
          [
           "US",
           184700
          ]
         ],
         "hovertemplate": "Carreira=Analytics Engineer<br>Ano=%{x}<br>Localização Da Empresa=%{y}<br>Localização Do Funcionário=%{customdata[0]}<br>Salário=%{customdata[1]}<extra></extra>",
         "legendgroup": "Analytics Engineer",
         "marker": {
          "color": "#FF6692",
          "symbol": "circle"
         },
         "mode": "markers",
         "name": "Analytics Engineer",
         "showlegend": true,
         "type": "scattergl",
         "x": [
          2022,
          2022,
          2022,
          2022,
          2022,
          2022,
          2022,
          2022,
          2022,
          2022,
          2022,
          2022,
          2022,
          2022,
          2022,
          2022,
          2022,
          2022,
          2022,
          2022,
          2022,
          2022,
          2022,
          2022,
          2022,
          2022,
          2022,
          2022,
          2022,
          2022,
          2022,
          2022,
          2022,
          2022,
          2022,
          2022,
          2022,
          2022,
          2022,
          2022,
          2022,
          2022,
          2022
         ],
         "xaxis": "x",
         "y": [
          "GB",
          "GB",
          "US",
          "US",
          "BR",
          "BR",
          "US",
          "US",
          "US",
          "US",
          "US",
          "US",
          "US",
          "US",
          "US",
          "US",
          "US",
          "US",
          "US",
          "US",
          "GB",
          "GB",
          "US",
          "US",
          "BO",
          "US",
          "US",
          "US",
          "US",
          "US",
          "US",
          "US",
          "US",
          "US",
          "US",
          "US",
          "US",
          "US",
          "US",
          "US",
          "US",
          "US",
          "US"
         ],
         "yaxis": "y"
        },
        {
         "customdata": [
          [
           "US",
           240000
          ]
         ],
         "hovertemplate": "Carreira=Research Engineer<br>Ano=%{x}<br>Localização Da Empresa=%{y}<br>Localização Do Funcionário=%{customdata[0]}<br>Salário=%{customdata[1]}<extra></extra>",
         "legendgroup": "Research Engineer",
         "marker": {
          "color": "#B6E880",
          "symbol": "circle"
         },
         "mode": "markers",
         "name": "Research Engineer",
         "showlegend": true,
         "type": "scattergl",
         "x": [
          2022
         ],
         "xaxis": "x",
         "y": [
          "US"
         ],
         "yaxis": "y"
        },
        {
         "customdata": [
          [
           "US",
           123000
          ],
          [
           "US",
           92250
          ],
          [
           "US",
           81000
          ],
          [
           "US",
           66000
          ]
         ],
         "hovertemplate": "Carreira=Data Operations Analyst<br>Ano=%{x}<br>Localização Da Empresa=%{y}<br>Localização Do Funcionário=%{customdata[0]}<br>Salário=%{customdata[1]}<extra></extra>",
         "legendgroup": "Data Operations Analyst",
         "marker": {
          "color": "#FF97FF",
          "symbol": "circle"
         },
         "mode": "markers",
         "name": "Data Operations Analyst",
         "showlegend": true,
         "type": "scattergl",
         "x": [
          2022,
          2022,
          2022,
          2022
         ],
         "xaxis": "x",
         "y": [
          "US",
          "US",
          "US",
          "US"
         ],
         "yaxis": "y"
        },
        {
         "customdata": [
          [
           "US",
           180000
          ],
          [
           "US",
           100000
          ],
          [
           "US",
           148500
          ],
          [
           "US",
           98200
          ],
          [
           "US",
           195400
          ],
          [
           "US",
           131300
          ],
          [
           "US",
           130000
          ],
          [
           "US",
           84000
          ],
          [
           "US",
           240000
          ],
          [
           "US",
           160000
          ],
          [
           "JP",
           8500000
          ],
          [
           "JP",
           7000000
          ],
          [
           "PT",
           20000
          ],
          [
           "US",
           270000
          ],
          [
           "DE",
           14000
          ],
          [
           "US",
           256000
          ]
         ],
         "hovertemplate": "Carreira=ML Engineer<br>Ano=%{x}<br>Localização Da Empresa=%{y}<br>Localização Do Funcionário=%{customdata[0]}<br>Salário=%{customdata[1]}<extra></extra>",
         "legendgroup": "ML Engineer",
         "marker": {
          "color": "#FECB52",
          "symbol": "circle"
         },
         "mode": "markers",
         "name": "ML Engineer",
         "showlegend": true,
         "type": "scattergl",
         "x": [
          2022,
          2022,
          2022,
          2022,
          2022,
          2022,
          2022,
          2022,
          2022,
          2022,
          2021,
          2021,
          2022,
          2021,
          2020,
          2021
         ],
         "xaxis": "x",
         "y": [
          "US",
          "US",
          "US",
          "US",
          "US",
          "US",
          "US",
          "US",
          "US",
          "US",
          "JP",
          "JP",
          "PT",
          "US",
          "DE",
          "US"
         ],
         "yaxis": "y"
        },
        {
         "customdata": [
          [
           "US",
           128000
          ],
          [
           "US",
           81500
          ],
          [
           "US",
           345600
          ],
          [
           "US",
           230400
          ],
          [
           "US",
           225000
          ],
          [
           "US",
           66000
          ],
          [
           "US",
           180000
          ],
          [
           "US",
           160000
          ],
          [
           "US",
           190000
          ],
          [
           "US",
           135000
          ],
          [
           "US",
           195400
          ],
          [
           "US",
           131300
          ],
          [
           "US",
           195400
          ],
          [
           "US",
           131300
          ],
          [
           "US",
           190000
          ],
          [
           "US",
           135000
          ],
          [
           "US",
           190000
          ],
          [
           "US",
           135000
          ],
          [
           "US",
           149040
          ],
          [
           "US",
           113900
          ],
          [
           "US",
           141300
          ],
          [
           "US",
           102100
          ],
          [
           "US",
           250000
          ],
          [
           "US",
           63000
          ],
          [
           "US",
           250000
          ],
          [
           "US",
           63000
          ],
          [
           "US",
           208775
          ],
          [
           "US",
           147800
          ],
          [
           "CA",
           192400
          ],
          [
           "CA",
           90700
          ],
          [
           "US",
           266400
          ],
          [
           "US",
           213120
          ],
          [
           "US",
           192564
          ],
          [
           "US",
           144854
          ],
          [
           "US",
           170000
          ],
          [
           "US",
           150000
          ],
          [
           "US",
           180000
          ]
         ],
         "hovertemplate": "Carreira=Data Architect<br>Ano=%{x}<br>Localização Da Empresa=%{y}<br>Localização Do Funcionário=%{customdata[0]}<br>Salário=%{customdata[1]}<extra></extra>",
         "legendgroup": "Data Architect",
         "marker": {
          "color": "#636efa",
          "symbol": "circle"
         },
         "mode": "markers",
         "name": "Data Architect",
         "showlegend": true,
         "type": "scattergl",
         "x": [
          2022,
          2022,
          2022,
          2022,
          2022,
          2022,
          2022,
          2022,
          2022,
          2022,
          2022,
          2022,
          2022,
          2022,
          2022,
          2022,
          2022,
          2022,
          2022,
          2022,
          2022,
          2022,
          2022,
          2022,
          2022,
          2022,
          2022,
          2022,
          2022,
          2022,
          2022,
          2022,
          2022,
          2022,
          2021,
          2021,
          2021
         ],
         "xaxis": "x",
         "y": [
          "US",
          "US",
          "US",
          "US",
          "US",
          "US",
          "US",
          "US",
          "US",
          "US",
          "US",
          "US",
          "US",
          "US",
          "US",
          "US",
          "US",
          "US",
          "US",
          "US",
          "US",
          "US",
          "US",
          "US",
          "US",
          "US",
          "US",
          "US",
          "CA",
          "CA",
          "US",
          "US",
          "US",
          "US",
          "US",
          "US",
          "US"
         ],
         "yaxis": "y"
        },
        {
         "customdata": [
          [
           "US",
           105000
          ],
          [
           "US",
           70000
          ],
          [
           "US",
           100000
          ],
          [
           "US",
           60000
          ],
          [
           "US",
           100000
          ],
          [
           "US",
           60000
          ],
          [
           "US",
           100000
          ],
          [
           "US",
           60000
          ]
         ],
         "hovertemplate": "Carreira=Data Operations Engineer<br>Ano=%{x}<br>Localização Da Empresa=%{y}<br>Localização Do Funcionário=%{customdata[0]}<br>Salário=%{customdata[1]}<extra></extra>",
         "legendgroup": "Data Operations Engineer",
         "marker": {
          "color": "#EF553B",
          "symbol": "circle"
         },
         "mode": "markers",
         "name": "Data Operations Engineer",
         "showlegend": true,
         "type": "scattergl",
         "x": [
          2022,
          2022,
          2022,
          2022,
          2022,
          2022,
          2022,
          2022
         ],
         "xaxis": "x",
         "y": [
          "US",
          "US",
          "US",
          "US",
          "US",
          "US",
          "US",
          "US"
         ],
         "yaxis": "y"
        },
        {
         "customdata": [
          [
           "US",
           5000
          ],
          [
           "AX",
           2324
          ],
          [
           "IN",
           400000
          ]
         ],
         "hovertemplate": "Carreira=3D Computer Vision Researcher<br>Ano=%{x}<br>Localização Da Empresa=%{y}<br>Localização Do Funcionário=%{customdata[0]}<br>Salário=%{customdata[1]}<extra></extra>",
         "legendgroup": "3D Computer Vision Researcher",
         "marker": {
          "color": "#00cc96",
          "symbol": "circle"
         },
         "mode": "markers",
         "name": "3D Computer Vision Researcher",
         "showlegend": true,
         "type": "scattergl",
         "x": [
          2021,
          2022,
          2021
         ],
         "xaxis": "x",
         "y": [
          "US",
          "AL",
          "IN"
         ],
         "yaxis": "y"
        },
        {
         "customdata": [
          [
           "GB",
           200000
          ],
          [
           "GR",
           75000
          ]
         ],
         "hovertemplate": "Carreira=Marketing Data Analyst<br>Ano=%{x}<br>Localização Da Empresa=%{y}<br>Localização Do Funcionário=%{customdata[0]}<br>Salário=%{customdata[1]}<extra></extra>",
         "legendgroup": "Marketing Data Analyst",
         "marker": {
          "color": "#ab63fa",
          "symbol": "circle"
         },
         "mode": "markers",
         "name": "Marketing Data Analyst",
         "showlegend": true,
         "type": "scattergl",
         "x": [
          2022,
          2021
         ],
         "xaxis": "x",
         "y": [
          "GB",
          "DK"
         ],
         "yaxis": "y"
        },
        {
         "customdata": [
          [
           "US",
           165000
          ]
         ],
         "hovertemplate": "Carreira=Data Science Lead<br>Ano=%{x}<br>Localização Da Empresa=%{y}<br>Localização Do Funcionário=%{customdata[0]}<br>Salário=%{customdata[1]}<extra></extra>",
         "legendgroup": "Data Science Lead",
         "marker": {
          "color": "#FFA15A",
          "symbol": "circle"
         },
         "mode": "markers",
         "name": "Data Science Lead",
         "showlegend": true,
         "type": "scattergl",
         "x": [
          2022
         ],
         "xaxis": "x",
         "y": [
          "US"
         ],
         "yaxis": "y"
        },
        {
         "customdata": [
          [
           "IN",
           400000
          ]
         ],
         "hovertemplate": "Carreira=Power BI Developer<br>Ano=%{x}<br>Localização Da Empresa=%{y}<br>Localização Do Funcionário=%{customdata[0]}<br>Salário=%{customdata[1]}<extra></extra>",
         "legendgroup": "Power BI Developer",
         "marker": {
          "color": "#19d3f3",
          "symbol": "circle"
         },
         "mode": "markers",
         "name": "Power BI Developer",
         "showlegend": true,
         "type": "scattergl",
         "x": [
          2021
         ],
         "xaxis": "x",
         "y": [
          "IN"
         ],
         "yaxis": "y"
        },
        {
         "customdata": [
          [
           "IN",
           8000
          ]
         ],
         "hovertemplate": "Carreira=Product Data Scientist<br>Ano=%{x}<br>Localização Da Empresa=%{y}<br>Localização Do Funcionário=%{customdata[0]}<br>Salário=%{customdata[1]}<extra></extra>",
         "legendgroup": "Product Data Scientist",
         "marker": {
          "color": "#FF6692",
          "symbol": "circle"
         },
         "mode": "markers",
         "name": "Product Data Scientist",
         "showlegend": true,
         "type": "scattergl",
         "x": [
          2022
         ],
         "xaxis": "x",
         "y": [
          "SG"
         ],
         "yaxis": "y"
        },
        {
         "customdata": [
          [
           "US",
           139000
          ],
          [
           "US",
           122000
          ],
          [
           "DE",
           54000
          ],
          [
           "US",
           103000
          ],
          [
           "DE",
           65000
          ],
          [
           "DE",
           65000
          ],
          [
           "FR",
           59000
          ],
          [
           "US",
           90000
          ],
          [
           "IN",
           423000
          ]
         ],
         "hovertemplate": "Carreira=Data Science Consultant<br>Ano=%{x}<br>Localização Da Empresa=%{y}<br>Localização Do Funcionário=%{customdata[0]}<br>Salário=%{customdata[1]}<extra></extra>",
         "legendgroup": "Data Science Consultant",
         "marker": {
          "color": "#B6E880",
          "symbol": "circle"
         },
         "mode": "markers",
         "name": "Data Science Consultant",
         "showlegend": true,
         "type": "scattergl",
         "x": [
          2022,
          2022,
          2021,
          2020,
          2021,
          2021,
          2021,
          2021,
          2020
         ],
         "xaxis": "x",
         "y": [
          "US",
          "US",
          "DE",
          "US",
          "DE",
          "DE",
          "ES",
          "US",
          "IN"
         ],
         "yaxis": "y"
        },
        {
         "customdata": [
          [
           "US",
           134000
          ],
          [
           "US",
           98000
          ],
          [
           "CA",
           164000
          ],
          [
           "US",
           134000
          ],
          [
           "US",
           98000
          ]
         ],
         "hovertemplate": "Carreira=Data Manager<br>Ano=%{x}<br>Localização Da Empresa=%{y}<br>Localização Do Funcionário=%{customdata[0]}<br>Salário=%{customdata[1]}<extra></extra>",
         "legendgroup": "Data Manager",
         "marker": {
          "color": "#FF97FF",
          "symbol": "circle"
         },
         "mode": "markers",
         "name": "Data Manager",
         "showlegend": true,
         "type": "scattergl",
         "x": [
          2022,
          2022,
          2022,
          2022,
          2022
         ],
         "xaxis": "x",
         "y": [
          "US",
          "US",
          "CA",
          "US",
          "US"
         ],
         "yaxis": "y"
        },
        {
         "customdata": [
          [
           "US",
           57000
          ],
          [
           "AU",
           65000
          ],
          [
           "IN",
           633000
          ],
          [
           "AU",
           77000
          ],
          [
           "BR",
           32400
          ],
          [
           "DE",
           48000
          ],
          [
           "US",
           55000
          ],
          [
           "US",
           100000
          ],
          [
           "IN",
           150000
          ],
          [
           "HU",
           11000000
          ],
          [
           "KE",
           9272
          ],
          [
           "US",
           98000
          ]
         ],
         "hovertemplate": "Carreira=BI Data Analyst<br>Ano=%{x}<br>Localização Da Empresa=%{y}<br>Localização Do Funcionário=%{customdata[0]}<br>Salário=%{customdata[1]}<extra></extra>",
         "legendgroup": "BI Data Analyst",
         "marker": {
          "color": "#FECB52",
          "symbol": "circle"
         },
         "mode": "markers",
         "name": "BI Data Analyst",
         "showlegend": true,
         "type": "scattergl",
         "x": [
          2022,
          2022,
          2022,
          2022,
          2022,
          2022,
          2021,
          2021,
          2021,
          2021,
          2021,
          2020
         ],
         "xaxis": "x",
         "y": [
          "US",
          "AU",
          "IN",
          "AU",
          "BR",
          "DE",
          "US",
          "US",
          "US",
          "US",
          "KE",
          "US"
         ],
         "yaxis": "y"
        },
        {
         "customdata": [
          [
           "CA",
           210000
          ],
          [
           "ES",
           60000
          ],
          [
           "US",
           70000
          ],
          [
           "GB",
           85000
          ],
          [
           "IN",
           1200000
          ],
          [
           "IN",
           1672000
          ],
          [
           "PL",
           100000
          ],
          [
           "IN",
           435000
          ],
          [
           "MD",
           18000
          ]
         ],
         "hovertemplate": "Carreira=Big Data Engineer<br>Ano=%{x}<br>Localização Da Empresa=%{y}<br>Localização Do Funcionário=%{customdata[0]}<br>Salário=%{customdata[1]}<extra></extra>",
         "legendgroup": "Big Data Engineer",
         "marker": {
          "color": "#636efa",
          "symbol": "circle"
         },
         "mode": "markers",
         "name": "Big Data Engineer",
         "showlegend": true,
         "type": "scattergl",
         "x": [
          2022,
          2021,
          2020,
          2020,
          2021,
          2021,
          2020,
          2021,
          2021
         ],
         "xaxis": "x",
         "y": [
          "CA",
          "RO",
          "US",
          "GB",
          "IN",
          "IN",
          "GB",
          "CH",
          "MD"
         ],
         "yaxis": "y"
        },
        {
         "customdata": [
          [
           "IN",
           3000000
          ]
         ],
         "hovertemplate": "Carreira=Principal Data Architect<br>Ano=%{x}<br>Localização Da Empresa=%{y}<br>Localização Do Funcionário=%{customdata[0]}<br>Salário=%{customdata[1]}<extra></extra>",
         "legendgroup": "Principal Data Architect",
         "marker": {
          "color": "#EF553B",
          "symbol": "circle"
         },
         "mode": "markers",
         "name": "Principal Data Architect",
         "showlegend": true,
         "type": "scattergl",
         "x": [
          2022
         ],
         "xaxis": "x",
         "y": [
          "IN"
         ],
         "yaxis": "y"
        },
        {
         "customdata": [
          [
           "US",
           200000
          ],
          [
           "US",
           150000
          ],
          [
           "CA",
           157000
          ]
         ],
         "hovertemplate": "Carreira=Machine Learning Manager<br>Ano=%{x}<br>Localização Da Empresa=%{y}<br>Localização Do Funcionário=%{customdata[0]}<br>Salário=%{customdata[1]}<extra></extra>",
         "legendgroup": "Machine Learning Manager",
         "marker": {
          "color": "#00cc96",
          "symbol": "circle"
         },
         "mode": "markers",
         "name": "Machine Learning Manager",
         "showlegend": true,
         "type": "scattergl",
         "x": [
          2022,
          2022,
          2020
         ],
         "xaxis": "x",
         "y": [
          "US",
          "US",
          "CA"
         ],
         "yaxis": "y"
        },
        {
         "customdata": [
          [
           "US",
           191475
          ],
          [
           "US",
           141525
          ],
          [
           "US",
           212800
          ],
          [
           "US",
           142800
          ]
         ],
         "hovertemplate": "Carreira=Applied Scientist<br>Ano=%{x}<br>Localização Da Empresa=%{y}<br>Localização Do Funcionário=%{customdata[0]}<br>Salário=%{customdata[1]}<extra></extra>",
         "legendgroup": "Applied Scientist",
         "marker": {
          "color": "#ab63fa",
          "symbol": "circle"
         },
         "mode": "markers",
         "name": "Applied Scientist",
         "showlegend": true,
         "type": "scattergl",
         "x": [
          2022,
          2022,
          2022,
          2022
         ],
         "xaxis": "x",
         "y": [
          "US",
          "US",
          "US",
          "US"
         ],
         "yaxis": "y"
        },
        {
         "customdata": [
          [
           "US",
           156868
          ],
          [
           "PT",
           28500
          ],
          [
           "GB",
           50000
          ],
          [
           "IN",
           3000000
          ],
          [
           "AE",
           115000
          ],
          [
           "US",
           190000
          ]
         ],
         "hovertemplate": "Carreira=Lead Data Scientist<br>Ano=%{x}<br>Localização Da Empresa=%{y}<br>Localização Do Funcionário=%{customdata[0]}<br>Salário=%{customdata[1]}<extra></extra>",
         "legendgroup": "Lead Data Scientist",
         "marker": {
          "color": "#FFA15A",
          "symbol": "circle"
         },
         "mode": "markers",
         "name": "Lead Data Scientist",
         "showlegend": true,
         "type": "scattergl",
         "x": [
          2022,
          2022,
          2022,
          2021,
          2020,
          2020
         ],
         "xaxis": "x",
         "y": [
          "US",
          "PT",
          "GB",
          "IN",
          "AE",
          "US"
         ],
         "yaxis": "y"
        },
        {
         "customdata": [
          [
           "PT",
           66000
          ],
          [
           "IN",
           7500000
          ],
          [
           "DE",
           80000
          ]
         ],
         "hovertemplate": "Carreira=Lead Machine Learning Engineer<br>Ano=%{x}<br>Localização Da Empresa=%{y}<br>Localização Do Funcionário=%{customdata[0]}<br>Salário=%{customdata[1]}<extra></extra>",
         "legendgroup": "Lead Machine Learning Engineer",
         "marker": {
          "color": "#19d3f3",
          "symbol": "circle"
         },
         "mode": "markers",
         "name": "Lead Machine Learning Engineer",
         "showlegend": true,
         "type": "scattergl",
         "x": [
          2022,
          2022,
          2022
         ],
         "xaxis": "x",
         "y": [
          "PT",
          "IN",
          "DE"
         ],
         "yaxis": "y"
        },
        {
         "customdata": [
          [
           "CZ",
           120000
          ],
          [
           "IN",
           60000
          ],
          [
           "US",
           240000
          ]
         ],
         "hovertemplate": "Carreira=NLP Engineer<br>Ano=%{x}<br>Localização Da Empresa=%{y}<br>Localização Do Funcionário=%{customdata[0]}<br>Salário=%{customdata[1]}<extra></extra>",
         "legendgroup": "NLP Engineer",
         "marker": {
          "color": "#FF6692",
          "symbol": "circle"
         },
         "mode": "markers",
         "name": "NLP Engineer",
         "showlegend": true,
         "type": "scattergl",
         "x": [
          2022,
          2022,
          2022
         ],
         "xaxis": "x",
         "y": [
          "CZ",
          "US",
          "US"
         ],
         "yaxis": "y"
        },
        {
         "customdata": [
          [
           "DE",
           120000
          ],
          [
           "DE",
           80000
          ],
          [
           "US",
           145000
          ],
          [
           "NL",
           80000
          ],
          [
           "FR",
           85000
          ],
          [
           "CZ",
           69999
          ],
          [
           "AT",
           59000
          ],
          [
           "US",
           120000
          ],
          [
           "US",
           144000
          ],
          [
           "FR",
           53000
          ],
          [
           "US",
           450000
          ],
          [
           "GB",
           60000
          ],
          [
           "CA",
           235000
          ],
          [
           "PT",
           51400
          ],
          [
           "NL",
           42000
          ],
          [
           "CA",
           80000
          ],
          [
           "JE",
           100000
          ],
          [
           "CA",
           120500
          ],
          [
           "FR",
           48000
          ],
          [
           "FR",
           50000
          ]
         ],
         "hovertemplate": "Carreira=Research Scientist<br>Ano=%{x}<br>Localização Da Empresa=%{y}<br>Localização Do Funcionário=%{customdata[0]}<br>Salário=%{customdata[1]}<extra></extra>",
         "legendgroup": "Research Scientist",
         "marker": {
          "color": "#B6E880",
          "symbol": "circle"
         },
         "mode": "markers",
         "name": "Research Scientist",
         "showlegend": true,
         "type": "scattergl",
         "x": [
          2022,
          2022,
          2022,
          2022,
          2022,
          2021,
          2022,
          2022,
          2022,
          2021,
          2020,
          2021,
          2021,
          2021,
          2020,
          2021,
          2021,
          2021,
          2021,
          2021
         ],
         "xaxis": "x",
         "y": [
          "DE",
          "DE",
          "US",
          "NL",
          "FR",
          "CZ",
          "AT",
          "US",
          "US",
          "FR",
          "US",
          "GB",
          "CA",
          "PT",
          "NL",
          "CA",
          "CN",
          "CA",
          "FR",
          "US"
         ],
         "yaxis": "y"
        },
        {
         "customdata": [
          [
           "US",
           135000
          ],
          [
           "PK",
           20000
          ],
          [
           "US",
           110000
          ],
          [
           "DE",
           67000
          ],
          [
           "VN",
           50000
          ]
         ],
         "hovertemplate": "Carreira=Data Analytics Engineer<br>Ano=%{x}<br>Localização Da Empresa=%{y}<br>Localização Do Funcionário=%{customdata[0]}<br>Salário=%{customdata[1]}<extra></extra>",
         "legendgroup": "Data Analytics Engineer",
         "marker": {
          "color": "#FF97FF",
          "symbol": "circle"
         },
         "mode": "markers",
         "name": "Data Analytics Engineer",
         "showlegend": true,
         "type": "scattergl",
         "x": [
          2022,
          2022,
          2021,
          2021,
          2021
         ],
         "xaxis": "x",
         "y": [
          "US",
          "PK",
          "US",
          "DE",
          "GB"
         ],
         "yaxis": "y"
        },
        {
         "customdata": [
          [
           "US",
           250000
          ],
          [
           "US",
           63000
          ],
          [
           "US",
           250000
          ],
          [
           "US",
           63000
          ],
          [
           "US",
           146200
          ],
          [
           "US",
           124270
          ],
          [
           "US",
           250000
          ],
          [
           "US",
           63000
          ],
          [
           "GR",
           50000
          ],
          [
           "GR",
           50000
          ]
         ],
         "hovertemplate": "Carreira=ETL Developer<br>Ano=%{x}<br>Localização Da Empresa=%{y}<br>Localização Do Funcionário=%{customdata[0]}<br>Salário=%{customdata[1]}<extra></extra>",
         "legendgroup": "ETL Developer",
         "marker": {
          "color": "#FECB52",
          "symbol": "circle"
         },
         "mode": "markers",
         "name": "ETL Developer",
         "showlegend": true,
         "type": "scattergl",
         "x": [
          2022,
          2022,
          2022,
          2022,
          2022,
          2022,
          2022,
          2022,
          2022,
          2022
         ],
         "xaxis": "x",
         "y": [
          "US",
          "US",
          "US",
          "US",
          "US",
          "US",
          "US",
          "US",
          "GR",
          "GR"
         ],
         "yaxis": "y"
        },
        {
         "customdata": [
          [
           "US",
           50000
          ],
          [
           "PT",
           30000
          ],
          [
           "US",
           200000
          ],
          [
           "IN",
           240000
          ],
          [
           "US",
           200000
          ],
          [
           "IN",
           200000
          ],
          [
           "US",
           120000
          ],
          [
           "PK",
           12000
          ],
          [
           "ES",
           55000
          ],
          [
           "DK",
           300000
          ],
          [
           "IN",
           1335000
          ],
          [
           "BR",
           12000
          ]
         ],
         "hovertemplate": "Carreira=AI Scientist<br>Ano=%{x}<br>Localização Da Empresa=%{y}<br>Localização Do Funcionário=%{customdata[0]}<br>Salário=%{customdata[1]}<extra></extra>",
         "legendgroup": "AI Scientist",
         "marker": {
          "color": "#636efa",
          "symbol": "circle"
         },
         "mode": "markers",
         "name": "AI Scientist",
         "showlegend": true,
         "type": "scattergl",
         "x": [
          2022,
          2022,
          2022,
          2022,
          2022,
          2022,
          2022,
          2021,
          2021,
          2020,
          2021,
          2021
         ],
         "xaxis": "x",
         "y": [
          "US",
          "ES",
          "US",
          "IN",
          "US",
          "US",
          "US",
          "US",
          "ES",
          "DK",
          "AS",
          "US"
         ],
         "yaxis": "y"
        },
        {
         "customdata": [
          [
           "US",
           183000
          ]
         ],
         "hovertemplate": "Carreira=Data Scientist Lead<br>Ano=%{x}<br>Localização Da Empresa=%{y}<br>Localização Do Funcionário=%{customdata[0]}<br>Salário=%{customdata[1]}<extra></extra>",
         "legendgroup": "Data Scientist Lead",
         "marker": {
          "color": "#EF553B",
          "symbol": "circle"
         },
         "mode": "markers",
         "name": "Data Scientist Lead",
         "showlegend": true,
         "type": "scattergl",
         "x": [
          2022
         ],
         "xaxis": "x",
         "y": [
          "US"
         ],
         "yaxis": "y"
        },
        {
         "customdata": [
          [
           "US",
           243225
          ],
          [
           "US",
           179775
          ],
          [
           "US",
           222640
          ],
          [
           "US",
           182160
          ],
          [
           "US",
           158000
          ],
          [
           "US",
           134000
          ],
          [
           "US",
           206000
          ],
          [
           "US",
           175100
          ],
          [
           "US",
           189500
          ],
          [
           "US",
           140100
          ],
          [
           "US",
           260500
          ],
          [
           "US",
           175100
          ],
          [
           "US",
           249260
          ],
          [
           "US",
           185400
          ],
          [
           "AU",
           193000
          ],
          [
           "US",
           300000
          ],
          [
           "US",
           200000
          ],
          [
           "US",
           241000
          ],
          [
           "US",
           159000
          ],
          [
           "US",
           161342
          ],
          [
           "US",
           137141
          ],
          [
           "US",
           152500
          ],
          [
           "US",
           240000
          ],
          [
           "US",
           144000
          ],
          [
           "IN",
           4000000
          ],
          [
           "US",
           174000
          ],
          [
           "US",
           152000
          ],
          [
           "US",
           190200
          ],
          [
           "IN",
           7000000
          ]
         ],
         "hovertemplate": "Carreira=Data Science Manager<br>Ano=%{x}<br>Localização Da Empresa=%{y}<br>Localização Do Funcionário=%{customdata[0]}<br>Salário=%{customdata[1]}<extra></extra>",
         "legendgroup": "Data Science Manager",
         "marker": {
          "color": "#00cc96",
          "symbol": "circle"
         },
         "mode": "markers",
         "name": "Data Science Manager",
         "showlegend": true,
         "type": "scattergl",
         "x": [
          2022,
          2022,
          2022,
          2022,
          2022,
          2022,
          2022,
          2022,
          2022,
          2022,
          2022,
          2022,
          2022,
          2022,
          2022,
          2022,
          2022,
          2022,
          2022,
          2022,
          2022,
          2022,
          2021,
          2021,
          2021,
          2021,
          2021,
          2020,
          2021
         ],
         "xaxis": "x",
         "y": [
          "US",
          "US",
          "US",
          "US",
          "US",
          "US",
          "US",
          "US",
          "US",
          "US",
          "US",
          "US",
          "US",
          "US",
          "AU",
          "US",
          "US",
          "US",
          "US",
          "US",
          "US",
          "US",
          "US",
          "US",
          "US",
          "US",
          "FR",
          "US",
          "IN"
         ],
         "yaxis": "y"
        },
        {
         "customdata": [
          [
           "CL",
           105000
          ],
          [
           "US",
           95000
          ],
          [
           "US",
           70000
          ],
          [
           "US",
           221300
          ],
          [
           "US",
           148700
          ],
          [
           "US",
           165000
          ]
         ],
         "hovertemplate": "Carreira=Data Specialist<br>Ano=%{x}<br>Localização Da Empresa=%{y}<br>Localização Do Funcionário=%{customdata[0]}<br>Salário=%{customdata[1]}<extra></extra>",
         "legendgroup": "Data Specialist",
         "marker": {
          "color": "#ab63fa",
          "symbol": "circle"
         },
         "mode": "markers",
         "name": "Data Specialist",
         "showlegend": true,
         "type": "scattergl",
         "x": [
          2022,
          2022,
          2022,
          2022,
          2022,
          2021
         ],
         "xaxis": "x",
         "y": [
          "US",
          "US",
          "US",
          "US",
          "US",
          "US"
         ],
         "yaxis": "y"
        },
        {
         "customdata": [
          [
           "US",
           150000
          ],
          [
           "IN",
           50000
          ],
          [
           "US",
           100000
          ],
          [
           "IN",
           1400000
          ],
          [
           "CA",
           90000
          ],
          [
           "US",
           135000
          ],
          [
           "LU",
           50000
          ],
          [
           "US",
           100000
          ]
         ],
         "hovertemplate": "Carreira=Business Data Analyst<br>Ano=%{x}<br>Localização Da Empresa=%{y}<br>Localização Do Funcionário=%{customdata[0]}<br>Salário=%{customdata[1]}<extra></extra>",
         "legendgroup": "Business Data Analyst",
         "marker": {
          "color": "#FFA15A",
          "symbol": "circle"
         },
         "mode": "markers",
         "name": "Business Data Analyst",
         "showlegend": true,
         "type": "scattergl",
         "x": [
          2022,
          2022,
          2022,
          2022,
          2022,
          2020,
          2021,
          2020
         ],
         "xaxis": "x",
         "y": [
          "US",
          "AS",
          "US",
          "IN",
          "CA",
          "US",
          "LU",
          "US"
         ],
         "yaxis": "y"
        },
        {
         "customdata": [
          [
           "US",
           108000
          ],
          [
           "BO",
           75000
          ],
          [
           "US",
           173000
          ],
          [
           "FR",
           73400
          ],
          [
           "IN",
           2400000
          ],
          [
           "BO",
           75000
          ],
          [
           "TN",
           29000
          ],
          [
           "VN",
           38400
          ],
          [
           "US",
           423000
          ]
         ],
         "hovertemplate": "Carreira=Applied Machine Learning Scientist<br>Ano=%{x}<br>Localização Da Empresa=%{y}<br>Localização Do Funcionário=%{customdata[0]}<br>Salário=%{customdata[1]}<extra></extra>",
         "legendgroup": "Applied Machine Learning Scientist",
         "marker": {
          "color": "#19d3f3",
          "symbol": "circle"
         },
         "mode": "markers",
         "name": "Applied Machine Learning Scientist",
         "showlegend": true,
         "type": "scattergl",
         "x": [
          2022,
          2022,
          2022,
          2022,
          2022,
          2022,
          2022,
          2021,
          2021
         ],
         "xaxis": "x",
         "y": [
          "US",
          "US",
          "US",
          "GB",
          "IN",
          "US",
          "CZ",
          "US",
          "US"
         ],
         "yaxis": "y"
        },
        {
         "customdata": [
          [
           "FR",
           20000
          ],
          [
           "IN",
           900000
          ]
         ],
         "hovertemplate": "Carreira=Machine Learning Research Engineer<br>Ano=%{x}<br>Localização Da Empresa=%{y}<br>Localização Do Funcionário=%{customdata[0]}<br>Salário=%{customdata[1]}<extra></extra>",
         "legendgroup": "Machine Learning Research Engineer",
         "marker": {
          "color": "#FF6692",
          "symbol": "circle"
         },
         "mode": "markers",
         "name": "Machine Learning Research Engineer",
         "showlegend": true,
         "type": "scattergl",
         "x": [
          2021,
          2021
         ],
         "xaxis": "x",
         "y": [
          "FR",
          "IN"
         ],
         "yaxis": "y"
        },
        {
         "customdata": [
          [
           "US",
           193900
          ],
          [
           "US",
           129300
          ],
          [
           "US",
           200000
          ],
          [
           "US",
           180000
          ],
          [
           "US",
           216000
          ],
          [
           "US",
           144000
          ],
          [
           "EG",
           22800
          ],
          [
           "US",
           160000
          ],
          [
           "US",
           112300
          ],
          [
           "US",
           153000
          ],
          [
           "US",
           120000
          ],
          [
           "US",
           225000
          ],
          [
           "JP",
           260000
          ],
          [
           "US",
           225000
          ],
          [
           "PK",
           12000
          ]
         ],
         "hovertemplate": "Carreira=Machine Learning Scientist<br>Ano=%{x}<br>Localização Da Empresa=%{y}<br>Localização Do Funcionário=%{customdata[0]}<br>Salário=%{customdata[1]}<extra></extra>",
         "legendgroup": "Machine Learning Scientist",
         "marker": {
          "color": "#B6E880",
          "symbol": "circle"
         },
         "mode": "markers",
         "name": "Machine Learning Scientist",
         "showlegend": true,
         "type": "scattergl",
         "x": [
          2022,
          2022,
          2022,
          2022,
          2022,
          2022,
          2022,
          2022,
          2022,
          2022,
          2021,
          2021,
          2020,
          2021,
          2021
         ],
         "xaxis": "x",
         "y": [
          "US",
          "US",
          "US",
          "US",
          "US",
          "US",
          "EG",
          "US",
          "US",
          "US",
          "US",
          "US",
          "JP",
          "CA",
          "PK"
         ],
         "yaxis": "y"
        },
        {
         "customdata": [
          [
           "TH",
           15000
          ],
          [
           "US",
           180000
          ],
          [
           "CA",
           100000
          ],
          [
           "CA",
           100000
          ],
          [
           "IQ",
           100000
          ]
         ],
         "hovertemplate": "Carreira=Machine Learning Developer<br>Ano=%{x}<br>Localização Da Empresa=%{y}<br>Localização Do Funcionário=%{customdata[0]}<br>Salário=%{customdata[1]}<extra></extra>",
         "legendgroup": "Machine Learning Developer",
         "marker": {
          "color": "#FF97FF",
          "symbol": "circle"
         },
         "mode": "markers",
         "name": "Machine Learning Developer",
         "showlegend": true,
         "type": "scattergl",
         "x": [
          2021,
          2022,
          2022,
          2022,
          2021
         ],
         "xaxis": "x",
         "y": [
          "TH",
          "US",
          "CA",
          "CA",
          "IQ"
         ],
         "yaxis": "y"
        },
        {
         "customdata": [
          [
           "ES",
           193000
          ],
          [
           "US",
           150000
          ],
          [
           "DE",
           51999
          ],
          [
           "US",
           153000
          ],
          [
           "ES",
           70000
          ],
          [
           "US",
           174000
          ]
         ],
         "hovertemplate": "Carreira=Data Engineering Manager<br>Ano=%{x}<br>Localização Da Empresa=%{y}<br>Localização Do Funcionário=%{customdata[0]}<br>Salário=%{customdata[1]}<extra></extra>",
         "legendgroup": "Data Engineering Manager",
         "marker": {
          "color": "#FECB52",
          "symbol": "circle"
         },
         "mode": "markers",
         "name": "Data Engineering Manager",
         "showlegend": true,
         "type": "scattergl",
         "x": [
          2022,
          2021,
          2020,
          2021,
          2020,
          2021
         ],
         "xaxis": "x",
         "y": [
          "US",
          "US",
          "DE",
          "US",
          "ES",
          "US"
         ],
         "yaxis": "y"
        },
        {
         "customdata": [
          [
           "FR",
           55000
          ],
          [
           "CA",
           250000
          ],
          [
           "US",
           250000
          ],
          [
           "DE",
           110000
          ],
          [
           "IT",
           130000
          ],
          [
           "DE",
           120000
          ],
          [
           "US",
           325000
          ],
          [
           "JP",
           168000
          ]
         ],
         "hovertemplate": "Carreira=Director of Data Science<br>Ano=%{x}<br>Localização Da Empresa=%{y}<br>Localização Do Funcionário=%{customdata[0]}<br>Salário=%{customdata[1]}<extra></extra>",
         "legendgroup": "Director of Data Science",
         "marker": {
          "color": "#636efa",
          "symbol": "circle"
         },
         "mode": "markers",
         "name": "Director of Data Science",
         "showlegend": true,
         "type": "scattergl",
         "x": [
          2022,
          2022,
          2021,
          2021,
          2021,
          2021,
          2020,
          2021
         ],
         "xaxis": "x",
         "y": [
          "FR",
          "CA",
          "US",
          "DE",
          "PL",
          "DE",
          "US",
          "JP"
         ],
         "yaxis": "y"
        },
        {
         "customdata": [
          [
           "US",
           75000
          ],
          [
           "US",
           100000
          ],
          [
           "US",
           450000
          ]
         ],
         "hovertemplate": "Carreira=Financial Data Analyst<br>Ano=%{x}<br>Localização Da Empresa=%{y}<br>Localização Do Funcionário=%{customdata[0]}<br>Salário=%{customdata[1]}<extra></extra>",
         "legendgroup": "Financial Data Analyst",
         "marker": {
          "color": "#EF553B",
          "symbol": "circle"
         },
         "mode": "markers",
         "name": "Financial Data Analyst",
         "showlegend": true,
         "type": "scattergl",
         "x": [
          2022,
          2022,
          2021
         ],
         "xaxis": "x",
         "y": [
          "US",
          "US",
          "US"
         ],
         "yaxis": "y"
        },
        {
         "customdata": [
          [
           "DK",
           120000
          ],
          [
           "AU",
           150000
          ],
          [
           "DE",
           81000
          ],
          [
           "US",
           70000
          ]
         ],
         "hovertemplate": "Carreira=Computer Vision Software Engineer<br>Ano=%{x}<br>Localização Da Empresa=%{y}<br>Localização Do Funcionário=%{customdata[0]}<br>Salário=%{customdata[1]}<extra></extra>",
         "legendgroup": "Computer Vision Software Engineer",
         "marker": {
          "color": "#00cc96",
          "symbol": "circle"
         },
         "mode": "markers",
         "name": "Computer Vision Software Engineer",
         "showlegend": true,
         "type": "scattergl",
         "x": [
          2021,
          2022,
          2021,
          2021
         ],
         "xaxis": "x",
         "y": [
          "DK",
          "AU",
          "US",
          "US"
         ],
         "yaxis": "y"
        },
        {
         "customdata": [
          [
           "US",
           113000
          ]
         ],
         "hovertemplate": "Carreira=Data Analytics Consultant<br>Ano=%{x}<br>Localização Da Empresa=%{y}<br>Localização Do Funcionário=%{customdata[0]}<br>Salário=%{customdata[1]}<extra></extra>",
         "legendgroup": "Data Analytics Consultant",
         "marker": {
          "color": "#ab63fa",
          "symbol": "circle"
         },
         "mode": "markers",
         "name": "Data Analytics Consultant",
         "showlegend": true,
         "type": "scattergl",
         "x": [
          2022
         ],
         "xaxis": "x",
         "y": [
          "US"
         ],
         "yaxis": "y"
        },
        {
         "customdata": [
          [
           "US",
           140000
          ],
          [
           "HN",
           20000
          ],
          [
           "IN",
           450000
          ]
         ],
         "hovertemplate": "Carreira=Product Data Analyst<br>Ano=%{x}<br>Localização Da Empresa=%{y}<br>Localização Do Funcionário=%{customdata[0]}<br>Salário=%{customdata[1]}<extra></extra>",
         "legendgroup": "Product Data Analyst",
         "marker": {
          "color": "#FFA15A",
          "symbol": "circle"
         },
         "mode": "markers",
         "name": "Product Data Analyst",
         "showlegend": true,
         "type": "scattergl",
         "x": [
          2022,
          2020,
          2020
         ],
         "xaxis": "x",
         "y": [
          "US",
          "HN",
          "IN"
         ],
         "yaxis": "y"
        },
        {
         "customdata": [
          [
           "US",
           186000
          ],
          [
           "US",
           148800
          ],
          [
           "PT",
           53000
          ],
          [
           "PT",
           44000
          ],
          [
           "US",
           195000
          ]
         ],
         "hovertemplate": "Carreira=Machine Learning Infrastructure Engineer<br>Ano=%{x}<br>Localização Da Empresa=%{y}<br>Localização Do Funcionário=%{customdata[0]}<br>Salário=%{customdata[1]}<extra></extra>",
         "legendgroup": "Machine Learning Infrastructure Engineer",
         "marker": {
          "color": "#19d3f3",
          "symbol": "circle"
         },
         "mode": "markers",
         "name": "Machine Learning Infrastructure Engineer",
         "showlegend": true,
         "type": "scattergl",
         "x": [
          2022,
          2022,
          2022,
          2020,
          2021
         ],
         "xaxis": "x",
         "y": [
          "US",
          "US",
          "PT",
          "PT",
          "US"
         ],
         "yaxis": "y"
        },
        {
         "customdata": [
          [
           "AT",
           50000
          ],
          [
           "US",
           157000
          ],
          [
           "US",
           380000
          ],
          [
           "US",
           177000
          ],
          [
           "GB",
           80000
          ],
          [
           "GB",
           68000
          ]
         ],
         "hovertemplate": "Carreira=Applied Data Scientist<br>Ano=%{x}<br>Localização Da Empresa=%{y}<br>Localização Do Funcionário=%{customdata[0]}<br>Salário=%{customdata[1]}<extra></extra>",
         "legendgroup": "Applied Data Scientist",
         "marker": {
          "color": "#FF6692",
          "symbol": "circle"
         },
         "mode": "markers",
         "name": "Applied Data Scientist",
         "showlegend": true,
         "type": "scattergl",
         "x": [
          2022,
          2022,
          2022,
          2022,
          2021,
          2021
         ],
         "xaxis": "x",
         "y": [
          "AT",
          "US",
          "US",
          "US",
          "GB",
          "CA"
         ],
         "yaxis": "y"
        },
        {
         "customdata": [
          [
           "US",
           250000
          ]
         ],
         "hovertemplate": "Carreira=Cloud Data Architect<br>Ano=%{x}<br>Localização Da Empresa=%{y}<br>Localização Do Funcionário=%{customdata[0]}<br>Salário=%{customdata[1]}<extra></extra>",
         "legendgroup": "Cloud Data Architect",
         "marker": {
          "color": "#B6E880",
          "symbol": "circle"
         },
         "mode": "markers",
         "name": "Cloud Data Architect",
         "showlegend": true,
         "type": "scattergl",
         "x": [
          2021
         ],
         "xaxis": "x",
         "y": [
          "US"
         ],
         "yaxis": "y"
        },
        {
         "customdata": [
          [
           "US",
           145000
          ],
          [
           "US",
           105400
          ],
          [
           "US",
           150260
          ],
          [
           "US",
           109280
          ],
          [
           "US",
           120000
          ],
          [
           "US",
           120000
          ],
          [
           "US",
           140000
          ]
         ],
         "hovertemplate": "Carreira=Data Analytics Manager<br>Ano=%{x}<br>Localização Da Empresa=%{y}<br>Localização Do Funcionário=%{customdata[0]}<br>Salário=%{customdata[1]}<extra></extra>",
         "legendgroup": "Data Analytics Manager",
         "marker": {
          "color": "#FF97FF",
          "symbol": "circle"
         },
         "mode": "markers",
         "name": "Data Analytics Manager",
         "showlegend": true,
         "type": "scattergl",
         "x": [
          2022,
          2022,
          2022,
          2022,
          2021,
          2021,
          2021
         ],
         "xaxis": "x",
         "y": [
          "US",
          "US",
          "US",
          "US",
          "US",
          "US",
          "US"
         ],
         "yaxis": "y"
        },
        {
         "customdata": [
          [
           "CA",
           150000
          ],
          [
           "GB",
           75000
          ],
          [
           "US",
           276000
          ],
          [
           "PR",
           160000
          ],
          [
           "NZ",
           125000
          ],
          [
           "PT",
           56000
          ]
         ],
         "hovertemplate": "Carreira=Lead Data Engineer<br>Ano=%{x}<br>Localização Da Empresa=%{y}<br>Localização Do Funcionário=%{customdata[0]}<br>Salário=%{customdata[1]}<extra></extra>",
         "legendgroup": "Lead Data Engineer",
         "marker": {
          "color": "#FECB52",
          "symbol": "circle"
         },
         "mode": "markers",
         "name": "Lead Data Engineer",
         "showlegend": true,
         "type": "scattergl",
         "x": [
          2022,
          2021,
          2021,
          2021,
          2020,
          2020
         ],
         "xaxis": "x",
         "y": [
          "CA",
          "GB",
          "US",
          "US",
          "NZ",
          "US"
         ],
         "yaxis": "y"
        },
        {
         "customdata": [
          [
           "IN",
           6000000
          ]
         ],
         "hovertemplate": "Carreira=Head of Machine Learning<br>Ano=%{x}<br>Localização Da Empresa=%{y}<br>Localização Do Funcionário=%{customdata[0]}<br>Salário=%{customdata[1]}<extra></extra>",
         "legendgroup": "Head of Machine Learning",
         "marker": {
          "color": "#636efa",
          "symbol": "circle"
         },
         "mode": "markers",
         "name": "Head of Machine Learning",
         "showlegend": true,
         "type": "scattergl",
         "x": [
          2022
         ],
         "xaxis": "x",
         "y": [
          "IN"
         ],
         "yaxis": "y"
        },
        {
         "customdata": [
          [
           "AR",
           60000
          ],
          [
           "CA",
           159500
          ],
          [
           "GR",
           34000
          ]
         ],
         "hovertemplate": "Carreira=Data Science Engineer<br>Ano=%{x}<br>Localização Da Empresa=%{y}<br>Localização Do Funcionário=%{customdata[0]}<br>Salário=%{customdata[1]}<extra></extra>",
         "legendgroup": "Data Science Engineer",
         "marker": {
          "color": "#EF553B",
          "symbol": "circle"
         },
         "mode": "markers",
         "name": "Data Science Engineer",
         "showlegend": true,
         "type": "scattergl",
         "x": [
          2022,
          2021,
          2021
         ],
         "xaxis": "x",
         "y": [
          "MX",
          "CA",
          "GR"
         ],
         "yaxis": "y"
        },
        {
         "customdata": [
          [
           "US",
           224000
          ],
          [
           "US",
           167875
          ],
          [
           "RU",
           85000
          ],
          [
           "US",
           110000
          ]
         ],
         "hovertemplate": "Carreira=Head of Data Science<br>Ano=%{x}<br>Localização Da Empresa=%{y}<br>Localização Do Funcionário=%{customdata[0]}<br>Salário=%{customdata[1]}<extra></extra>",
         "legendgroup": "Head of Data Science",
         "marker": {
          "color": "#00cc96",
          "symbol": "circle"
         },
         "mode": "markers",
         "name": "Head of Data Science",
         "showlegend": true,
         "type": "scattergl",
         "x": [
          2022,
          2022,
          2021,
          2021
         ],
         "xaxis": "x",
         "y": [
          "US",
          "US",
          "RU",
          "US"
         ],
         "yaxis": "y"
        },
        {
         "customdata": [
          [
           "PT",
           10000
          ],
          [
           "BR",
           24000
          ],
          [
           "US",
           125000
          ],
          [
           "DK",
           180000
          ],
          [
           "RU",
           60000
          ],
          [
           "BR",
           102000
          ]
         ],
         "hovertemplate": "Carreira=Computer Vision Engineer<br>Ano=%{x}<br>Localização Da Empresa=%{y}<br>Localização Do Funcionário=%{customdata[0]}<br>Salário=%{customdata[1]}<extra></extra>",
         "legendgroup": "Computer Vision Engineer",
         "marker": {
          "color": "#ab63fa",
          "symbol": "circle"
         },
         "mode": "markers",
         "name": "Computer Vision Engineer",
         "showlegend": true,
         "type": "scattergl",
         "x": [
          2022,
          2021,
          2022,
          2021,
          2020,
          2021
         ],
         "xaxis": "x",
         "y": [
          "LU",
          "BR",
          "US",
          "DK",
          "US",
          "BR"
         ],
         "yaxis": "y"
        },
        {
         "customdata": [
          [
           "CA",
           75000
          ],
          [
           "US",
           170000
          ]
         ],
         "hovertemplate": "Carreira=Principal Data Analyst<br>Ano=%{x}<br>Localização Da Empresa=%{y}<br>Localização Do Funcionário=%{customdata[0]}<br>Salário=%{customdata[1]}<extra></extra>",
         "legendgroup": "Principal Data Analyst",
         "marker": {
          "color": "#FFA15A",
          "symbol": "circle"
         },
         "mode": "markers",
         "name": "Principal Data Analyst",
         "showlegend": true,
         "type": "scattergl",
         "x": [
          2022,
          2021
         ],
         "xaxis": "x",
         "y": [
          "CA",
          "US"
         ],
         "yaxis": "y"
        },
        {
         "customdata": [
          [
           "US",
           405000
          ]
         ],
         "hovertemplate": "Carreira=Data Analytics Lead<br>Ano=%{x}<br>Localização Da Empresa=%{y}<br>Localização Do Funcionário=%{customdata[0]}<br>Salário=%{customdata[1]}<extra></extra>",
         "legendgroup": "Data Analytics Lead",
         "marker": {
          "color": "#19d3f3",
          "symbol": "circle"
         },
         "mode": "markers",
         "name": "Data Analytics Lead",
         "showlegend": true,
         "type": "scattergl",
         "x": [
          2022
         ],
         "xaxis": "x",
         "y": [
          "US"
         ],
         "yaxis": "y"
        },
        {
         "customdata": [
          [
           "US",
           220000
          ],
          [
           "DE",
           148000
          ],
          [
           "US",
           416000
          ],
          [
           "DE",
           147000
          ],
          [
           "DE",
           130000
          ],
          [
           "US",
           235000
          ],
          [
           "US",
           151000
          ]
         ],
         "hovertemplate": "Carreira=Principal Data Scientist<br>Ano=%{x}<br>Localização Da Empresa=%{y}<br>Localização Do Funcionário=%{customdata[0]}<br>Salário=%{customdata[1]}<extra></extra>",
         "legendgroup": "Principal Data Scientist",
         "marker": {
          "color": "#FF6692",
          "symbol": "circle"
         },
         "mode": "markers",
         "name": "Principal Data Scientist",
         "showlegend": true,
         "type": "scattergl",
         "x": [
          2021,
          2022,
          2021,
          2021,
          2020,
          2021,
          2021
         ],
         "xaxis": "x",
         "y": [
          "US",
          "DE",
          "US",
          "DE",
          "DE",
          "US",
          "US"
         ],
         "yaxis": "y"
        },
        {
         "customdata": [
          [
           "US",
           200000
          ],
          [
           "US",
           600000
          ],
          [
           "US",
           185000
          ]
         ],
         "hovertemplate": "Carreira=Principal Data Engineer<br>Ano=%{x}<br>Localização Da Empresa=%{y}<br>Localização Do Funcionário=%{customdata[0]}<br>Salário=%{customdata[1]}<extra></extra>",
         "legendgroup": "Principal Data Engineer",
         "marker": {
          "color": "#B6E880",
          "symbol": "circle"
         },
         "mode": "markers",
         "name": "Principal Data Engineer",
         "showlegend": true,
         "type": "scattergl",
         "x": [
          2021,
          2021,
          2021
         ],
         "xaxis": "x",
         "y": [
          "US",
          "US",
          "US"
         ],
         "yaxis": "y"
        },
        {
         "customdata": [
          [
           "US",
           170000
          ],
          [
           "US",
           87000
          ],
          [
           "IN",
           1450000
          ]
         ],
         "hovertemplate": "Carreira=Lead Data Analyst<br>Ano=%{x}<br>Localização Da Empresa=%{y}<br>Localização Do Funcionário=%{customdata[0]}<br>Salário=%{customdata[1]}<extra></extra>",
         "legendgroup": "Lead Data Analyst",
         "marker": {
          "color": "#FF97FF",
          "symbol": "circle"
         },
         "mode": "markers",
         "name": "Lead Data Analyst",
         "showlegend": true,
         "type": "scattergl",
         "x": [
          2021,
          2020,
          2021
         ],
         "xaxis": "x",
         "y": [
          "US",
          "US",
          "IN"
         ],
         "yaxis": "y"
        },
        {
         "customdata": [
          [
           "GB",
           82500
          ],
          [
           "US",
           200000
          ]
         ],
         "hovertemplate": "Carreira=Director of Data Engineering<br>Ano=%{x}<br>Localização Da Empresa=%{y}<br>Localização Do Funcionário=%{customdata[0]}<br>Salário=%{customdata[1]}<extra></extra>",
         "legendgroup": "Director of Data Engineering",
         "marker": {
          "color": "#FECB52",
          "symbol": "circle"
         },
         "mode": "markers",
         "name": "Director of Data Engineering",
         "showlegend": true,
         "type": "scattergl",
         "x": [
          2021,
          2021
         ],
         "xaxis": "x",
         "y": [
          "GB",
          "US"
         ],
         "yaxis": "y"
        },
        {
         "customdata": [
          [
           "SG",
           120000
          ],
          [
           "BR",
           160000
          ]
         ],
         "hovertemplate": "Carreira=Cloud Data Engineer<br>Ano=%{x}<br>Localização Da Empresa=%{y}<br>Localização Do Funcionário=%{customdata[0]}<br>Salário=%{customdata[1]}<extra></extra>",
         "legendgroup": "Cloud Data Engineer",
         "marker": {
          "color": "#636efa",
          "symbol": "circle"
         },
         "mode": "markers",
         "name": "Cloud Data Engineer",
         "showlegend": true,
         "type": "scattergl",
         "x": [
          2021,
          2021
         ],
         "xaxis": "x",
         "y": [
          "SG",
          "US"
         ],
         "yaxis": "y"
        },
        {
         "customdata": [
          [
           "CA",
           125000
          ]
         ],
         "hovertemplate": "Carreira=Big Data Architect<br>Ano=%{x}<br>Localização Da Empresa=%{y}<br>Localização Do Funcionário=%{customdata[0]}<br>Salário=%{customdata[1]}<extra></extra>",
         "legendgroup": "Big Data Architect",
         "marker": {
          "color": "#EF553B",
          "symbol": "circle"
         },
         "mode": "markers",
         "name": "Big Data Architect",
         "showlegend": true,
         "type": "scattergl",
         "x": [
          2021
         ],
         "xaxis": "x",
         "y": [
          "CA"
         ],
         "yaxis": "y"
        },
        {
         "customdata": [
          [
           "US",
           105000
          ]
         ],
         "hovertemplate": "Carreira=Staff Data Scientist<br>Ano=%{x}<br>Localização Da Empresa=%{y}<br>Localização Do Funcionário=%{customdata[0]}<br>Salário=%{customdata[1]}<extra></extra>",
         "legendgroup": "Staff Data Scientist",
         "marker": {
          "color": "#00cc96",
          "symbol": "circle"
         },
         "mode": "markers",
         "name": "Staff Data Scientist",
         "showlegend": true,
         "type": "scattergl",
         "x": [
          2021
         ],
         "xaxis": "x",
         "y": [
          "US"
         ],
         "yaxis": "y"
        },
        {
         "customdata": [
          [
           "GB",
           45000
          ]
         ],
         "hovertemplate": "Carreira=Finance Data Analyst<br>Ano=%{x}<br>Localização Da Empresa=%{y}<br>Localização Do Funcionário=%{customdata[0]}<br>Salário=%{customdata[1]}<extra></extra>",
         "legendgroup": "Finance Data Analyst",
         "marker": {
          "color": "#ab63fa",
          "symbol": "circle"
         },
         "mode": "markers",
         "name": "Finance Data Analyst",
         "showlegend": true,
         "type": "scattergl",
         "x": [
          2021
         ],
         "xaxis": "x",
         "y": [
          "GB"
         ],
         "yaxis": "y"
        }
       ],
       "layout": {
        "height": 800,
        "legend": {
         "title": {
          "text": "Carreira"
         },
         "tracegroupgap": 0
        },
        "template": {
         "data": {
          "bar": [
           {
            "error_x": {
             "color": "#f2f5fa"
            },
            "error_y": {
             "color": "#f2f5fa"
            },
            "marker": {
             "line": {
              "color": "rgb(17,17,17)",
              "width": 0.5
             },
             "pattern": {
              "fillmode": "overlay",
              "size": 10,
              "solidity": 0.2
             }
            },
            "type": "bar"
           }
          ],
          "barpolar": [
           {
            "marker": {
             "line": {
              "color": "rgb(17,17,17)",
              "width": 0.5
             },
             "pattern": {
              "fillmode": "overlay",
              "size": 10,
              "solidity": 0.2
             }
            },
            "type": "barpolar"
           }
          ],
          "carpet": [
           {
            "aaxis": {
             "endlinecolor": "#A2B1C6",
             "gridcolor": "#506784",
             "linecolor": "#506784",
             "minorgridcolor": "#506784",
             "startlinecolor": "#A2B1C6"
            },
            "baxis": {
             "endlinecolor": "#A2B1C6",
             "gridcolor": "#506784",
             "linecolor": "#506784",
             "minorgridcolor": "#506784",
             "startlinecolor": "#A2B1C6"
            },
            "type": "carpet"
           }
          ],
          "choropleth": [
           {
            "colorbar": {
             "outlinewidth": 0,
             "ticks": ""
            },
            "type": "choropleth"
           }
          ],
          "contour": [
           {
            "colorbar": {
             "outlinewidth": 0,
             "ticks": ""
            },
            "colorscale": [
             [
              0,
              "#0d0887"
             ],
             [
              0.1111111111111111,
              "#46039f"
             ],
             [
              0.2222222222222222,
              "#7201a8"
             ],
             [
              0.3333333333333333,
              "#9c179e"
             ],
             [
              0.4444444444444444,
              "#bd3786"
             ],
             [
              0.5555555555555556,
              "#d8576b"
             ],
             [
              0.6666666666666666,
              "#ed7953"
             ],
             [
              0.7777777777777778,
              "#fb9f3a"
             ],
             [
              0.8888888888888888,
              "#fdca26"
             ],
             [
              1,
              "#f0f921"
             ]
            ],
            "type": "contour"
           }
          ],
          "contourcarpet": [
           {
            "colorbar": {
             "outlinewidth": 0,
             "ticks": ""
            },
            "type": "contourcarpet"
           }
          ],
          "heatmap": [
           {
            "colorbar": {
             "outlinewidth": 0,
             "ticks": ""
            },
            "colorscale": [
             [
              0,
              "#0d0887"
             ],
             [
              0.1111111111111111,
              "#46039f"
             ],
             [
              0.2222222222222222,
              "#7201a8"
             ],
             [
              0.3333333333333333,
              "#9c179e"
             ],
             [
              0.4444444444444444,
              "#bd3786"
             ],
             [
              0.5555555555555556,
              "#d8576b"
             ],
             [
              0.6666666666666666,
              "#ed7953"
             ],
             [
              0.7777777777777778,
              "#fb9f3a"
             ],
             [
              0.8888888888888888,
              "#fdca26"
             ],
             [
              1,
              "#f0f921"
             ]
            ],
            "type": "heatmap"
           }
          ],
          "heatmapgl": [
           {
            "colorbar": {
             "outlinewidth": 0,
             "ticks": ""
            },
            "colorscale": [
             [
              0,
              "#0d0887"
             ],
             [
              0.1111111111111111,
              "#46039f"
             ],
             [
              0.2222222222222222,
              "#7201a8"
             ],
             [
              0.3333333333333333,
              "#9c179e"
             ],
             [
              0.4444444444444444,
              "#bd3786"
             ],
             [
              0.5555555555555556,
              "#d8576b"
             ],
             [
              0.6666666666666666,
              "#ed7953"
             ],
             [
              0.7777777777777778,
              "#fb9f3a"
             ],
             [
              0.8888888888888888,
              "#fdca26"
             ],
             [
              1,
              "#f0f921"
             ]
            ],
            "type": "heatmapgl"
           }
          ],
          "histogram": [
           {
            "marker": {
             "pattern": {
              "fillmode": "overlay",
              "size": 10,
              "solidity": 0.2
             }
            },
            "type": "histogram"
           }
          ],
          "histogram2d": [
           {
            "colorbar": {
             "outlinewidth": 0,
             "ticks": ""
            },
            "colorscale": [
             [
              0,
              "#0d0887"
             ],
             [
              0.1111111111111111,
              "#46039f"
             ],
             [
              0.2222222222222222,
              "#7201a8"
             ],
             [
              0.3333333333333333,
              "#9c179e"
             ],
             [
              0.4444444444444444,
              "#bd3786"
             ],
             [
              0.5555555555555556,
              "#d8576b"
             ],
             [
              0.6666666666666666,
              "#ed7953"
             ],
             [
              0.7777777777777778,
              "#fb9f3a"
             ],
             [
              0.8888888888888888,
              "#fdca26"
             ],
             [
              1,
              "#f0f921"
             ]
            ],
            "type": "histogram2d"
           }
          ],
          "histogram2dcontour": [
           {
            "colorbar": {
             "outlinewidth": 0,
             "ticks": ""
            },
            "colorscale": [
             [
              0,
              "#0d0887"
             ],
             [
              0.1111111111111111,
              "#46039f"
             ],
             [
              0.2222222222222222,
              "#7201a8"
             ],
             [
              0.3333333333333333,
              "#9c179e"
             ],
             [
              0.4444444444444444,
              "#bd3786"
             ],
             [
              0.5555555555555556,
              "#d8576b"
             ],
             [
              0.6666666666666666,
              "#ed7953"
             ],
             [
              0.7777777777777778,
              "#fb9f3a"
             ],
             [
              0.8888888888888888,
              "#fdca26"
             ],
             [
              1,
              "#f0f921"
             ]
            ],
            "type": "histogram2dcontour"
           }
          ],
          "mesh3d": [
           {
            "colorbar": {
             "outlinewidth": 0,
             "ticks": ""
            },
            "type": "mesh3d"
           }
          ],
          "parcoords": [
           {
            "line": {
             "colorbar": {
              "outlinewidth": 0,
              "ticks": ""
             }
            },
            "type": "parcoords"
           }
          ],
          "pie": [
           {
            "automargin": true,
            "type": "pie"
           }
          ],
          "scatter": [
           {
            "marker": {
             "line": {
              "color": "#283442"
             }
            },
            "type": "scatter"
           }
          ],
          "scatter3d": [
           {
            "line": {
             "colorbar": {
              "outlinewidth": 0,
              "ticks": ""
             }
            },
            "marker": {
             "colorbar": {
              "outlinewidth": 0,
              "ticks": ""
             }
            },
            "type": "scatter3d"
           }
          ],
          "scattercarpet": [
           {
            "marker": {
             "colorbar": {
              "outlinewidth": 0,
              "ticks": ""
             }
            },
            "type": "scattercarpet"
           }
          ],
          "scattergeo": [
           {
            "marker": {
             "colorbar": {
              "outlinewidth": 0,
              "ticks": ""
             }
            },
            "type": "scattergeo"
           }
          ],
          "scattergl": [
           {
            "marker": {
             "line": {
              "color": "#283442"
             }
            },
            "type": "scattergl"
           }
          ],
          "scattermapbox": [
           {
            "marker": {
             "colorbar": {
              "outlinewidth": 0,
              "ticks": ""
             }
            },
            "type": "scattermapbox"
           }
          ],
          "scatterpolar": [
           {
            "marker": {
             "colorbar": {
              "outlinewidth": 0,
              "ticks": ""
             }
            },
            "type": "scatterpolar"
           }
          ],
          "scatterpolargl": [
           {
            "marker": {
             "colorbar": {
              "outlinewidth": 0,
              "ticks": ""
             }
            },
            "type": "scatterpolargl"
           }
          ],
          "scatterternary": [
           {
            "marker": {
             "colorbar": {
              "outlinewidth": 0,
              "ticks": ""
             }
            },
            "type": "scatterternary"
           }
          ],
          "surface": [
           {
            "colorbar": {
             "outlinewidth": 0,
             "ticks": ""
            },
            "colorscale": [
             [
              0,
              "#0d0887"
             ],
             [
              0.1111111111111111,
              "#46039f"
             ],
             [
              0.2222222222222222,
              "#7201a8"
             ],
             [
              0.3333333333333333,
              "#9c179e"
             ],
             [
              0.4444444444444444,
              "#bd3786"
             ],
             [
              0.5555555555555556,
              "#d8576b"
             ],
             [
              0.6666666666666666,
              "#ed7953"
             ],
             [
              0.7777777777777778,
              "#fb9f3a"
             ],
             [
              0.8888888888888888,
              "#fdca26"
             ],
             [
              1,
              "#f0f921"
             ]
            ],
            "type": "surface"
           }
          ],
          "table": [
           {
            "cells": {
             "fill": {
              "color": "#506784"
             },
             "line": {
              "color": "rgb(17,17,17)"
             }
            },
            "header": {
             "fill": {
              "color": "#2a3f5f"
             },
             "line": {
              "color": "rgb(17,17,17)"
             }
            },
            "type": "table"
           }
          ]
         },
         "layout": {
          "annotationdefaults": {
           "arrowcolor": "#f2f5fa",
           "arrowhead": 0,
           "arrowwidth": 1
          },
          "autotypenumbers": "strict",
          "coloraxis": {
           "colorbar": {
            "outlinewidth": 0,
            "ticks": ""
           }
          },
          "colorscale": {
           "diverging": [
            [
             0,
             "#8e0152"
            ],
            [
             0.1,
             "#c51b7d"
            ],
            [
             0.2,
             "#de77ae"
            ],
            [
             0.3,
             "#f1b6da"
            ],
            [
             0.4,
             "#fde0ef"
            ],
            [
             0.5,
             "#f7f7f7"
            ],
            [
             0.6,
             "#e6f5d0"
            ],
            [
             0.7,
             "#b8e186"
            ],
            [
             0.8,
             "#7fbc41"
            ],
            [
             0.9,
             "#4d9221"
            ],
            [
             1,
             "#276419"
            ]
           ],
           "sequential": [
            [
             0,
             "#0d0887"
            ],
            [
             0.1111111111111111,
             "#46039f"
            ],
            [
             0.2222222222222222,
             "#7201a8"
            ],
            [
             0.3333333333333333,
             "#9c179e"
            ],
            [
             0.4444444444444444,
             "#bd3786"
            ],
            [
             0.5555555555555556,
             "#d8576b"
            ],
            [
             0.6666666666666666,
             "#ed7953"
            ],
            [
             0.7777777777777778,
             "#fb9f3a"
            ],
            [
             0.8888888888888888,
             "#fdca26"
            ],
            [
             1,
             "#f0f921"
            ]
           ],
           "sequentialminus": [
            [
             0,
             "#0d0887"
            ],
            [
             0.1111111111111111,
             "#46039f"
            ],
            [
             0.2222222222222222,
             "#7201a8"
            ],
            [
             0.3333333333333333,
             "#9c179e"
            ],
            [
             0.4444444444444444,
             "#bd3786"
            ],
            [
             0.5555555555555556,
             "#d8576b"
            ],
            [
             0.6666666666666666,
             "#ed7953"
            ],
            [
             0.7777777777777778,
             "#fb9f3a"
            ],
            [
             0.8888888888888888,
             "#fdca26"
            ],
            [
             1,
             "#f0f921"
            ]
           ]
          },
          "colorway": [
           "#636efa",
           "#EF553B",
           "#00cc96",
           "#ab63fa",
           "#FFA15A",
           "#19d3f3",
           "#FF6692",
           "#B6E880",
           "#FF97FF",
           "#FECB52"
          ],
          "font": {
           "color": "#f2f5fa"
          },
          "geo": {
           "bgcolor": "rgb(17,17,17)",
           "lakecolor": "rgb(17,17,17)",
           "landcolor": "rgb(17,17,17)",
           "showlakes": true,
           "showland": true,
           "subunitcolor": "#506784"
          },
          "hoverlabel": {
           "align": "left"
          },
          "hovermode": "closest",
          "mapbox": {
           "style": "dark"
          },
          "paper_bgcolor": "rgb(17,17,17)",
          "plot_bgcolor": "rgb(17,17,17)",
          "polar": {
           "angularaxis": {
            "gridcolor": "#506784",
            "linecolor": "#506784",
            "ticks": ""
           },
           "bgcolor": "rgb(17,17,17)",
           "radialaxis": {
            "gridcolor": "#506784",
            "linecolor": "#506784",
            "ticks": ""
           }
          },
          "scene": {
           "xaxis": {
            "backgroundcolor": "rgb(17,17,17)",
            "gridcolor": "#506784",
            "gridwidth": 2,
            "linecolor": "#506784",
            "showbackground": true,
            "ticks": "",
            "zerolinecolor": "#C8D4E3"
           },
           "yaxis": {
            "backgroundcolor": "rgb(17,17,17)",
            "gridcolor": "#506784",
            "gridwidth": 2,
            "linecolor": "#506784",
            "showbackground": true,
            "ticks": "",
            "zerolinecolor": "#C8D4E3"
           },
           "zaxis": {
            "backgroundcolor": "rgb(17,17,17)",
            "gridcolor": "#506784",
            "gridwidth": 2,
            "linecolor": "#506784",
            "showbackground": true,
            "ticks": "",
            "zerolinecolor": "#C8D4E3"
           }
          },
          "shapedefaults": {
           "line": {
            "color": "#f2f5fa"
           }
          },
          "sliderdefaults": {
           "bgcolor": "#C8D4E3",
           "bordercolor": "rgb(17,17,17)",
           "borderwidth": 1,
           "tickwidth": 0
          },
          "ternary": {
           "aaxis": {
            "gridcolor": "#506784",
            "linecolor": "#506784",
            "ticks": ""
           },
           "baxis": {
            "gridcolor": "#506784",
            "linecolor": "#506784",
            "ticks": ""
           },
           "bgcolor": "rgb(17,17,17)",
           "caxis": {
            "gridcolor": "#506784",
            "linecolor": "#506784",
            "ticks": ""
           }
          },
          "title": {
           "x": 0.05
          },
          "updatemenudefaults": {
           "bgcolor": "#506784",
           "borderwidth": 0
          },
          "xaxis": {
           "automargin": true,
           "gridcolor": "#283442",
           "linecolor": "#506784",
           "ticks": "",
           "title": {
            "standoff": 15
           },
           "zerolinecolor": "#283442",
           "zerolinewidth": 2
          },
          "yaxis": {
           "automargin": true,
           "gridcolor": "#283442",
           "linecolor": "#506784",
           "ticks": "",
           "title": {
            "standoff": 15
           },
           "zerolinecolor": "#283442",
           "zerolinewidth": 2
          }
         }
        },
        "title": {
         "text": "Localização da Empresa e do Funcionário Por Ano"
        },
        "width": 1000,
        "xaxis": {
         "anchor": "y",
         "domain": [
          0,
          1
         ],
         "title": {
          "text": "Ano"
         }
        },
        "yaxis": {
         "anchor": "x",
         "domain": [
          0,
          1
         ],
         "title": {
          "text": "Localização Da Empresa"
         }
        }
       }
      }
     },
     "metadata": {},
     "output_type": "display_data"
    }
   ],
   "source": [
    "px.scatter(df, x='work_year', y='company_location', color='job_title',title='Localização da Empresa e do Funcionário Por Ano',\n",
    "           hover_data=['employee_residence', 'salary'], labels={'work_year':'Ano', 'company_location':'Localização Da Empresa', 'job_title':'Carreira', 'employee_residence':'Localização Do Funcionário', 'salary':'Salário' },\n",
    "           height=800, width=1000, template='plotly_dark')\n"
   ]
  },
  {
   "cell_type": "code",
   "execution_count": null,
   "metadata": {},
   "outputs": [],
   "source": []
  }
 ],
 "metadata": {
  "kernelspec": {
   "display_name": "Python 3",
   "language": "python",
   "name": "python3"
  },
  "language_info": {
   "codemirror_mode": {
    "name": "ipython",
    "version": 3
   },
   "file_extension": ".py",
   "mimetype": "text/x-python",
   "name": "python",
   "nbconvert_exporter": "python",
   "pygments_lexer": "ipython3",
   "version": "3.10.9"
  },
  "orig_nbformat": 4,
  "vscode": {
   "interpreter": {
    "hash": "7b1f2b33e866b0bf2409397e5f58ba9cdf170d3b7f64c8f359c79998e2f88ad4"
   }
  }
 },
 "nbformat": 4,
 "nbformat_minor": 2
}
